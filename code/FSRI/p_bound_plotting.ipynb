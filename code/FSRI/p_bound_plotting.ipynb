{
 "cells": [
  {
   "cell_type": "code",
   "execution_count": 1,
   "metadata": {},
   "outputs": [
    {
     "data": {
      "text/html": [
       "\n",
       "    <div class=\"bk-root\">\n",
       "        <a href=\"https://bokeh.org\" target=\"_blank\" class=\"bk-logo bk-logo-small bk-logo-notebook\"></a>\n",
       "        <span id=\"1001\">Loading BokehJS ...</span>\n",
       "    </div>"
      ]
     },
     "metadata": {},
     "output_type": "display_data"
    },
    {
     "data": {
      "application/javascript": [
       "\n",
       "(function(root) {\n",
       "  function now() {\n",
       "    return new Date();\n",
       "  }\n",
       "\n",
       "  var force = true;\n",
       "\n",
       "  if (typeof root._bokeh_onload_callbacks === \"undefined\" || force === true) {\n",
       "    root._bokeh_onload_callbacks = [];\n",
       "    root._bokeh_is_loading = undefined;\n",
       "  }\n",
       "\n",
       "  var JS_MIME_TYPE = 'application/javascript';\n",
       "  var HTML_MIME_TYPE = 'text/html';\n",
       "  var EXEC_MIME_TYPE = 'application/vnd.bokehjs_exec.v0+json';\n",
       "  var CLASS_NAME = 'output_bokeh rendered_html';\n",
       "\n",
       "  /**\n",
       "   * Render data to the DOM node\n",
       "   */\n",
       "  function render(props, node) {\n",
       "    var script = document.createElement(\"script\");\n",
       "    node.appendChild(script);\n",
       "  }\n",
       "\n",
       "  /**\n",
       "   * Handle when an output is cleared or removed\n",
       "   */\n",
       "  function handleClearOutput(event, handle) {\n",
       "    var cell = handle.cell;\n",
       "\n",
       "    var id = cell.output_area._bokeh_element_id;\n",
       "    var server_id = cell.output_area._bokeh_server_id;\n",
       "    // Clean up Bokeh references\n",
       "    if (id != null && id in Bokeh.index) {\n",
       "      Bokeh.index[id].model.document.clear();\n",
       "      delete Bokeh.index[id];\n",
       "    }\n",
       "\n",
       "    if (server_id !== undefined) {\n",
       "      // Clean up Bokeh references\n",
       "      var cmd = \"from bokeh.io.state import curstate; print(curstate().uuid_to_server['\" + server_id + \"'].get_sessions()[0].document.roots[0]._id)\";\n",
       "      cell.notebook.kernel.execute(cmd, {\n",
       "        iopub: {\n",
       "          output: function(msg) {\n",
       "            var id = msg.content.text.trim();\n",
       "            if (id in Bokeh.index) {\n",
       "              Bokeh.index[id].model.document.clear();\n",
       "              delete Bokeh.index[id];\n",
       "            }\n",
       "          }\n",
       "        }\n",
       "      });\n",
       "      // Destroy server and session\n",
       "      var cmd = \"import bokeh.io.notebook as ion; ion.destroy_server('\" + server_id + \"')\";\n",
       "      cell.notebook.kernel.execute(cmd);\n",
       "    }\n",
       "  }\n",
       "\n",
       "  /**\n",
       "   * Handle when a new output is added\n",
       "   */\n",
       "  function handleAddOutput(event, handle) {\n",
       "    var output_area = handle.output_area;\n",
       "    var output = handle.output;\n",
       "\n",
       "    // limit handleAddOutput to display_data with EXEC_MIME_TYPE content only\n",
       "    if ((output.output_type != \"display_data\") || (!output.data.hasOwnProperty(EXEC_MIME_TYPE))) {\n",
       "      return\n",
       "    }\n",
       "\n",
       "    var toinsert = output_area.element.find(\".\" + CLASS_NAME.split(' ')[0]);\n",
       "\n",
       "    if (output.metadata[EXEC_MIME_TYPE][\"id\"] !== undefined) {\n",
       "      toinsert[toinsert.length - 1].firstChild.textContent = output.data[JS_MIME_TYPE];\n",
       "      // store reference to embed id on output_area\n",
       "      output_area._bokeh_element_id = output.metadata[EXEC_MIME_TYPE][\"id\"];\n",
       "    }\n",
       "    if (output.metadata[EXEC_MIME_TYPE][\"server_id\"] !== undefined) {\n",
       "      var bk_div = document.createElement(\"div\");\n",
       "      bk_div.innerHTML = output.data[HTML_MIME_TYPE];\n",
       "      var script_attrs = bk_div.children[0].attributes;\n",
       "      for (var i = 0; i < script_attrs.length; i++) {\n",
       "        toinsert[toinsert.length - 1].firstChild.setAttribute(script_attrs[i].name, script_attrs[i].value);\n",
       "      }\n",
       "      // store reference to server id on output_area\n",
       "      output_area._bokeh_server_id = output.metadata[EXEC_MIME_TYPE][\"server_id\"];\n",
       "    }\n",
       "  }\n",
       "\n",
       "  function register_renderer(events, OutputArea) {\n",
       "\n",
       "    function append_mime(data, metadata, element) {\n",
       "      // create a DOM node to render to\n",
       "      var toinsert = this.create_output_subarea(\n",
       "        metadata,\n",
       "        CLASS_NAME,\n",
       "        EXEC_MIME_TYPE\n",
       "      );\n",
       "      this.keyboard_manager.register_events(toinsert);\n",
       "      // Render to node\n",
       "      var props = {data: data, metadata: metadata[EXEC_MIME_TYPE]};\n",
       "      render(props, toinsert[toinsert.length - 1]);\n",
       "      element.append(toinsert);\n",
       "      return toinsert\n",
       "    }\n",
       "\n",
       "    /* Handle when an output is cleared or removed */\n",
       "    events.on('clear_output.CodeCell', handleClearOutput);\n",
       "    events.on('delete.Cell', handleClearOutput);\n",
       "\n",
       "    /* Handle when a new output is added */\n",
       "    events.on('output_added.OutputArea', handleAddOutput);\n",
       "\n",
       "    /**\n",
       "     * Register the mime type and append_mime function with output_area\n",
       "     */\n",
       "    OutputArea.prototype.register_mime_type(EXEC_MIME_TYPE, append_mime, {\n",
       "      /* Is output safe? */\n",
       "      safe: true,\n",
       "      /* Index of renderer in `output_area.display_order` */\n",
       "      index: 0\n",
       "    });\n",
       "  }\n",
       "\n",
       "  // register the mime type if in Jupyter Notebook environment and previously unregistered\n",
       "  if (root.Jupyter !== undefined) {\n",
       "    var events = require('base/js/events');\n",
       "    var OutputArea = require('notebook/js/outputarea').OutputArea;\n",
       "\n",
       "    if (OutputArea.prototype.mime_types().indexOf(EXEC_MIME_TYPE) == -1) {\n",
       "      register_renderer(events, OutputArea);\n",
       "    }\n",
       "  }\n",
       "\n",
       "  \n",
       "  if (typeof (root._bokeh_timeout) === \"undefined\" || force === true) {\n",
       "    root._bokeh_timeout = Date.now() + 5000;\n",
       "    root._bokeh_failed_load = false;\n",
       "  }\n",
       "\n",
       "  var NB_LOAD_WARNING = {'data': {'text/html':\n",
       "     \"<div style='background-color: #fdd'>\\n\"+\n",
       "     \"<p>\\n\"+\n",
       "     \"BokehJS does not appear to have successfully loaded. If loading BokehJS from CDN, this \\n\"+\n",
       "     \"may be due to a slow or bad network connection. Possible fixes:\\n\"+\n",
       "     \"</p>\\n\"+\n",
       "     \"<ul>\\n\"+\n",
       "     \"<li>re-rerun `output_notebook()` to attempt to load from CDN again, or</li>\\n\"+\n",
       "     \"<li>use INLINE resources instead, as so:</li>\\n\"+\n",
       "     \"</ul>\\n\"+\n",
       "     \"<code>\\n\"+\n",
       "     \"from bokeh.resources import INLINE\\n\"+\n",
       "     \"output_notebook(resources=INLINE)\\n\"+\n",
       "     \"</code>\\n\"+\n",
       "     \"</div>\"}};\n",
       "\n",
       "  function display_loaded() {\n",
       "    var el = document.getElementById(\"1001\");\n",
       "    if (el != null) {\n",
       "      el.textContent = \"BokehJS is loading...\";\n",
       "    }\n",
       "    if (root.Bokeh !== undefined) {\n",
       "      if (el != null) {\n",
       "        el.textContent = \"BokehJS \" + root.Bokeh.version + \" successfully loaded.\";\n",
       "      }\n",
       "    } else if (Date.now() < root._bokeh_timeout) {\n",
       "      setTimeout(display_loaded, 100)\n",
       "    }\n",
       "  }\n",
       "\n",
       "\n",
       "  function run_callbacks() {\n",
       "    try {\n",
       "      root._bokeh_onload_callbacks.forEach(function(callback) {\n",
       "        if (callback != null)\n",
       "          callback();\n",
       "      });\n",
       "    } finally {\n",
       "      delete root._bokeh_onload_callbacks\n",
       "    }\n",
       "    console.debug(\"Bokeh: all callbacks have finished\");\n",
       "  }\n",
       "\n",
       "  function load_libs(css_urls, js_urls, callback) {\n",
       "    if (css_urls == null) css_urls = [];\n",
       "    if (js_urls == null) js_urls = [];\n",
       "\n",
       "    root._bokeh_onload_callbacks.push(callback);\n",
       "    if (root._bokeh_is_loading > 0) {\n",
       "      console.debug(\"Bokeh: BokehJS is being loaded, scheduling callback at\", now());\n",
       "      return null;\n",
       "    }\n",
       "    if (js_urls == null || js_urls.length === 0) {\n",
       "      run_callbacks();\n",
       "      return null;\n",
       "    }\n",
       "    console.debug(\"Bokeh: BokehJS not loaded, scheduling load and callback at\", now());\n",
       "    root._bokeh_is_loading = css_urls.length + js_urls.length;\n",
       "\n",
       "    function on_load() {\n",
       "      root._bokeh_is_loading--;\n",
       "      if (root._bokeh_is_loading === 0) {\n",
       "        console.debug(\"Bokeh: all BokehJS libraries/stylesheets loaded\");\n",
       "        run_callbacks()\n",
       "      }\n",
       "    }\n",
       "\n",
       "    function on_error() {\n",
       "      console.error(\"failed to load \" + url);\n",
       "    }\n",
       "\n",
       "    for (var i = 0; i < css_urls.length; i++) {\n",
       "      var url = css_urls[i];\n",
       "      const element = document.createElement(\"link\");\n",
       "      element.onload = on_load;\n",
       "      element.onerror = on_error;\n",
       "      element.rel = \"stylesheet\";\n",
       "      element.type = \"text/css\";\n",
       "      element.href = url;\n",
       "      console.debug(\"Bokeh: injecting link tag for BokehJS stylesheet: \", url);\n",
       "      document.body.appendChild(element);\n",
       "    }\n",
       "\n",
       "    for (var i = 0; i < js_urls.length; i++) {\n",
       "      var url = js_urls[i];\n",
       "      var element = document.createElement('script');\n",
       "      element.onload = on_load;\n",
       "      element.onerror = on_error;\n",
       "      element.async = false;\n",
       "      element.src = url;\n",
       "      console.debug(\"Bokeh: injecting script tag for BokehJS library: \", url);\n",
       "      document.head.appendChild(element);\n",
       "    }\n",
       "  };var element = document.getElementById(\"1001\");\n",
       "  if (element == null) {\n",
       "    console.error(\"Bokeh: ERROR: autoload.js configured with elementid '1001' but no matching script tag was found. \")\n",
       "    return false;\n",
       "  }\n",
       "\n",
       "  function inject_raw_css(css) {\n",
       "    const element = document.createElement(\"style\");\n",
       "    element.appendChild(document.createTextNode(css));\n",
       "    document.body.appendChild(element);\n",
       "  }\n",
       "\n",
       "  \n",
       "  var js_urls = [\"https://cdn.pydata.org/bokeh/release/bokeh-1.4.0.min.js\", \"https://cdn.pydata.org/bokeh/release/bokeh-widgets-1.4.0.min.js\", \"https://cdn.pydata.org/bokeh/release/bokeh-tables-1.4.0.min.js\", \"https://cdn.pydata.org/bokeh/release/bokeh-gl-1.4.0.min.js\"];\n",
       "  var css_urls = [];\n",
       "  \n",
       "\n",
       "  var inline_js = [\n",
       "    function(Bokeh) {\n",
       "      Bokeh.set_log_level(\"info\");\n",
       "    },\n",
       "    function(Bokeh) {\n",
       "    \n",
       "    \n",
       "    }\n",
       "  ];\n",
       "\n",
       "  function run_inline_js() {\n",
       "    \n",
       "    if (root.Bokeh !== undefined || force === true) {\n",
       "      \n",
       "    for (var i = 0; i < inline_js.length; i++) {\n",
       "      inline_js[i].call(root, root.Bokeh);\n",
       "    }\n",
       "    if (force === true) {\n",
       "        display_loaded();\n",
       "      }} else if (Date.now() < root._bokeh_timeout) {\n",
       "      setTimeout(run_inline_js, 100);\n",
       "    } else if (!root._bokeh_failed_load) {\n",
       "      console.log(\"Bokeh: BokehJS failed to load within specified timeout.\");\n",
       "      root._bokeh_failed_load = true;\n",
       "    } else if (force !== true) {\n",
       "      var cell = $(document.getElementById(\"1001\")).parents('.cell').data().cell;\n",
       "      cell.output_area.append_execute_result(NB_LOAD_WARNING)\n",
       "    }\n",
       "\n",
       "  }\n",
       "\n",
       "  if (root._bokeh_is_loading === 0) {\n",
       "    console.debug(\"Bokeh: BokehJS loaded, going straight to plotting\");\n",
       "    run_inline_js();\n",
       "  } else {\n",
       "    load_libs(css_urls, js_urls, function() {\n",
       "      console.debug(\"Bokeh: BokehJS plotting callback run at\", now());\n",
       "      run_inline_js();\n",
       "    });\n",
       "  }\n",
       "}(window));"
      ],
      "application/vnd.bokehjs_load.v0+json": "\n(function(root) {\n  function now() {\n    return new Date();\n  }\n\n  var force = true;\n\n  if (typeof root._bokeh_onload_callbacks === \"undefined\" || force === true) {\n    root._bokeh_onload_callbacks = [];\n    root._bokeh_is_loading = undefined;\n  }\n\n  \n\n  \n  if (typeof (root._bokeh_timeout) === \"undefined\" || force === true) {\n    root._bokeh_timeout = Date.now() + 5000;\n    root._bokeh_failed_load = false;\n  }\n\n  var NB_LOAD_WARNING = {'data': {'text/html':\n     \"<div style='background-color: #fdd'>\\n\"+\n     \"<p>\\n\"+\n     \"BokehJS does not appear to have successfully loaded. If loading BokehJS from CDN, this \\n\"+\n     \"may be due to a slow or bad network connection. Possible fixes:\\n\"+\n     \"</p>\\n\"+\n     \"<ul>\\n\"+\n     \"<li>re-rerun `output_notebook()` to attempt to load from CDN again, or</li>\\n\"+\n     \"<li>use INLINE resources instead, as so:</li>\\n\"+\n     \"</ul>\\n\"+\n     \"<code>\\n\"+\n     \"from bokeh.resources import INLINE\\n\"+\n     \"output_notebook(resources=INLINE)\\n\"+\n     \"</code>\\n\"+\n     \"</div>\"}};\n\n  function display_loaded() {\n    var el = document.getElementById(\"1001\");\n    if (el != null) {\n      el.textContent = \"BokehJS is loading...\";\n    }\n    if (root.Bokeh !== undefined) {\n      if (el != null) {\n        el.textContent = \"BokehJS \" + root.Bokeh.version + \" successfully loaded.\";\n      }\n    } else if (Date.now() < root._bokeh_timeout) {\n      setTimeout(display_loaded, 100)\n    }\n  }\n\n\n  function run_callbacks() {\n    try {\n      root._bokeh_onload_callbacks.forEach(function(callback) {\n        if (callback != null)\n          callback();\n      });\n    } finally {\n      delete root._bokeh_onload_callbacks\n    }\n    console.debug(\"Bokeh: all callbacks have finished\");\n  }\n\n  function load_libs(css_urls, js_urls, callback) {\n    if (css_urls == null) css_urls = [];\n    if (js_urls == null) js_urls = [];\n\n    root._bokeh_onload_callbacks.push(callback);\n    if (root._bokeh_is_loading > 0) {\n      console.debug(\"Bokeh: BokehJS is being loaded, scheduling callback at\", now());\n      return null;\n    }\n    if (js_urls == null || js_urls.length === 0) {\n      run_callbacks();\n      return null;\n    }\n    console.debug(\"Bokeh: BokehJS not loaded, scheduling load and callback at\", now());\n    root._bokeh_is_loading = css_urls.length + js_urls.length;\n\n    function on_load() {\n      root._bokeh_is_loading--;\n      if (root._bokeh_is_loading === 0) {\n        console.debug(\"Bokeh: all BokehJS libraries/stylesheets loaded\");\n        run_callbacks()\n      }\n    }\n\n    function on_error() {\n      console.error(\"failed to load \" + url);\n    }\n\n    for (var i = 0; i < css_urls.length; i++) {\n      var url = css_urls[i];\n      const element = document.createElement(\"link\");\n      element.onload = on_load;\n      element.onerror = on_error;\n      element.rel = \"stylesheet\";\n      element.type = \"text/css\";\n      element.href = url;\n      console.debug(\"Bokeh: injecting link tag for BokehJS stylesheet: \", url);\n      document.body.appendChild(element);\n    }\n\n    for (var i = 0; i < js_urls.length; i++) {\n      var url = js_urls[i];\n      var element = document.createElement('script');\n      element.onload = on_load;\n      element.onerror = on_error;\n      element.async = false;\n      element.src = url;\n      console.debug(\"Bokeh: injecting script tag for BokehJS library: \", url);\n      document.head.appendChild(element);\n    }\n  };var element = document.getElementById(\"1001\");\n  if (element == null) {\n    console.error(\"Bokeh: ERROR: autoload.js configured with elementid '1001' but no matching script tag was found. \")\n    return false;\n  }\n\n  function inject_raw_css(css) {\n    const element = document.createElement(\"style\");\n    element.appendChild(document.createTextNode(css));\n    document.body.appendChild(element);\n  }\n\n  \n  var js_urls = [\"https://cdn.pydata.org/bokeh/release/bokeh-1.4.0.min.js\", \"https://cdn.pydata.org/bokeh/release/bokeh-widgets-1.4.0.min.js\", \"https://cdn.pydata.org/bokeh/release/bokeh-tables-1.4.0.min.js\", \"https://cdn.pydata.org/bokeh/release/bokeh-gl-1.4.0.min.js\"];\n  var css_urls = [];\n  \n\n  var inline_js = [\n    function(Bokeh) {\n      Bokeh.set_log_level(\"info\");\n    },\n    function(Bokeh) {\n    \n    \n    }\n  ];\n\n  function run_inline_js() {\n    \n    if (root.Bokeh !== undefined || force === true) {\n      \n    for (var i = 0; i < inline_js.length; i++) {\n      inline_js[i].call(root, root.Bokeh);\n    }\n    if (force === true) {\n        display_loaded();\n      }} else if (Date.now() < root._bokeh_timeout) {\n      setTimeout(run_inline_js, 100);\n    } else if (!root._bokeh_failed_load) {\n      console.log(\"Bokeh: BokehJS failed to load within specified timeout.\");\n      root._bokeh_failed_load = true;\n    } else if (force !== true) {\n      var cell = $(document.getElementById(\"1001\")).parents('.cell').data().cell;\n      cell.output_area.append_execute_result(NB_LOAD_WARNING)\n    }\n\n  }\n\n  if (root._bokeh_is_loading === 0) {\n    console.debug(\"Bokeh: BokehJS loaded, going straight to plotting\");\n    run_inline_js();\n  } else {\n    load_libs(css_urls, js_urls, function() {\n      console.debug(\"Bokeh: BokehJS plotting callback run at\", now());\n      run_inline_js();\n    });\n  }\n}(window));"
     },
     "metadata": {},
     "output_type": "display_data"
    }
   ],
   "source": [
    "import numpy as np\n",
    "import pandas as pd\n",
    "import scipy.special\n",
    "\n",
    "import bokeh.io\n",
    "import bokeh.plotting\n",
    "\n",
    "bokeh.io.output_notebook()"
   ]
  },
  {
   "cell_type": "markdown",
   "metadata": {},
   "source": [
    "Tuning number of RNAP:"
   ]
  },
  {
   "cell_type": "code",
   "execution_count": 2,
   "metadata": {},
   "outputs": [],
   "source": [
    "# make a range of polymerase copy number values to plot\n",
    "P = np.floor(np.linspace(1,10000,200))\n",
    "\n",
    "# parameters needed for p_bound\n",
    "delta_e_P1 = -2.9 #kBT\n",
    "delta_e_T7 = -8.1 #kBT\n",
    "N_NS = 4.6E6 #bp\n",
    "\n",
    "# compute p_bound from range of P values and parameters\n",
    "p_bound_P1 = 1 / (1 + N_NS/P * np.exp(delta_e_P1))\n",
    "p_bound_T7 = 1 / (1 + N_NS/P * np.exp(delta_e_T7))"
   ]
  },
  {
   "cell_type": "code",
   "execution_count": 3,
   "metadata": {},
   "outputs": [
    {
     "data": {
      "text/html": [
       "\n",
       "\n",
       "\n",
       "\n",
       "\n",
       "\n",
       "  <div class=\"bk-root\" id=\"5b9708c2-ba29-478b-bf59-93e4e6cccb9e\" data-root-id=\"1002\"></div>\n"
      ]
     },
     "metadata": {},
     "output_type": "display_data"
    },
    {
     "data": {
      "application/javascript": [
       "(function(root) {\n",
       "  function embed_document(root) {\n",
       "    \n",
       "  var docs_json = {\"a5cb0e71-10d9-4a88-aa4d-07dff34292b6\":{\"roots\":{\"references\":[{\"attributes\":{\"below\":[{\"id\":\"1011\",\"type\":\"LinearAxis\"}],\"center\":[{\"id\":\"1015\",\"type\":\"Grid\"},{\"id\":\"1020\",\"type\":\"Grid\"},{\"id\":\"1046\",\"type\":\"Legend\"}],\"frame_height\":250,\"frame_width\":350,\"left\":[{\"id\":\"1016\",\"type\":\"LogAxis\"}],\"renderers\":[{\"id\":\"1037\",\"type\":\"GlyphRenderer\"},{\"id\":\"1051\",\"type\":\"GlyphRenderer\"}],\"title\":{\"id\":\"1039\",\"type\":\"Title\"},\"toolbar\":{\"id\":\"1027\",\"type\":\"Toolbar\"},\"x_range\":{\"id\":\"1003\",\"type\":\"DataRange1d\"},\"x_scale\":{\"id\":\"1007\",\"type\":\"LinearScale\"},\"y_range\":{\"id\":\"1005\",\"type\":\"DataRange1d\"},\"y_scale\":{\"id\":\"1009\",\"type\":\"LogScale\"}},\"id\":\"1002\",\"subtype\":\"Figure\",\"type\":\"Plot\"},{\"attributes\":{\"callback\":null,\"data\":{\"x\":{\"__ndarray__\":\"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\",\"dtype\":\"float64\",\"shape\":[200]},\"y\":{\"__ndarray__\":\"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\",\"dtype\":\"float64\",\"shape\":[200]}},\"selected\":{\"id\":\"1073\",\"type\":\"Selection\"},\"selection_policy\":{\"id\":\"1072\",\"type\":\"UnionRenderers\"}},\"id\":\"1048\",\"type\":\"ColumnDataSource\"},{\"attributes\":{},\"id\":\"1072\",\"type\":\"UnionRenderers\"},{\"attributes\":{\"label\":{\"value\":\"T7 A1\"},\"renderers\":[{\"id\":\"1051\",\"type\":\"GlyphRenderer\"}]},\"id\":\"1062\",\"type\":\"LegendItem\"},{\"attributes\":{\"callback\":null,\"data\":{\"x\":{\"__ndarray__\":\"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\",\"dtype\":\"float64\",\"shape\":[200]},\"y\":{\"__ndarray__\":\"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\",\"dtype\":\"float64\",\"shape\":[200]}},\"selected\":{\"id\":\"1061\",\"type\":\"Selection\"},\"selection_policy\":{\"id\":\"1060\",\"type\":\"UnionRenderers\"}},\"id\":\"1034\",\"type\":\"ColumnDataSource\"},{\"attributes\":{},\"id\":\"1025\",\"type\":\"ResetTool\"},{\"attributes\":{},\"id\":\"1026\",\"type\":\"HelpTool\"},{\"attributes\":{\"callback\":null},\"id\":\"1003\",\"type\":\"DataRange1d\"},{\"attributes\":{},\"id\":\"1073\",\"type\":\"Selection\"},{\"attributes\":{\"active_drag\":\"auto\",\"active_inspect\":\"auto\",\"active_multi\":null,\"active_scroll\":\"auto\",\"active_tap\":\"auto\",\"tools\":[{\"id\":\"1021\",\"type\":\"PanTool\"},{\"id\":\"1022\",\"type\":\"WheelZoomTool\"},{\"id\":\"1023\",\"type\":\"BoxZoomTool\"},{\"id\":\"1024\",\"type\":\"SaveTool\"},{\"id\":\"1025\",\"type\":\"ResetTool\"},{\"id\":\"1026\",\"type\":\"HelpTool\"}]},\"id\":\"1027\",\"type\":\"Toolbar\"},{\"attributes\":{\"callback\":null},\"id\":\"1005\",\"type\":\"DataRange1d\"},{\"attributes\":{},\"id\":\"1007\",\"type\":\"LinearScale\"},{\"attributes\":{\"source\":{\"id\":\"1034\",\"type\":\"ColumnDataSource\"}},\"id\":\"1038\",\"type\":\"CDSView\"},{\"attributes\":{},\"id\":\"1009\",\"type\":\"LogScale\"},{\"attributes\":{\"text\":\"\"},\"id\":\"1039\",\"type\":\"Title\"},{\"attributes\":{\"axis_label\":\"number of RNA polymerase molecules\",\"formatter\":{\"id\":\"1042\",\"type\":\"BasicTickFormatter\"},\"ticker\":{\"id\":\"1012\",\"type\":\"BasicTicker\"}},\"id\":\"1011\",\"type\":\"LinearAxis\"},{\"attributes\":{\"ticker\":null},\"id\":\"1044\",\"type\":\"LogTickFormatter\"},{\"attributes\":{},\"id\":\"1012\",\"type\":\"BasicTicker\"},{\"attributes\":{\"line_alpha\":0.1,\"line_color\":\"#1f77b4\",\"line_width\":2,\"x\":{\"field\":\"x\"},\"y\":{\"field\":\"y\"}},\"id\":\"1036\",\"type\":\"Line\"},{\"attributes\":{\"bottom_units\":\"screen\",\"fill_alpha\":{\"value\":0.5},\"fill_color\":{\"value\":\"lightgrey\"},\"left_units\":\"screen\",\"level\":\"overlay\",\"line_alpha\":{\"value\":1.0},\"line_color\":{\"value\":\"black\"},\"line_dash\":[4,4],\"line_width\":{\"value\":2},\"render_mode\":\"css\",\"right_units\":\"screen\",\"top_units\":\"screen\"},\"id\":\"1045\",\"type\":\"BoxAnnotation\"},{\"attributes\":{\"ticker\":{\"id\":\"1012\",\"type\":\"BasicTicker\"}},\"id\":\"1015\",\"type\":\"Grid\"},{\"attributes\":{\"items\":[{\"id\":\"1047\",\"type\":\"LegendItem\"},{\"id\":\"1062\",\"type\":\"LegendItem\"}],\"location\":\"bottom_right\"},\"id\":\"1046\",\"type\":\"Legend\"},{\"attributes\":{\"axis_label\":\"probability RNAP bound\",\"formatter\":{\"id\":\"1044\",\"type\":\"LogTickFormatter\"},\"ticker\":{\"id\":\"1017\",\"type\":\"LogTicker\"}},\"id\":\"1016\",\"type\":\"LogAxis\"},{\"attributes\":{\"label\":{\"value\":\"lac P1\"},\"renderers\":[{\"id\":\"1037\",\"type\":\"GlyphRenderer\"}]},\"id\":\"1047\",\"type\":\"LegendItem\"},{\"attributes\":{\"num_minor_ticks\":10},\"id\":\"1017\",\"type\":\"LogTicker\"},{\"attributes\":{},\"id\":\"1042\",\"type\":\"BasicTickFormatter\"},{\"attributes\":{\"dimension\":1,\"ticker\":{\"id\":\"1017\",\"type\":\"LogTicker\"}},\"id\":\"1020\",\"type\":\"Grid\"},{\"attributes\":{\"line_color\":\"blue\",\"line_width\":2,\"x\":{\"field\":\"x\"},\"y\":{\"field\":\"y\"}},\"id\":\"1049\",\"type\":\"Line\"},{\"attributes\":{\"data_source\":{\"id\":\"1034\",\"type\":\"ColumnDataSource\"},\"glyph\":{\"id\":\"1035\",\"type\":\"Line\"},\"hover_glyph\":null,\"muted_glyph\":null,\"nonselection_glyph\":{\"id\":\"1036\",\"type\":\"Line\"},\"selection_glyph\":null,\"view\":{\"id\":\"1038\",\"type\":\"CDSView\"}},\"id\":\"1037\",\"type\":\"GlyphRenderer\"},{\"attributes\":{\"line_color\":\"red\",\"line_width\":2,\"x\":{\"field\":\"x\"},\"y\":{\"field\":\"y\"}},\"id\":\"1035\",\"type\":\"Line\"},{\"attributes\":{\"line_alpha\":0.1,\"line_color\":\"#1f77b4\",\"line_width\":2,\"x\":{\"field\":\"x\"},\"y\":{\"field\":\"y\"}},\"id\":\"1050\",\"type\":\"Line\"},{\"attributes\":{\"data_source\":{\"id\":\"1048\",\"type\":\"ColumnDataSource\"},\"glyph\":{\"id\":\"1049\",\"type\":\"Line\"},\"hover_glyph\":null,\"muted_glyph\":null,\"nonselection_glyph\":{\"id\":\"1050\",\"type\":\"Line\"},\"selection_glyph\":null,\"view\":{\"id\":\"1052\",\"type\":\"CDSView\"}},\"id\":\"1051\",\"type\":\"GlyphRenderer\"},{\"attributes\":{},\"id\":\"1021\",\"type\":\"PanTool\"},{\"attributes\":{\"source\":{\"id\":\"1048\",\"type\":\"ColumnDataSource\"}},\"id\":\"1052\",\"type\":\"CDSView\"},{\"attributes\":{},\"id\":\"1022\",\"type\":\"WheelZoomTool\"},{\"attributes\":{},\"id\":\"1060\",\"type\":\"UnionRenderers\"},{\"attributes\":{\"overlay\":{\"id\":\"1045\",\"type\":\"BoxAnnotation\"}},\"id\":\"1023\",\"type\":\"BoxZoomTool\"},{\"attributes\":{},\"id\":\"1061\",\"type\":\"Selection\"},{\"attributes\":{},\"id\":\"1024\",\"type\":\"SaveTool\"}],\"root_ids\":[\"1002\"]},\"title\":\"Bokeh Application\",\"version\":\"1.4.0\"}};\n",
       "  var render_items = [{\"docid\":\"a5cb0e71-10d9-4a88-aa4d-07dff34292b6\",\"roots\":{\"1002\":\"5b9708c2-ba29-478b-bf59-93e4e6cccb9e\"}}];\n",
       "  root.Bokeh.embed.embed_items_notebook(docs_json, render_items);\n",
       "\n",
       "  }\n",
       "  if (root.Bokeh !== undefined) {\n",
       "    embed_document(root);\n",
       "  } else {\n",
       "    var attempts = 0;\n",
       "    var timer = setInterval(function(root) {\n",
       "      if (root.Bokeh !== undefined) {\n",
       "        clearInterval(timer);\n",
       "        embed_document(root);\n",
       "      } else {\n",
       "        attempts++;\n",
       "        if (attempts > 100) {\n",
       "          clearInterval(timer);\n",
       "          console.log(\"Bokeh: ERROR: Unable to run BokehJS code because BokehJS library is missing\");\n",
       "        }\n",
       "      }\n",
       "    }, 10, root)\n",
       "  }\n",
       "})(window);"
      ],
      "application/vnd.bokehjs_exec.v0+json": ""
     },
     "metadata": {
      "application/vnd.bokehjs_exec.v0+json": {
       "id": "1002"
      }
     },
     "output_type": "display_data"
    }
   ],
   "source": [
    "p = bokeh.plotting.figure(\n",
    "    frame_height=250,\n",
    "    frame_width=350,\n",
    "    x_axis_label='number of RNA polymerase molecules',\n",
    "    y_axis_label='probability RNAP bound',\n",
    "    y_axis_type=\"log\",\n",
    ")\n",
    "\n",
    "p.line(\n",
    "    x=P,\n",
    "    y=p_bound_P1,\n",
    "    line_join='bevel',\n",
    "    line_width=2,\n",
    "    line_color='red',\n",
    "    legend_label=\"lac P1\",\n",
    ")\n",
    "\n",
    "p.line(\n",
    "    x=P,\n",
    "    y=p_bound_T7,\n",
    "    line_join='bevel',\n",
    "    line_width=2,\n",
    "    line_color='blue',\n",
    "    legend_label=\"T7 A1\"\n",
    ")\n",
    "\n",
    "p.legend.location = \"bottom_right\"\n",
    "\n",
    "bokeh.io.show(p)"
   ]
  },
  {
   "cell_type": "markdown",
   "metadata": {},
   "source": [
    "Instead, let's tune the binding energy, which is more relevant for our situation of changing sequences:"
   ]
  },
  {
   "cell_type": "code",
   "execution_count": 32,
   "metadata": {},
   "outputs": [],
   "source": [
    "# make a range of polymerase copy number values to plot\n",
    "e = np.linspace(-5, -1, 400)\n",
    "\n",
    "# parameters needed for p_bound\n",
    "P = 3000\n",
    "N_NS = 4.6E6 #bp\n",
    "\n",
    "# compute p_bound from range of e values and parameters\n",
    "p_bound = 1 / (1 + N_NS/P * np.exp(e))"
   ]
  },
  {
   "cell_type": "code",
   "execution_count": 33,
   "metadata": {},
   "outputs": [
    {
     "data": {
      "text/html": [
       "\n",
       "\n",
       "\n",
       "\n",
       "\n",
       "\n",
       "  <div class=\"bk-root\" id=\"0e27e04a-b56c-46ea-8755-ec3326c82332\" data-root-id=\"2012\"></div>\n"
      ]
     },
     "metadata": {},
     "output_type": "display_data"
    },
    {
     "data": {
      "application/javascript": [
       "(function(root) {\n",
       "  function embed_document(root) {\n",
       "    \n",
       "  var docs_json = {\"2a883e75-47c0-4b1a-8b4c-5d40f21d2441\":{\"roots\":{\"references\":[{\"attributes\":{\"below\":[{\"id\":\"2021\",\"type\":\"LinearAxis\"}],\"center\":[{\"id\":\"2025\",\"type\":\"Grid\"},{\"id\":\"2030\",\"type\":\"Grid\"}],\"frame_height\":250,\"frame_width\":350,\"left\":[{\"id\":\"2026\",\"type\":\"LinearAxis\"}],\"renderers\":[{\"id\":\"2047\",\"type\":\"GlyphRenderer\"}],\"title\":{\"id\":\"2120\",\"type\":\"Title\"},\"toolbar\":{\"id\":\"2037\",\"type\":\"Toolbar\"},\"x_range\":{\"id\":\"2013\",\"type\":\"DataRange1d\"},\"x_scale\":{\"id\":\"2017\",\"type\":\"LinearScale\"},\"y_range\":{\"id\":\"2015\",\"type\":\"DataRange1d\"},\"y_scale\":{\"id\":\"2019\",\"type\":\"LinearScale\"}},\"id\":\"2012\",\"subtype\":\"Figure\",\"type\":\"Plot\"},{\"attributes\":{\"overlay\":{\"id\":\"2126\",\"type\":\"BoxAnnotation\"}},\"id\":\"2033\",\"type\":\"BoxZoomTool\"},{\"attributes\":{},\"id\":\"2034\",\"type\":\"SaveTool\"},{\"attributes\":{\"axis_label\":\"binding energy (kBT)\",\"formatter\":{\"id\":\"2123\",\"type\":\"BasicTickFormatter\"},\"ticker\":{\"id\":\"2022\",\"type\":\"BasicTicker\"}},\"id\":\"2021\",\"type\":\"LinearAxis\"},{\"attributes\":{},\"id\":\"2019\",\"type\":\"LinearScale\"},{\"attributes\":{},\"id\":\"2035\",\"type\":\"ResetTool\"},{\"attributes\":{},\"id\":\"2036\",\"type\":\"HelpTool\"},{\"attributes\":{},\"id\":\"2017\",\"type\":\"LinearScale\"},{\"attributes\":{\"active_drag\":\"auto\",\"active_inspect\":\"auto\",\"active_multi\":null,\"active_scroll\":\"auto\",\"active_tap\":\"auto\",\"tools\":[{\"id\":\"2031\",\"type\":\"PanTool\"},{\"id\":\"2032\",\"type\":\"WheelZoomTool\"},{\"id\":\"2033\",\"type\":\"BoxZoomTool\"},{\"id\":\"2034\",\"type\":\"SaveTool\"},{\"id\":\"2035\",\"type\":\"ResetTool\"},{\"id\":\"2036\",\"type\":\"HelpTool\"}]},\"id\":\"2037\",\"type\":\"Toolbar\"},{\"attributes\":{\"data_source\":{\"id\":\"2044\",\"type\":\"ColumnDataSource\"},\"glyph\":{\"id\":\"2045\",\"type\":\"Line\"},\"hover_glyph\":null,\"muted_glyph\":null,\"nonselection_glyph\":{\"id\":\"2046\",\"type\":\"Line\"},\"selection_glyph\":null,\"view\":{\"id\":\"2048\",\"type\":\"CDSView\"}},\"id\":\"2047\",\"type\":\"GlyphRenderer\"},{\"attributes\":{\"line_alpha\":0.1,\"line_color\":\"#1f77b4\",\"line_width\":2,\"x\":{\"field\":\"x\"},\"y\":{\"field\":\"y\"}},\"id\":\"2046\",\"type\":\"Line\"},{\"attributes\":{\"source\":{\"id\":\"2044\",\"type\":\"ColumnDataSource\"}},\"id\":\"2048\",\"type\":\"CDSView\"},{\"attributes\":{\"axis_label\":\"probability RNAP bound\",\"formatter\":{\"id\":\"2125\",\"type\":\"BasicTickFormatter\"},\"ticker\":{\"id\":\"2027\",\"type\":\"BasicTicker\"}},\"id\":\"2026\",\"type\":\"LinearAxis\"},{\"attributes\":{},\"id\":\"2125\",\"type\":\"BasicTickFormatter\"},{\"attributes\":{},\"id\":\"2022\",\"type\":\"BasicTicker\"},{\"attributes\":{\"bottom_units\":\"screen\",\"fill_alpha\":{\"value\":0.5},\"fill_color\":{\"value\":\"lightgrey\"},\"left_units\":\"screen\",\"level\":\"overlay\",\"line_alpha\":{\"value\":1.0},\"line_color\":{\"value\":\"black\"},\"line_dash\":[4,4],\"line_width\":{\"value\":2},\"render_mode\":\"css\",\"right_units\":\"screen\",\"top_units\":\"screen\"},\"id\":\"2126\",\"type\":\"BoxAnnotation\"},{\"attributes\":{},\"id\":\"2032\",\"type\":\"WheelZoomTool\"},{\"attributes\":{},\"id\":\"2128\",\"type\":\"Selection\"},{\"attributes\":{},\"id\":\"2027\",\"type\":\"BasicTicker\"},{\"attributes\":{},\"id\":\"2127\",\"type\":\"UnionRenderers\"},{\"attributes\":{\"line_color\":\"red\",\"line_width\":2,\"x\":{\"field\":\"x\"},\"y\":{\"field\":\"y\"}},\"id\":\"2045\",\"type\":\"Line\"},{\"attributes\":{},\"id\":\"2031\",\"type\":\"PanTool\"},{\"attributes\":{},\"id\":\"2123\",\"type\":\"BasicTickFormatter\"},{\"attributes\":{\"callback\":null,\"data\":{\"x\":{\"__ndarray__\":\"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\",\"dtype\":\"float64\",\"shape\":[400]},\"y\":{\"__ndarray__\":\"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\",\"dtype\":\"float64\",\"shape\":[400]}},\"selected\":{\"id\":\"2128\",\"type\":\"Selection\"},\"selection_policy\":{\"id\":\"2127\",\"type\":\"UnionRenderers\"}},\"id\":\"2044\",\"type\":\"ColumnDataSource\"},{\"attributes\":{\"callback\":null},\"id\":\"2015\",\"type\":\"DataRange1d\"},{\"attributes\":{\"ticker\":{\"id\":\"2022\",\"type\":\"BasicTicker\"}},\"id\":\"2025\",\"type\":\"Grid\"},{\"attributes\":{\"dimension\":1,\"ticker\":{\"id\":\"2027\",\"type\":\"BasicTicker\"}},\"id\":\"2030\",\"type\":\"Grid\"},{\"attributes\":{\"callback\":null},\"id\":\"2013\",\"type\":\"DataRange1d\"},{\"attributes\":{\"text\":\"\"},\"id\":\"2120\",\"type\":\"Title\"}],\"root_ids\":[\"2012\"]},\"title\":\"Bokeh Application\",\"version\":\"1.4.0\"}};\n",
       "  var render_items = [{\"docid\":\"2a883e75-47c0-4b1a-8b4c-5d40f21d2441\",\"roots\":{\"2012\":\"0e27e04a-b56c-46ea-8755-ec3326c82332\"}}];\n",
       "  root.Bokeh.embed.embed_items_notebook(docs_json, render_items);\n",
       "\n",
       "  }\n",
       "  if (root.Bokeh !== undefined) {\n",
       "    embed_document(root);\n",
       "  } else {\n",
       "    var attempts = 0;\n",
       "    var timer = setInterval(function(root) {\n",
       "      if (root.Bokeh !== undefined) {\n",
       "        clearInterval(timer);\n",
       "        embed_document(root);\n",
       "      } else {\n",
       "        attempts++;\n",
       "        if (attempts > 100) {\n",
       "          clearInterval(timer);\n",
       "          console.log(\"Bokeh: ERROR: Unable to run BokehJS code because BokehJS library is missing\");\n",
       "        }\n",
       "      }\n",
       "    }, 10, root)\n",
       "  }\n",
       "})(window);"
      ],
      "application/vnd.bokehjs_exec.v0+json": ""
     },
     "metadata": {
      "application/vnd.bokehjs_exec.v0+json": {
       "id": "2012"
      }
     },
     "output_type": "display_data"
    }
   ],
   "source": [
    "p = bokeh.plotting.figure(\n",
    "    frame_height=250,\n",
    "    frame_width=350,\n",
    "    x_axis_label='binding energy (kBT)',\n",
    "    y_axis_label='probability RNAP bound',\n",
    "    y_axis_type=\"linear\",\n",
    ")\n",
    "\n",
    "p.line(\n",
    "    x=e,\n",
    "    y=p_bound,\n",
    "    line_join='bevel',\n",
    "    line_width=2,\n",
    "    line_color='red',\n",
    ")\n",
    "\n",
    "\n",
    "bokeh.io.show(p)"
   ]
  },
  {
   "cell_type": "markdown",
   "metadata": {},
   "source": [
    "Now let's consider our data of binding energy and growth rates, computing p_bound from the binding energy."
   ]
  },
  {
   "cell_type": "code",
   "execution_count": 34,
   "metadata": {},
   "outputs": [
    {
     "data": {
      "text/html": [
       "<div>\n",
       "<style scoped>\n",
       "    .dataframe tbody tr th:only-of-type {\n",
       "        vertical-align: middle;\n",
       "    }\n",
       "\n",
       "    .dataframe tbody tr th {\n",
       "        vertical-align: top;\n",
       "    }\n",
       "\n",
       "    .dataframe thead th {\n",
       "        text-align: right;\n",
       "    }\n",
       "</style>\n",
       "<table border=\"1\" class=\"dataframe\">\n",
       "  <thead>\n",
       "    <tr style=\"text-align: right;\">\n",
       "      <th></th>\n",
       "      <th>binding energy (kBT)</th>\n",
       "      <th>growth rate (per hr)</th>\n",
       "      <th>strain</th>\n",
       "      <th>p bound</th>\n",
       "    </tr>\n",
       "  </thead>\n",
       "  <tbody>\n",
       "    <tr>\n",
       "      <th>0</th>\n",
       "      <td>-1.43</td>\n",
       "      <td>0.087</td>\n",
       "      <td>RandSeq3 unevolved</td>\n",
       "      <td>0.002718</td>\n",
       "    </tr>\n",
       "    <tr>\n",
       "      <th>1</th>\n",
       "      <td>-3.31</td>\n",
       "      <td>0.242</td>\n",
       "      <td>RandSeq3 evolved</td>\n",
       "      <td>0.017546</td>\n",
       "    </tr>\n",
       "    <tr>\n",
       "      <th>2</th>\n",
       "      <td>-4.04</td>\n",
       "      <td>0.341</td>\n",
       "      <td>RandSeq29</td>\n",
       "      <td>0.035736</td>\n",
       "    </tr>\n",
       "  </tbody>\n",
       "</table>\n",
       "</div>"
      ],
      "text/plain": [
       "   binding energy (kBT)  growth rate (per hr)              strain   p bound\n",
       "0                 -1.43                 0.087  RandSeq3 unevolved  0.002718\n",
       "1                 -3.31                 0.242    RandSeq3 evolved  0.017546\n",
       "2                 -4.04                 0.341           RandSeq29  0.035736"
      ]
     },
     "execution_count": 34,
     "metadata": {},
     "output_type": "execute_result"
    }
   ],
   "source": [
    "data = pd.read_csv(\"./growth_rates.txt\", sep=\",\")\n",
    "data[\"p bound\"] =  1 / (1 + N_NS/P * np.exp(data[\"binding energy (kBT)\"]))\n",
    "data"
   ]
  },
  {
   "cell_type": "markdown",
   "metadata": {},
   "source": [
    "Just for reference, let's place these strains on the plot from before."
   ]
  },
  {
   "cell_type": "code",
   "execution_count": 35,
   "metadata": {},
   "outputs": [
    {
     "data": {
      "text/html": [
       "\n",
       "\n",
       "\n",
       "\n",
       "\n",
       "\n",
       "  <div class=\"bk-root\" id=\"57d09c01-d1a2-4ee5-b83b-83bc0f6f0c8c\" data-root-id=\"2183\"></div>\n"
      ]
     },
     "metadata": {},
     "output_type": "display_data"
    },
    {
     "data": {
      "application/javascript": [
       "(function(root) {\n",
       "  function embed_document(root) {\n",
       "    \n",
       "  var docs_json = {\"c16f6017-2231-4a19-b7eb-77018872ce72\":{\"roots\":{\"references\":[{\"attributes\":{\"below\":[{\"id\":\"2192\",\"type\":\"LinearAxis\"}],\"center\":[{\"id\":\"2196\",\"type\":\"Grid\"},{\"id\":\"2201\",\"type\":\"Grid\"}],\"frame_height\":250,\"frame_width\":350,\"left\":[{\"id\":\"2197\",\"type\":\"LinearAxis\"}],\"renderers\":[{\"id\":\"2218\",\"type\":\"GlyphRenderer\"},{\"id\":\"2223\",\"type\":\"GlyphRenderer\"}],\"title\":{\"id\":\"2305\",\"type\":\"Title\"},\"toolbar\":{\"id\":\"2208\",\"type\":\"Toolbar\"},\"x_range\":{\"id\":\"2184\",\"type\":\"DataRange1d\"},\"x_scale\":{\"id\":\"2188\",\"type\":\"LinearScale\"},\"y_range\":{\"id\":\"2186\",\"type\":\"DataRange1d\"},\"y_scale\":{\"id\":\"2190\",\"type\":\"LinearScale\"}},\"id\":\"2183\",\"subtype\":\"Figure\",\"type\":\"Plot\"},{\"attributes\":{},\"id\":\"2308\",\"type\":\"BasicTickFormatter\"},{\"attributes\":{\"text\":\"\"},\"id\":\"2305\",\"type\":\"Title\"},{\"attributes\":{\"data_source\":{\"id\":\"2215\",\"type\":\"ColumnDataSource\"},\"glyph\":{\"id\":\"2216\",\"type\":\"Line\"},\"hover_glyph\":null,\"muted_glyph\":null,\"nonselection_glyph\":{\"id\":\"2217\",\"type\":\"Line\"},\"selection_glyph\":null,\"view\":{\"id\":\"2219\",\"type\":\"CDSView\"}},\"id\":\"2218\",\"type\":\"GlyphRenderer\"},{\"attributes\":{},\"id\":\"2193\",\"type\":\"BasicTicker\"},{\"attributes\":{},\"id\":\"2310\",\"type\":\"BasicTickFormatter\"},{\"attributes\":{\"bottom_units\":\"screen\",\"fill_alpha\":{\"value\":0.5},\"fill_color\":{\"value\":\"lightgrey\"},\"left_units\":\"screen\",\"level\":\"overlay\",\"line_alpha\":{\"value\":1.0},\"line_color\":{\"value\":\"black\"},\"line_dash\":[4,4],\"line_width\":{\"value\":2},\"render_mode\":\"css\",\"right_units\":\"screen\",\"top_units\":\"screen\"},\"id\":\"2311\",\"type\":\"BoxAnnotation\"},{\"attributes\":{\"ticker\":{\"id\":\"2193\",\"type\":\"BasicTicker\"}},\"id\":\"2196\",\"type\":\"Grid\"},{\"attributes\":{\"axis_label\":\"probability RNAP bound\",\"formatter\":{\"id\":\"2310\",\"type\":\"BasicTickFormatter\"},\"ticker\":{\"id\":\"2198\",\"type\":\"BasicTicker\"}},\"id\":\"2197\",\"type\":\"LinearAxis\"},{\"attributes\":{\"source\":{\"id\":\"2215\",\"type\":\"ColumnDataSource\"}},\"id\":\"2219\",\"type\":\"CDSView\"},{\"attributes\":{},\"id\":\"2312\",\"type\":\"UnionRenderers\"},{\"attributes\":{},\"id\":\"2202\",\"type\":\"PanTool\"},{\"attributes\":{},\"id\":\"2314\",\"type\":\"UnionRenderers\"},{\"attributes\":{\"line_alpha\":0.1,\"line_color\":\"#1f77b4\",\"line_width\":2,\"x\":{\"field\":\"x\"},\"y\":{\"field\":\"y\"}},\"id\":\"2217\",\"type\":\"Line\"},{\"attributes\":{},\"id\":\"2203\",\"type\":\"WheelZoomTool\"},{\"attributes\":{},\"id\":\"2198\",\"type\":\"BasicTicker\"},{\"attributes\":{\"overlay\":{\"id\":\"2311\",\"type\":\"BoxAnnotation\"}},\"id\":\"2204\",\"type\":\"BoxZoomTool\"},{\"attributes\":{},\"id\":\"2190\",\"type\":\"LinearScale\"},{\"attributes\":{},\"id\":\"2205\",\"type\":\"SaveTool\"},{\"attributes\":{},\"id\":\"2206\",\"type\":\"ResetTool\"},{\"attributes\":{\"line_color\":\"red\",\"line_width\":2,\"x\":{\"field\":\"x\"},\"y\":{\"field\":\"y\"}},\"id\":\"2216\",\"type\":\"Line\"},{\"attributes\":{},\"id\":\"2188\",\"type\":\"LinearScale\"},{\"attributes\":{},\"id\":\"2207\",\"type\":\"HelpTool\"},{\"attributes\":{\"axis_label\":\"binding energy (kBT)\",\"formatter\":{\"id\":\"2308\",\"type\":\"BasicTickFormatter\"},\"ticker\":{\"id\":\"2193\",\"type\":\"BasicTicker\"}},\"id\":\"2192\",\"type\":\"LinearAxis\"},{\"attributes\":{\"active_drag\":\"auto\",\"active_inspect\":\"auto\",\"active_multi\":null,\"active_scroll\":\"auto\",\"active_tap\":\"auto\",\"tools\":[{\"id\":\"2202\",\"type\":\"PanTool\"},{\"id\":\"2203\",\"type\":\"WheelZoomTool\"},{\"id\":\"2204\",\"type\":\"BoxZoomTool\"},{\"id\":\"2205\",\"type\":\"SaveTool\"},{\"id\":\"2206\",\"type\":\"ResetTool\"},{\"id\":\"2207\",\"type\":\"HelpTool\"}]},\"id\":\"2208\",\"type\":\"Toolbar\"},{\"attributes\":{\"callback\":null},\"id\":\"2184\",\"type\":\"DataRange1d\"},{\"attributes\":{},\"id\":\"2313\",\"type\":\"Selection\"},{\"attributes\":{\"callback\":null},\"id\":\"2186\",\"type\":\"DataRange1d\"},{\"attributes\":{\"callback\":null,\"data\":{\"x\":{\"__ndarray__\":\"4XoUrkfh9r97FK5H4XoKwClcj8L1KBDA\",\"dtype\":\"float64\",\"shape\":[3]},\"y\":{\"__ndarray__\":\"p8z63rRDZj8BBtvHtPeRPwimFo0FTKI/\",\"dtype\":\"float64\",\"shape\":[3]}},\"selected\":{\"id\":\"2315\",\"type\":\"Selection\"},\"selection_policy\":{\"id\":\"2314\",\"type\":\"UnionRenderers\"}},\"id\":\"2220\",\"type\":\"ColumnDataSource\"},{\"attributes\":{},\"id\":\"2315\",\"type\":\"Selection\"},{\"attributes\":{\"callback\":null,\"data\":{\"x\":{\"__ndarray__\":\"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\",\"dtype\":\"float64\",\"shape\":[400]},\"y\":{\"__ndarray__\":\"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\",\"dtype\":\"float64\",\"shape\":[400]}},\"selected\":{\"id\":\"2313\",\"type\":\"Selection\"},\"selection_policy\":{\"id\":\"2312\",\"type\":\"UnionRenderers\"}},\"id\":\"2215\",\"type\":\"ColumnDataSource\"},{\"attributes\":{\"dimension\":1,\"ticker\":{\"id\":\"2198\",\"type\":\"BasicTicker\"}},\"id\":\"2201\",\"type\":\"Grid\"},{\"attributes\":{\"fill_alpha\":{\"value\":0.1},\"fill_color\":{\"value\":\"#1f77b4\"},\"line_alpha\":{\"value\":0.1},\"line_color\":{\"value\":\"#1f77b4\"},\"x\":{\"field\":\"x\"},\"y\":{\"field\":\"y\"}},\"id\":\"2222\",\"type\":\"Circle\"},{\"attributes\":{\"data_source\":{\"id\":\"2220\",\"type\":\"ColumnDataSource\"},\"glyph\":{\"id\":\"2221\",\"type\":\"Circle\"},\"hover_glyph\":null,\"muted_glyph\":null,\"nonselection_glyph\":{\"id\":\"2222\",\"type\":\"Circle\"},\"selection_glyph\":null,\"view\":{\"id\":\"2224\",\"type\":\"CDSView\"}},\"id\":\"2223\",\"type\":\"GlyphRenderer\"},{\"attributes\":{\"fill_color\":{\"value\":\"#1f77b4\"},\"line_color\":{\"value\":\"#1f77b4\"},\"x\":{\"field\":\"x\"},\"y\":{\"field\":\"y\"}},\"id\":\"2221\",\"type\":\"Circle\"},{\"attributes\":{\"source\":{\"id\":\"2220\",\"type\":\"ColumnDataSource\"}},\"id\":\"2224\",\"type\":\"CDSView\"}],\"root_ids\":[\"2183\"]},\"title\":\"Bokeh Application\",\"version\":\"1.4.0\"}};\n",
       "  var render_items = [{\"docid\":\"c16f6017-2231-4a19-b7eb-77018872ce72\",\"roots\":{\"2183\":\"57d09c01-d1a2-4ee5-b83b-83bc0f6f0c8c\"}}];\n",
       "  root.Bokeh.embed.embed_items_notebook(docs_json, render_items);\n",
       "\n",
       "  }\n",
       "  if (root.Bokeh !== undefined) {\n",
       "    embed_document(root);\n",
       "  } else {\n",
       "    var attempts = 0;\n",
       "    var timer = setInterval(function(root) {\n",
       "      if (root.Bokeh !== undefined) {\n",
       "        clearInterval(timer);\n",
       "        embed_document(root);\n",
       "      } else {\n",
       "        attempts++;\n",
       "        if (attempts > 100) {\n",
       "          clearInterval(timer);\n",
       "          console.log(\"Bokeh: ERROR: Unable to run BokehJS code because BokehJS library is missing\");\n",
       "        }\n",
       "      }\n",
       "    }, 10, root)\n",
       "  }\n",
       "})(window);"
      ],
      "application/vnd.bokehjs_exec.v0+json": ""
     },
     "metadata": {
      "application/vnd.bokehjs_exec.v0+json": {
       "id": "2183"
      }
     },
     "output_type": "display_data"
    }
   ],
   "source": [
    "p = bokeh.plotting.figure(\n",
    "    frame_height=250,\n",
    "    frame_width=350,\n",
    "    x_axis_label='binding energy (kBT)',\n",
    "    y_axis_label='probability RNAP bound',\n",
    "    y_axis_type=\"linear\",\n",
    ")\n",
    "\n",
    "p.line(\n",
    "    x=e,\n",
    "    y=p_bound,\n",
    "    line_join='bevel',\n",
    "    line_width=2,\n",
    "    line_color='red',\n",
    ")\n",
    "\n",
    "p.circle(\n",
    "    x=data['binding energy (kBT)'],\n",
    "    y=data['p bound']\n",
    ")\n",
    "\n",
    "\n",
    "bokeh.io.show(p)"
   ]
  },
  {
   "cell_type": "markdown",
   "metadata": {},
   "source": [
    "Let's now see how p_bound and growth rate are related from our data:"
   ]
  },
  {
   "cell_type": "code",
   "execution_count": 36,
   "metadata": {},
   "outputs": [
    {
     "data": {
      "text/html": [
       "\n",
       "\n",
       "\n",
       "\n",
       "\n",
       "\n",
       "  <div class=\"bk-root\" id=\"f0d7eaca-3842-4676-87d7-6b6681e22dd5\" data-root-id=\"2382\"></div>\n"
      ]
     },
     "metadata": {},
     "output_type": "display_data"
    },
    {
     "data": {
      "application/javascript": [
       "(function(root) {\n",
       "  function embed_document(root) {\n",
       "    \n",
       "  var docs_json = {\"26e35adc-cc00-477d-8ff5-a9573dcbbc6a\":{\"roots\":{\"references\":[{\"attributes\":{\"below\":[{\"id\":\"2391\",\"type\":\"LinearAxis\"}],\"center\":[{\"id\":\"2395\",\"type\":\"Grid\"},{\"id\":\"2400\",\"type\":\"Grid\"}],\"frame_height\":250,\"frame_width\":350,\"left\":[{\"id\":\"2396\",\"type\":\"LinearAxis\"}],\"renderers\":[{\"id\":\"2417\",\"type\":\"GlyphRenderer\"}],\"title\":{\"id\":\"2510\",\"type\":\"Title\"},\"toolbar\":{\"id\":\"2407\",\"type\":\"Toolbar\"},\"x_range\":{\"id\":\"2383\",\"type\":\"DataRange1d\"},\"x_scale\":{\"id\":\"2387\",\"type\":\"LinearScale\"},\"y_range\":{\"id\":\"2385\",\"type\":\"DataRange1d\"},\"y_scale\":{\"id\":\"2389\",\"type\":\"LinearScale\"}},\"id\":\"2382\",\"subtype\":\"Figure\",\"type\":\"Plot\"},{\"attributes\":{\"active_drag\":\"auto\",\"active_inspect\":\"auto\",\"active_multi\":null,\"active_scroll\":\"auto\",\"active_tap\":\"auto\",\"tools\":[{\"id\":\"2401\",\"type\":\"PanTool\"},{\"id\":\"2402\",\"type\":\"WheelZoomTool\"},{\"id\":\"2403\",\"type\":\"BoxZoomTool\"},{\"id\":\"2404\",\"type\":\"SaveTool\"},{\"id\":\"2405\",\"type\":\"ResetTool\"},{\"id\":\"2406\",\"type\":\"HelpTool\"}]},\"id\":\"2407\",\"type\":\"Toolbar\"},{\"attributes\":{\"source\":{\"id\":\"2414\",\"type\":\"ColumnDataSource\"}},\"id\":\"2418\",\"type\":\"CDSView\"},{\"attributes\":{\"fill_color\":{\"value\":\"#1f77b4\"},\"line_color\":{\"value\":\"#1f77b4\"},\"x\":{\"field\":\"x\"},\"y\":{\"field\":\"y\"}},\"id\":\"2415\",\"type\":\"Circle\"},{\"attributes\":{\"text\":\"\"},\"id\":\"2510\",\"type\":\"Title\"},{\"attributes\":{\"callback\":null,\"data\":{\"x\":{\"__ndarray__\":\"p8z63rRDZj8BBtvHtPeRPwimFo0FTKI/\",\"dtype\":\"float64\",\"shape\":[3]},\"y\":{\"__ndarray__\":\"EoPAyqFFtj9g5dAi2/nOP23n+6nx0tU/\",\"dtype\":\"float64\",\"shape\":[3]}},\"selected\":{\"id\":\"2518\",\"type\":\"Selection\"},\"selection_policy\":{\"id\":\"2517\",\"type\":\"UnionRenderers\"}},\"id\":\"2414\",\"type\":\"ColumnDataSource\"},{\"attributes\":{\"fill_alpha\":{\"value\":0.1},\"fill_color\":{\"value\":\"#1f77b4\"},\"line_alpha\":{\"value\":0.1},\"line_color\":{\"value\":\"#1f77b4\"},\"x\":{\"field\":\"x\"},\"y\":{\"field\":\"y\"}},\"id\":\"2416\",\"type\":\"Circle\"},{\"attributes\":{},\"id\":\"2513\",\"type\":\"BasicTickFormatter\"},{\"attributes\":{\"callback\":null},\"id\":\"2383\",\"type\":\"DataRange1d\"},{\"attributes\":{},\"id\":\"2515\",\"type\":\"BasicTickFormatter\"},{\"attributes\":{\"bottom_units\":\"screen\",\"fill_alpha\":{\"value\":0.5},\"fill_color\":{\"value\":\"lightgrey\"},\"left_units\":\"screen\",\"level\":\"overlay\",\"line_alpha\":{\"value\":1.0},\"line_color\":{\"value\":\"black\"},\"line_dash\":[4,4],\"line_width\":{\"value\":2},\"render_mode\":\"css\",\"right_units\":\"screen\",\"top_units\":\"screen\"},\"id\":\"2516\",\"type\":\"BoxAnnotation\"},{\"attributes\":{\"dimension\":1,\"ticker\":{\"id\":\"2397\",\"type\":\"BasicTicker\"}},\"id\":\"2400\",\"type\":\"Grid\"},{\"attributes\":{},\"id\":\"2517\",\"type\":\"UnionRenderers\"},{\"attributes\":{\"overlay\":{\"id\":\"2516\",\"type\":\"BoxAnnotation\"}},\"id\":\"2403\",\"type\":\"BoxZoomTool\"},{\"attributes\":{},\"id\":\"2518\",\"type\":\"Selection\"},{\"attributes\":{},\"id\":\"2406\",\"type\":\"HelpTool\"},{\"attributes\":{},\"id\":\"2402\",\"type\":\"WheelZoomTool\"},{\"attributes\":{\"axis_label\":\"growth rate (per hr)\",\"formatter\":{\"id\":\"2515\",\"type\":\"BasicTickFormatter\"},\"ticker\":{\"id\":\"2397\",\"type\":\"BasicTicker\"}},\"id\":\"2396\",\"type\":\"LinearAxis\"},{\"attributes\":{\"ticker\":{\"id\":\"2392\",\"type\":\"BasicTicker\"}},\"id\":\"2395\",\"type\":\"Grid\"},{\"attributes\":{},\"id\":\"2401\",\"type\":\"PanTool\"},{\"attributes\":{\"data_source\":{\"id\":\"2414\",\"type\":\"ColumnDataSource\"},\"glyph\":{\"id\":\"2415\",\"type\":\"Circle\"},\"hover_glyph\":null,\"muted_glyph\":null,\"nonselection_glyph\":{\"id\":\"2416\",\"type\":\"Circle\"},\"selection_glyph\":null,\"view\":{\"id\":\"2418\",\"type\":\"CDSView\"}},\"id\":\"2417\",\"type\":\"GlyphRenderer\"},{\"attributes\":{},\"id\":\"2392\",\"type\":\"BasicTicker\"},{\"attributes\":{\"axis_label\":\"probability RNAP bound\",\"formatter\":{\"id\":\"2513\",\"type\":\"BasicTickFormatter\"},\"ticker\":{\"id\":\"2392\",\"type\":\"BasicTicker\"}},\"id\":\"2391\",\"type\":\"LinearAxis\"},{\"attributes\":{\"callback\":null},\"id\":\"2385\",\"type\":\"DataRange1d\"},{\"attributes\":{},\"id\":\"2404\",\"type\":\"SaveTool\"},{\"attributes\":{},\"id\":\"2397\",\"type\":\"BasicTicker\"},{\"attributes\":{},\"id\":\"2389\",\"type\":\"LinearScale\"},{\"attributes\":{},\"id\":\"2405\",\"type\":\"ResetTool\"},{\"attributes\":{},\"id\":\"2387\",\"type\":\"LinearScale\"}],\"root_ids\":[\"2382\"]},\"title\":\"Bokeh Application\",\"version\":\"1.4.0\"}};\n",
       "  var render_items = [{\"docid\":\"26e35adc-cc00-477d-8ff5-a9573dcbbc6a\",\"roots\":{\"2382\":\"f0d7eaca-3842-4676-87d7-6b6681e22dd5\"}}];\n",
       "  root.Bokeh.embed.embed_items_notebook(docs_json, render_items);\n",
       "\n",
       "  }\n",
       "  if (root.Bokeh !== undefined) {\n",
       "    embed_document(root);\n",
       "  } else {\n",
       "    var attempts = 0;\n",
       "    var timer = setInterval(function(root) {\n",
       "      if (root.Bokeh !== undefined) {\n",
       "        clearInterval(timer);\n",
       "        embed_document(root);\n",
       "      } else {\n",
       "        attempts++;\n",
       "        if (attempts > 100) {\n",
       "          clearInterval(timer);\n",
       "          console.log(\"Bokeh: ERROR: Unable to run BokehJS code because BokehJS library is missing\");\n",
       "        }\n",
       "      }\n",
       "    }, 10, root)\n",
       "  }\n",
       "})(window);"
      ],
      "application/vnd.bokehjs_exec.v0+json": ""
     },
     "metadata": {
      "application/vnd.bokehjs_exec.v0+json": {
       "id": "2382"
      }
     },
     "output_type": "display_data"
    }
   ],
   "source": [
    "p = bokeh.plotting.figure(\n",
    "    frame_height=250,\n",
    "    frame_width=350,\n",
    "    y_axis_label='growth rate (per hr)',\n",
    "    x_axis_label='probability RNAP bound',\n",
    "    y_axis_type=\"linear\",\n",
    ")\n",
    "\n",
    "\n",
    "p.circle(\n",
    "    x=data['p bound'],\n",
    "    y=data['growth rate (per hr)']\n",
    ")\n",
    "\n",
    "bokeh.io.show(p)"
   ]
  },
  {
   "cell_type": "markdown",
   "metadata": {},
   "source": [
    "Let's fit a line to this data:"
   ]
  },
  {
   "cell_type": "code",
   "execution_count": 37,
   "metadata": {},
   "outputs": [
    {
     "name": "stdout",
     "output_type": "stream",
     "text": [
      "7.6088459999403515 0.08130010110490518\n"
     ]
    }
   ],
   "source": [
    "m, b = np.polyfit(data['p bound'], data['growth rate (per hr)'], deg=1)\n",
    "x = np.linspace(0.0001,0.04,200)\n",
    "y = m * x + b\n",
    "print(m,b)"
   ]
  },
  {
   "cell_type": "code",
   "execution_count": 38,
   "metadata": {},
   "outputs": [
    {
     "data": {
      "text/html": [
       "\n",
       "\n",
       "\n",
       "\n",
       "\n",
       "\n",
       "  <div class=\"bk-root\" id=\"bdb2a6b6-c1c5-41b7-a4c1-6a5d8e5b850d\" data-root-id=\"2573\"></div>\n"
      ]
     },
     "metadata": {},
     "output_type": "display_data"
    },
    {
     "data": {
      "application/javascript": [
       "(function(root) {\n",
       "  function embed_document(root) {\n",
       "    \n",
       "  var docs_json = {\"eab53937-721d-4946-9e2d-86bed9384a13\":{\"roots\":{\"references\":[{\"attributes\":{\"below\":[{\"id\":\"2582\",\"type\":\"LinearAxis\"}],\"center\":[{\"id\":\"2586\",\"type\":\"Grid\"},{\"id\":\"2591\",\"type\":\"Grid\"}],\"frame_height\":250,\"frame_width\":350,\"left\":[{\"id\":\"2587\",\"type\":\"LinearAxis\"}],\"renderers\":[{\"id\":\"2608\",\"type\":\"GlyphRenderer\"},{\"id\":\"2613\",\"type\":\"GlyphRenderer\"}],\"title\":{\"id\":\"2715\",\"type\":\"Title\"},\"toolbar\":{\"id\":\"2598\",\"type\":\"Toolbar\"},\"x_range\":{\"id\":\"2574\",\"type\":\"DataRange1d\"},\"x_scale\":{\"id\":\"2578\",\"type\":\"LinearScale\"},\"y_range\":{\"id\":\"2576\",\"type\":\"DataRange1d\"},\"y_scale\":{\"id\":\"2580\",\"type\":\"LinearScale\"}},\"id\":\"2573\",\"subtype\":\"Figure\",\"type\":\"Plot\"},{\"attributes\":{},\"id\":\"2593\",\"type\":\"WheelZoomTool\"},{\"attributes\":{},\"id\":\"2724\",\"type\":\"UnionRenderers\"},{\"attributes\":{\"overlay\":{\"id\":\"2721\",\"type\":\"BoxAnnotation\"}},\"id\":\"2594\",\"type\":\"BoxZoomTool\"},{\"attributes\":{},\"id\":\"2725\",\"type\":\"Selection\"},{\"attributes\":{\"fill_color\":{\"value\":\"#1f77b4\"},\"line_color\":{\"value\":\"#1f77b4\"},\"x\":{\"field\":\"x\"},\"y\":{\"field\":\"y\"}},\"id\":\"2606\",\"type\":\"Circle\"},{\"attributes\":{},\"id\":\"2595\",\"type\":\"SaveTool\"},{\"attributes\":{},\"id\":\"2723\",\"type\":\"Selection\"},{\"attributes\":{},\"id\":\"2596\",\"type\":\"ResetTool\"},{\"attributes\":{},\"id\":\"2597\",\"type\":\"HelpTool\"},{\"attributes\":{\"active_drag\":\"auto\",\"active_inspect\":\"auto\",\"active_multi\":null,\"active_scroll\":\"auto\",\"active_tap\":\"auto\",\"tools\":[{\"id\":\"2592\",\"type\":\"PanTool\"},{\"id\":\"2593\",\"type\":\"WheelZoomTool\"},{\"id\":\"2594\",\"type\":\"BoxZoomTool\"},{\"id\":\"2595\",\"type\":\"SaveTool\"},{\"id\":\"2596\",\"type\":\"ResetTool\"},{\"id\":\"2597\",\"type\":\"HelpTool\"}]},\"id\":\"2598\",\"type\":\"Toolbar\"},{\"attributes\":{\"source\":{\"id\":\"2605\",\"type\":\"ColumnDataSource\"}},\"id\":\"2609\",\"type\":\"CDSView\"},{\"attributes\":{},\"id\":\"2580\",\"type\":\"LinearScale\"},{\"attributes\":{},\"id\":\"2592\",\"type\":\"PanTool\"},{\"attributes\":{\"callback\":null},\"id\":\"2574\",\"type\":\"DataRange1d\"},{\"attributes\":{},\"id\":\"2583\",\"type\":\"BasicTicker\"},{\"attributes\":{\"axis_label\":\"probability RNAP bound\",\"formatter\":{\"id\":\"2718\",\"type\":\"BasicTickFormatter\"},\"ticker\":{\"id\":\"2583\",\"type\":\"BasicTicker\"}},\"id\":\"2582\",\"type\":\"LinearAxis\"},{\"attributes\":{\"axis_label\":\"growth rate (per hr)\",\"formatter\":{\"id\":\"2720\",\"type\":\"BasicTickFormatter\"},\"ticker\":{\"id\":\"2588\",\"type\":\"BasicTicker\"}},\"id\":\"2587\",\"type\":\"LinearAxis\"},{\"attributes\":{\"dimension\":1,\"ticker\":{\"id\":\"2588\",\"type\":\"BasicTicker\"}},\"id\":\"2591\",\"type\":\"Grid\"},{\"attributes\":{\"line_color\":\"#1f77b4\",\"x\":{\"field\":\"x\"},\"y\":{\"field\":\"y\"}},\"id\":\"2611\",\"type\":\"Line\"},{\"attributes\":{},\"id\":\"2578\",\"type\":\"LinearScale\"},{\"attributes\":{\"data_source\":{\"id\":\"2605\",\"type\":\"ColumnDataSource\"},\"glyph\":{\"id\":\"2606\",\"type\":\"Circle\"},\"hover_glyph\":null,\"muted_glyph\":null,\"nonselection_glyph\":{\"id\":\"2607\",\"type\":\"Circle\"},\"selection_glyph\":null,\"view\":{\"id\":\"2609\",\"type\":\"CDSView\"}},\"id\":\"2608\",\"type\":\"GlyphRenderer\"},{\"attributes\":{},\"id\":\"2718\",\"type\":\"BasicTickFormatter\"},{\"attributes\":{\"text\":\"\"},\"id\":\"2715\",\"type\":\"Title\"},{\"attributes\":{\"line_alpha\":0.1,\"line_color\":\"#1f77b4\",\"x\":{\"field\":\"x\"},\"y\":{\"field\":\"y\"}},\"id\":\"2612\",\"type\":\"Line\"},{\"attributes\":{\"ticker\":{\"id\":\"2583\",\"type\":\"BasicTicker\"}},\"id\":\"2586\",\"type\":\"Grid\"},{\"attributes\":{\"fill_alpha\":{\"value\":0.1},\"fill_color\":{\"value\":\"#1f77b4\"},\"line_alpha\":{\"value\":0.1},\"line_color\":{\"value\":\"#1f77b4\"},\"x\":{\"field\":\"x\"},\"y\":{\"field\":\"y\"}},\"id\":\"2607\",\"type\":\"Circle\"},{\"attributes\":{\"data_source\":{\"id\":\"2610\",\"type\":\"ColumnDataSource\"},\"glyph\":{\"id\":\"2611\",\"type\":\"Line\"},\"hover_glyph\":null,\"muted_glyph\":null,\"nonselection_glyph\":{\"id\":\"2612\",\"type\":\"Line\"},\"selection_glyph\":null,\"view\":{\"id\":\"2614\",\"type\":\"CDSView\"}},\"id\":\"2613\",\"type\":\"GlyphRenderer\"},{\"attributes\":{\"source\":{\"id\":\"2610\",\"type\":\"ColumnDataSource\"}},\"id\":\"2614\",\"type\":\"CDSView\"},{\"attributes\":{},\"id\":\"2588\",\"type\":\"BasicTicker\"},{\"attributes\":{\"callback\":null,\"data\":{\"x\":{\"__ndarray__\":\"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\",\"dtype\":\"float64\",\"shape\":[200]},\"y\":{\"__ndarray__\":\"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\",\"dtype\":\"float64\",\"shape\":[200]}},\"selected\":{\"id\":\"2725\",\"type\":\"Selection\"},\"selection_policy\":{\"id\":\"2724\",\"type\":\"UnionRenderers\"}},\"id\":\"2610\",\"type\":\"ColumnDataSource\"},{\"attributes\":{},\"id\":\"2720\",\"type\":\"BasicTickFormatter\"},{\"attributes\":{\"callback\":null,\"data\":{\"x\":{\"__ndarray__\":\"p8z63rRDZj8BBtvHtPeRPwimFo0FTKI/\",\"dtype\":\"float64\",\"shape\":[3]},\"y\":{\"__ndarray__\":\"EoPAyqFFtj9g5dAi2/nOP23n+6nx0tU/\",\"dtype\":\"float64\",\"shape\":[3]}},\"selected\":{\"id\":\"2723\",\"type\":\"Selection\"},\"selection_policy\":{\"id\":\"2722\",\"type\":\"UnionRenderers\"}},\"id\":\"2605\",\"type\":\"ColumnDataSource\"},{\"attributes\":{\"bottom_units\":\"screen\",\"fill_alpha\":{\"value\":0.5},\"fill_color\":{\"value\":\"lightgrey\"},\"left_units\":\"screen\",\"level\":\"overlay\",\"line_alpha\":{\"value\":1.0},\"line_color\":{\"value\":\"black\"},\"line_dash\":[4,4],\"line_width\":{\"value\":2},\"render_mode\":\"css\",\"right_units\":\"screen\",\"top_units\":\"screen\"},\"id\":\"2721\",\"type\":\"BoxAnnotation\"},{\"attributes\":{},\"id\":\"2722\",\"type\":\"UnionRenderers\"},{\"attributes\":{\"callback\":null},\"id\":\"2576\",\"type\":\"DataRange1d\"}],\"root_ids\":[\"2573\"]},\"title\":\"Bokeh Application\",\"version\":\"1.4.0\"}};\n",
       "  var render_items = [{\"docid\":\"eab53937-721d-4946-9e2d-86bed9384a13\",\"roots\":{\"2573\":\"bdb2a6b6-c1c5-41b7-a4c1-6a5d8e5b850d\"}}];\n",
       "  root.Bokeh.embed.embed_items_notebook(docs_json, render_items);\n",
       "\n",
       "  }\n",
       "  if (root.Bokeh !== undefined) {\n",
       "    embed_document(root);\n",
       "  } else {\n",
       "    var attempts = 0;\n",
       "    var timer = setInterval(function(root) {\n",
       "      if (root.Bokeh !== undefined) {\n",
       "        clearInterval(timer);\n",
       "        embed_document(root);\n",
       "      } else {\n",
       "        attempts++;\n",
       "        if (attempts > 100) {\n",
       "          clearInterval(timer);\n",
       "          console.log(\"Bokeh: ERROR: Unable to run BokehJS code because BokehJS library is missing\");\n",
       "        }\n",
       "      }\n",
       "    }, 10, root)\n",
       "  }\n",
       "})(window);"
      ],
      "application/vnd.bokehjs_exec.v0+json": ""
     },
     "metadata": {
      "application/vnd.bokehjs_exec.v0+json": {
       "id": "2573"
      }
     },
     "output_type": "display_data"
    }
   ],
   "source": [
    "p = bokeh.plotting.figure(\n",
    "    frame_height=250,\n",
    "    frame_width=350,\n",
    "    y_axis_label='growth rate (per hr)',\n",
    "    x_axis_label='probability RNAP bound',\n",
    "    y_axis_type=\"linear\",\n",
    ")\n",
    "\n",
    "\n",
    "p.circle(\n",
    "    x=data['p bound'],\n",
    "    y=data['growth rate (per hr)']\n",
    ")\n",
    "\n",
    "p.line(\n",
    "    x=x,\n",
    "    y=y\n",
    ")\n",
    "\n",
    "bokeh.io.show(p)"
   ]
  },
  {
   "cell_type": "markdown",
   "metadata": {},
   "source": [
    "Let's put it all together now. Below is Tiba's code for parsing an energy matrix:"
   ]
  },
  {
   "cell_type": "code",
   "execution_count": 39,
   "metadata": {},
   "outputs": [
    {
     "data": {
      "text/html": [
       "<div>\n",
       "<style scoped>\n",
       "    .dataframe tbody tr th:only-of-type {\n",
       "        vertical-align: middle;\n",
       "    }\n",
       "\n",
       "    .dataframe tbody tr th {\n",
       "        vertical-align: top;\n",
       "    }\n",
       "\n",
       "    .dataframe thead th {\n",
       "        text-align: right;\n",
       "    }\n",
       "</style>\n",
       "<table border=\"1\" class=\"dataframe\">\n",
       "  <thead>\n",
       "    <tr style=\"text-align: right;\">\n",
       "      <th></th>\n",
       "      <th>A</th>\n",
       "      <th>C</th>\n",
       "      <th>G</th>\n",
       "      <th>T</th>\n",
       "    </tr>\n",
       "  </thead>\n",
       "  <tbody>\n",
       "    <tr>\n",
       "      <th>0</th>\n",
       "      <td>0.305961</td>\n",
       "      <td>0.681616</td>\n",
       "      <td>0.360140</td>\n",
       "      <td>-0.313427</td>\n",
       "    </tr>\n",
       "    <tr>\n",
       "      <th>1</th>\n",
       "      <td>0.122283</td>\n",
       "      <td>0.247441</td>\n",
       "      <td>0.171605</td>\n",
       "      <td>-0.313427</td>\n",
       "    </tr>\n",
       "    <tr>\n",
       "      <th>2</th>\n",
       "      <td>1.500683</td>\n",
       "      <td>1.490967</td>\n",
       "      <td>-0.313427</td>\n",
       "      <td>0.633869</td>\n",
       "    </tr>\n",
       "    <tr>\n",
       "      <th>3</th>\n",
       "      <td>-0.313427</td>\n",
       "      <td>1.032246</td>\n",
       "      <td>-0.138758</td>\n",
       "      <td>0.699062</td>\n",
       "    </tr>\n",
       "    <tr>\n",
       "      <th>4</th>\n",
       "      <td>1.064641</td>\n",
       "      <td>-0.214039</td>\n",
       "      <td>1.119622</td>\n",
       "      <td>-0.313427</td>\n",
       "    </tr>\n",
       "  </tbody>\n",
       "</table>\n",
       "</div>"
      ],
      "text/plain": [
       "          A         C         G         T\n",
       "0  0.305961  0.681616  0.360140 -0.313427\n",
       "1  0.122283  0.247441  0.171605 -0.313427\n",
       "2  1.500683  1.490967 -0.313427  0.633869\n",
       "3 -0.313427  1.032246 -0.138758  0.699062\n",
       "4  1.064641 -0.214039  1.119622 -0.313427"
      ]
     },
     "execution_count": 39,
     "metadata": {},
     "output_type": "execute_result"
    }
   ],
   "source": [
    "# read in the energy matrix\n",
    "data = pd.read_csv(\"../../data/brewster_matrixS2.txt\", sep=\" \", comment=\"#\", header=None)\n",
    "data = data[5: -6] #trimming matrix to 30 bp\n",
    "data = data.reset_index(drop=True)\n",
    "data.columns = ['A','C','G','T']\n",
    "data.head()"
   ]
  },
  {
   "cell_type": "code",
   "execution_count": 40,
   "metadata": {},
   "outputs": [],
   "source": [
    "RandSeq1 = \"ATAGGAGCGTCATCAAACGCGCCGTTCAGGTTCTGGTTCTCCATGCTATAGTTAAGCCGCACAACGGGTACTACCACTCCCTGTAGTCCGCTTTACCGTTCTC\"\n",
    "RandSeq1_trimmed = 'CGTTCAGGTTCTGGTTCTCCATGCCATAGT'"
   ]
  },
  {
   "cell_type": "code",
   "execution_count": 41,
   "metadata": {},
   "outputs": [],
   "source": [
    "def energy(sequence):\n",
    "    \"\"\"\n",
    "    Input:\n",
    "         sequence: 30 bp for the promoter region\n",
    "    Output:\n",
    "        total_energy: the total energy for the given sequence in K_bT\"\"\"\n",
    "    #Initializing the counter for the total energy.\n",
    "    total_energy = 0\n",
    "    \n",
    "    #Adds the energy value for each base together for the entire sequence\n",
    "    for position, letter in enumerate(sequence):\n",
    "        #Determines the energy for a given position and base pair location using the energy matrix\n",
    "        energy_of_base = data.loc[position,letter]\n",
    "        total_energy += energy_of_base\n",
    "        \n",
    "    return(total_energy)"
   ]
  },
  {
   "cell_type": "markdown",
   "metadata": {},
   "source": [
    "And finally, let's write a growth rate function that will give the predicted growth rate from a given sequence."
   ]
  },
  {
   "cell_type": "code",
   "execution_count": 22,
   "metadata": {},
   "outputs": [],
   "source": [
    "def growth_rate(sequence, m=7.61, b=0.0813):\n",
    "    \"\"\"\n",
    "    Given a sequnence, returns the growth rate (in units of hr^-1)\n",
    "    Uses the prediced biding energy of the sequence and the linear relationship\n",
    "    between probability bound and growth rate (as paramaterized by m and b)\n",
    "    \"\"\"\n",
    "    e = energy(sequence)\n",
    "    p_bound = 1 / (1 + N_NS/P * np.exp(e))\n",
    "    growth_rate = m*p_bound + b\n",
    "    return growth_rate\n",
    "    "
   ]
  },
  {
   "cell_type": "code",
   "execution_count": 42,
   "metadata": {},
   "outputs": [
    {
     "data": {
      "text/plain": [
       "0.11139560114884847"
      ]
     },
     "execution_count": 42,
     "metadata": {},
     "output_type": "execute_result"
    }
   ],
   "source": [
    "# unevovled RandSeq1\n",
    "growth_rate('CGTTCAGGTTCTGGTTCTCCATGCCATAGT')"
   ]
  },
  {
   "cell_type": "code",
   "execution_count": 45,
   "metadata": {},
   "outputs": [
    {
     "data": {
      "text/plain": [
       "0.17146827234507406"
      ]
     },
     "execution_count": 45,
     "metadata": {},
     "output_type": "execute_result"
    }
   ],
   "source": [
    "# evovled RandSeq1\n",
    "growth_rate('CGTTCAGGTTCTGGTTCTCCATGCTATAGT')"
   ]
  },
  {
   "cell_type": "code",
   "execution_count": null,
   "metadata": {},
   "outputs": [],
   "source": []
  }
 ],
 "metadata": {
  "kernelspec": {
   "display_name": "Python 3",
   "language": "python",
   "name": "python3"
  },
  "language_info": {
   "codemirror_mode": {
    "name": "ipython",
    "version": 3
   },
   "file_extension": ".py",
   "mimetype": "text/x-python",
   "name": "python",
   "nbconvert_exporter": "python",
   "pygments_lexer": "ipython3",
   "version": "3.7.3"
  }
 },
 "nbformat": 4,
 "nbformat_minor": 2
}
