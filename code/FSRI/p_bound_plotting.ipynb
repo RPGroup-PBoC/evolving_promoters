{
 "cells": [
  {
   "cell_type": "code",
   "execution_count": 5,
   "metadata": {},
   "outputs": [
    {
     "data": {
      "text/html": [
       "\n",
       "    <div class=\"bk-root\">\n",
       "        <a href=\"https://bokeh.org\" target=\"_blank\" class=\"bk-logo bk-logo-small bk-logo-notebook\"></a>\n",
       "        <span id=\"1295\">Loading BokehJS ...</span>\n",
       "    </div>"
      ]
     },
     "metadata": {},
     "output_type": "display_data"
    },
    {
     "data": {
      "application/javascript": [
       "\n",
       "(function(root) {\n",
       "  function now() {\n",
       "    return new Date();\n",
       "  }\n",
       "\n",
       "  var force = true;\n",
       "\n",
       "  if (typeof root._bokeh_onload_callbacks === \"undefined\" || force === true) {\n",
       "    root._bokeh_onload_callbacks = [];\n",
       "    root._bokeh_is_loading = undefined;\n",
       "  }\n",
       "\n",
       "  var JS_MIME_TYPE = 'application/javascript';\n",
       "  var HTML_MIME_TYPE = 'text/html';\n",
       "  var EXEC_MIME_TYPE = 'application/vnd.bokehjs_exec.v0+json';\n",
       "  var CLASS_NAME = 'output_bokeh rendered_html';\n",
       "\n",
       "  /**\n",
       "   * Render data to the DOM node\n",
       "   */\n",
       "  function render(props, node) {\n",
       "    var script = document.createElement(\"script\");\n",
       "    node.appendChild(script);\n",
       "  }\n",
       "\n",
       "  /**\n",
       "   * Handle when an output is cleared or removed\n",
       "   */\n",
       "  function handleClearOutput(event, handle) {\n",
       "    var cell = handle.cell;\n",
       "\n",
       "    var id = cell.output_area._bokeh_element_id;\n",
       "    var server_id = cell.output_area._bokeh_server_id;\n",
       "    // Clean up Bokeh references\n",
       "    if (id != null && id in Bokeh.index) {\n",
       "      Bokeh.index[id].model.document.clear();\n",
       "      delete Bokeh.index[id];\n",
       "    }\n",
       "\n",
       "    if (server_id !== undefined) {\n",
       "      // Clean up Bokeh references\n",
       "      var cmd = \"from bokeh.io.state import curstate; print(curstate().uuid_to_server['\" + server_id + \"'].get_sessions()[0].document.roots[0]._id)\";\n",
       "      cell.notebook.kernel.execute(cmd, {\n",
       "        iopub: {\n",
       "          output: function(msg) {\n",
       "            var id = msg.content.text.trim();\n",
       "            if (id in Bokeh.index) {\n",
       "              Bokeh.index[id].model.document.clear();\n",
       "              delete Bokeh.index[id];\n",
       "            }\n",
       "          }\n",
       "        }\n",
       "      });\n",
       "      // Destroy server and session\n",
       "      var cmd = \"import bokeh.io.notebook as ion; ion.destroy_server('\" + server_id + \"')\";\n",
       "      cell.notebook.kernel.execute(cmd);\n",
       "    }\n",
       "  }\n",
       "\n",
       "  /**\n",
       "   * Handle when a new output is added\n",
       "   */\n",
       "  function handleAddOutput(event, handle) {\n",
       "    var output_area = handle.output_area;\n",
       "    var output = handle.output;\n",
       "\n",
       "    // limit handleAddOutput to display_data with EXEC_MIME_TYPE content only\n",
       "    if ((output.output_type != \"display_data\") || (!output.data.hasOwnProperty(EXEC_MIME_TYPE))) {\n",
       "      return\n",
       "    }\n",
       "\n",
       "    var toinsert = output_area.element.find(\".\" + CLASS_NAME.split(' ')[0]);\n",
       "\n",
       "    if (output.metadata[EXEC_MIME_TYPE][\"id\"] !== undefined) {\n",
       "      toinsert[toinsert.length - 1].firstChild.textContent = output.data[JS_MIME_TYPE];\n",
       "      // store reference to embed id on output_area\n",
       "      output_area._bokeh_element_id = output.metadata[EXEC_MIME_TYPE][\"id\"];\n",
       "    }\n",
       "    if (output.metadata[EXEC_MIME_TYPE][\"server_id\"] !== undefined) {\n",
       "      var bk_div = document.createElement(\"div\");\n",
       "      bk_div.innerHTML = output.data[HTML_MIME_TYPE];\n",
       "      var script_attrs = bk_div.children[0].attributes;\n",
       "      for (var i = 0; i < script_attrs.length; i++) {\n",
       "        toinsert[toinsert.length - 1].firstChild.setAttribute(script_attrs[i].name, script_attrs[i].value);\n",
       "        toinsert[toinsert.length - 1].firstChild.textContent = bk_div.children[0].textContent\n",
       "      }\n",
       "      // store reference to server id on output_area\n",
       "      output_area._bokeh_server_id = output.metadata[EXEC_MIME_TYPE][\"server_id\"];\n",
       "    }\n",
       "  }\n",
       "\n",
       "  function register_renderer(events, OutputArea) {\n",
       "\n",
       "    function append_mime(data, metadata, element) {\n",
       "      // create a DOM node to render to\n",
       "      var toinsert = this.create_output_subarea(\n",
       "        metadata,\n",
       "        CLASS_NAME,\n",
       "        EXEC_MIME_TYPE\n",
       "      );\n",
       "      this.keyboard_manager.register_events(toinsert);\n",
       "      // Render to node\n",
       "      var props = {data: data, metadata: metadata[EXEC_MIME_TYPE]};\n",
       "      render(props, toinsert[toinsert.length - 1]);\n",
       "      element.append(toinsert);\n",
       "      return toinsert\n",
       "    }\n",
       "\n",
       "    /* Handle when an output is cleared or removed */\n",
       "    events.on('clear_output.CodeCell', handleClearOutput);\n",
       "    events.on('delete.Cell', handleClearOutput);\n",
       "\n",
       "    /* Handle when a new output is added */\n",
       "    events.on('output_added.OutputArea', handleAddOutput);\n",
       "\n",
       "    /**\n",
       "     * Register the mime type and append_mime function with output_area\n",
       "     */\n",
       "    OutputArea.prototype.register_mime_type(EXEC_MIME_TYPE, append_mime, {\n",
       "      /* Is output safe? */\n",
       "      safe: true,\n",
       "      /* Index of renderer in `output_area.display_order` */\n",
       "      index: 0\n",
       "    });\n",
       "  }\n",
       "\n",
       "  // register the mime type if in Jupyter Notebook environment and previously unregistered\n",
       "  if (root.Jupyter !== undefined) {\n",
       "    var events = require('base/js/events');\n",
       "    var OutputArea = require('notebook/js/outputarea').OutputArea;\n",
       "\n",
       "    if (OutputArea.prototype.mime_types().indexOf(EXEC_MIME_TYPE) == -1) {\n",
       "      register_renderer(events, OutputArea);\n",
       "    }\n",
       "  }\n",
       "\n",
       "  \n",
       "  if (typeof (root._bokeh_timeout) === \"undefined\" || force === true) {\n",
       "    root._bokeh_timeout = Date.now() + 5000;\n",
       "    root._bokeh_failed_load = false;\n",
       "  }\n",
       "\n",
       "  var NB_LOAD_WARNING = {'data': {'text/html':\n",
       "     \"<div style='background-color: #fdd'>\\n\"+\n",
       "     \"<p>\\n\"+\n",
       "     \"BokehJS does not appear to have successfully loaded. If loading BokehJS from CDN, this \\n\"+\n",
       "     \"may be due to a slow or bad network connection. Possible fixes:\\n\"+\n",
       "     \"</p>\\n\"+\n",
       "     \"<ul>\\n\"+\n",
       "     \"<li>re-rerun `output_notebook()` to attempt to load from CDN again, or</li>\\n\"+\n",
       "     \"<li>use INLINE resources instead, as so:</li>\\n\"+\n",
       "     \"</ul>\\n\"+\n",
       "     \"<code>\\n\"+\n",
       "     \"from bokeh.resources import INLINE\\n\"+\n",
       "     \"output_notebook(resources=INLINE)\\n\"+\n",
       "     \"</code>\\n\"+\n",
       "     \"</div>\"}};\n",
       "\n",
       "  function display_loaded() {\n",
       "    var el = document.getElementById(\"1295\");\n",
       "    if (el != null) {\n",
       "      el.textContent = \"BokehJS is loading...\";\n",
       "    }\n",
       "    if (root.Bokeh !== undefined) {\n",
       "      if (el != null) {\n",
       "        el.textContent = \"BokehJS \" + root.Bokeh.version + \" successfully loaded.\";\n",
       "      }\n",
       "    } else if (Date.now() < root._bokeh_timeout) {\n",
       "      setTimeout(display_loaded, 100)\n",
       "    }\n",
       "  }\n",
       "\n",
       "\n",
       "  function run_callbacks() {\n",
       "    try {\n",
       "      root._bokeh_onload_callbacks.forEach(function(callback) {\n",
       "        if (callback != null)\n",
       "          callback();\n",
       "      });\n",
       "    } finally {\n",
       "      delete root._bokeh_onload_callbacks\n",
       "    }\n",
       "    console.debug(\"Bokeh: all callbacks have finished\");\n",
       "  }\n",
       "\n",
       "  function load_libs(css_urls, js_urls, callback) {\n",
       "    if (css_urls == null) css_urls = [];\n",
       "    if (js_urls == null) js_urls = [];\n",
       "\n",
       "    root._bokeh_onload_callbacks.push(callback);\n",
       "    if (root._bokeh_is_loading > 0) {\n",
       "      console.debug(\"Bokeh: BokehJS is being loaded, scheduling callback at\", now());\n",
       "      return null;\n",
       "    }\n",
       "    if (js_urls == null || js_urls.length === 0) {\n",
       "      run_callbacks();\n",
       "      return null;\n",
       "    }\n",
       "    console.debug(\"Bokeh: BokehJS not loaded, scheduling load and callback at\", now());\n",
       "    root._bokeh_is_loading = css_urls.length + js_urls.length;\n",
       "\n",
       "    function on_load() {\n",
       "      root._bokeh_is_loading--;\n",
       "      if (root._bokeh_is_loading === 0) {\n",
       "        console.debug(\"Bokeh: all BokehJS libraries/stylesheets loaded\");\n",
       "        run_callbacks()\n",
       "      }\n",
       "    }\n",
       "\n",
       "    function on_error() {\n",
       "      console.error(\"failed to load \" + url);\n",
       "    }\n",
       "\n",
       "    for (var i = 0; i < css_urls.length; i++) {\n",
       "      var url = css_urls[i];\n",
       "      const element = document.createElement(\"link\");\n",
       "      element.onload = on_load;\n",
       "      element.onerror = on_error;\n",
       "      element.rel = \"stylesheet\";\n",
       "      element.type = \"text/css\";\n",
       "      element.href = url;\n",
       "      console.debug(\"Bokeh: injecting link tag for BokehJS stylesheet: \", url);\n",
       "      document.body.appendChild(element);\n",
       "    }\n",
       "\n",
       "    const hashes = {\"https://cdn.bokeh.org/bokeh/release/bokeh-2.1.1.min.js\": \"kLr4fYcqcSpbuI95brIH3vnnYCquzzSxHPU6XGQCIkQRGJwhg0StNbj1eegrHs12\", \"https://cdn.bokeh.org/bokeh/release/bokeh-widgets-2.1.1.min.js\": \"xIGPmVtaOm+z0BqfSOMn4lOR6ciex448GIKG4eE61LsAvmGj48XcMQZtKcE/UXZe\", \"https://cdn.bokeh.org/bokeh/release/bokeh-tables-2.1.1.min.js\": \"Dc9u1wF/0zApGIWoBbH77iWEHtdmkuYWG839Uzmv8y8yBLXebjO9ZnERsde5Ln/P\", \"https://cdn.bokeh.org/bokeh/release/bokeh-gl-2.1.1.min.js\": \"cT9JaBz7GiRXdENrJLZNSC6eMNF3nh3fa5fTF51Svp+ukxPdwcU5kGXGPBgDCa2j\"};\n",
       "\n",
       "    for (var i = 0; i < js_urls.length; i++) {\n",
       "      var url = js_urls[i];\n",
       "      var element = document.createElement('script');\n",
       "      element.onload = on_load;\n",
       "      element.onerror = on_error;\n",
       "      element.async = false;\n",
       "      element.src = url;\n",
       "      if (url in hashes) {\n",
       "        element.crossOrigin = \"anonymous\";\n",
       "        element.integrity = \"sha384-\" + hashes[url];\n",
       "      }\n",
       "      console.debug(\"Bokeh: injecting script tag for BokehJS library: \", url);\n",
       "      document.head.appendChild(element);\n",
       "    }\n",
       "  };\n",
       "\n",
       "  function inject_raw_css(css) {\n",
       "    const element = document.createElement(\"style\");\n",
       "    element.appendChild(document.createTextNode(css));\n",
       "    document.body.appendChild(element);\n",
       "  }\n",
       "\n",
       "  \n",
       "  var js_urls = [\"https://cdn.bokeh.org/bokeh/release/bokeh-2.1.1.min.js\", \"https://cdn.bokeh.org/bokeh/release/bokeh-widgets-2.1.1.min.js\", \"https://cdn.bokeh.org/bokeh/release/bokeh-tables-2.1.1.min.js\", \"https://cdn.bokeh.org/bokeh/release/bokeh-gl-2.1.1.min.js\"];\n",
       "  var css_urls = [];\n",
       "  \n",
       "\n",
       "  var inline_js = [\n",
       "    function(Bokeh) {\n",
       "      Bokeh.set_log_level(\"info\");\n",
       "    },\n",
       "    function(Bokeh) {\n",
       "    \n",
       "    \n",
       "    }\n",
       "  ];\n",
       "\n",
       "  function run_inline_js() {\n",
       "    \n",
       "    if (root.Bokeh !== undefined || force === true) {\n",
       "      \n",
       "    for (var i = 0; i < inline_js.length; i++) {\n",
       "      inline_js[i].call(root, root.Bokeh);\n",
       "    }\n",
       "    if (force === true) {\n",
       "        display_loaded();\n",
       "      }} else if (Date.now() < root._bokeh_timeout) {\n",
       "      setTimeout(run_inline_js, 100);\n",
       "    } else if (!root._bokeh_failed_load) {\n",
       "      console.log(\"Bokeh: BokehJS failed to load within specified timeout.\");\n",
       "      root._bokeh_failed_load = true;\n",
       "    } else if (force !== true) {\n",
       "      var cell = $(document.getElementById(\"1295\")).parents('.cell').data().cell;\n",
       "      cell.output_area.append_execute_result(NB_LOAD_WARNING)\n",
       "    }\n",
       "\n",
       "  }\n",
       "\n",
       "  if (root._bokeh_is_loading === 0) {\n",
       "    console.debug(\"Bokeh: BokehJS loaded, going straight to plotting\");\n",
       "    run_inline_js();\n",
       "  } else {\n",
       "    load_libs(css_urls, js_urls, function() {\n",
       "      console.debug(\"Bokeh: BokehJS plotting callback run at\", now());\n",
       "      run_inline_js();\n",
       "    });\n",
       "  }\n",
       "}(window));"
      ],
      "application/vnd.bokehjs_load.v0+json": "\n(function(root) {\n  function now() {\n    return new Date();\n  }\n\n  var force = true;\n\n  if (typeof root._bokeh_onload_callbacks === \"undefined\" || force === true) {\n    root._bokeh_onload_callbacks = [];\n    root._bokeh_is_loading = undefined;\n  }\n\n  \n\n  \n  if (typeof (root._bokeh_timeout) === \"undefined\" || force === true) {\n    root._bokeh_timeout = Date.now() + 5000;\n    root._bokeh_failed_load = false;\n  }\n\n  var NB_LOAD_WARNING = {'data': {'text/html':\n     \"<div style='background-color: #fdd'>\\n\"+\n     \"<p>\\n\"+\n     \"BokehJS does not appear to have successfully loaded. If loading BokehJS from CDN, this \\n\"+\n     \"may be due to a slow or bad network connection. Possible fixes:\\n\"+\n     \"</p>\\n\"+\n     \"<ul>\\n\"+\n     \"<li>re-rerun `output_notebook()` to attempt to load from CDN again, or</li>\\n\"+\n     \"<li>use INLINE resources instead, as so:</li>\\n\"+\n     \"</ul>\\n\"+\n     \"<code>\\n\"+\n     \"from bokeh.resources import INLINE\\n\"+\n     \"output_notebook(resources=INLINE)\\n\"+\n     \"</code>\\n\"+\n     \"</div>\"}};\n\n  function display_loaded() {\n    var el = document.getElementById(\"1295\");\n    if (el != null) {\n      el.textContent = \"BokehJS is loading...\";\n    }\n    if (root.Bokeh !== undefined) {\n      if (el != null) {\n        el.textContent = \"BokehJS \" + root.Bokeh.version + \" successfully loaded.\";\n      }\n    } else if (Date.now() < root._bokeh_timeout) {\n      setTimeout(display_loaded, 100)\n    }\n  }\n\n\n  function run_callbacks() {\n    try {\n      root._bokeh_onload_callbacks.forEach(function(callback) {\n        if (callback != null)\n          callback();\n      });\n    } finally {\n      delete root._bokeh_onload_callbacks\n    }\n    console.debug(\"Bokeh: all callbacks have finished\");\n  }\n\n  function load_libs(css_urls, js_urls, callback) {\n    if (css_urls == null) css_urls = [];\n    if (js_urls == null) js_urls = [];\n\n    root._bokeh_onload_callbacks.push(callback);\n    if (root._bokeh_is_loading > 0) {\n      console.debug(\"Bokeh: BokehJS is being loaded, scheduling callback at\", now());\n      return null;\n    }\n    if (js_urls == null || js_urls.length === 0) {\n      run_callbacks();\n      return null;\n    }\n    console.debug(\"Bokeh: BokehJS not loaded, scheduling load and callback at\", now());\n    root._bokeh_is_loading = css_urls.length + js_urls.length;\n\n    function on_load() {\n      root._bokeh_is_loading--;\n      if (root._bokeh_is_loading === 0) {\n        console.debug(\"Bokeh: all BokehJS libraries/stylesheets loaded\");\n        run_callbacks()\n      }\n    }\n\n    function on_error() {\n      console.error(\"failed to load \" + url);\n    }\n\n    for (var i = 0; i < css_urls.length; i++) {\n      var url = css_urls[i];\n      const element = document.createElement(\"link\");\n      element.onload = on_load;\n      element.onerror = on_error;\n      element.rel = \"stylesheet\";\n      element.type = \"text/css\";\n      element.href = url;\n      console.debug(\"Bokeh: injecting link tag for BokehJS stylesheet: \", url);\n      document.body.appendChild(element);\n    }\n\n    const hashes = {\"https://cdn.bokeh.org/bokeh/release/bokeh-2.1.1.min.js\": \"kLr4fYcqcSpbuI95brIH3vnnYCquzzSxHPU6XGQCIkQRGJwhg0StNbj1eegrHs12\", \"https://cdn.bokeh.org/bokeh/release/bokeh-widgets-2.1.1.min.js\": \"xIGPmVtaOm+z0BqfSOMn4lOR6ciex448GIKG4eE61LsAvmGj48XcMQZtKcE/UXZe\", \"https://cdn.bokeh.org/bokeh/release/bokeh-tables-2.1.1.min.js\": \"Dc9u1wF/0zApGIWoBbH77iWEHtdmkuYWG839Uzmv8y8yBLXebjO9ZnERsde5Ln/P\", \"https://cdn.bokeh.org/bokeh/release/bokeh-gl-2.1.1.min.js\": \"cT9JaBz7GiRXdENrJLZNSC6eMNF3nh3fa5fTF51Svp+ukxPdwcU5kGXGPBgDCa2j\"};\n\n    for (var i = 0; i < js_urls.length; i++) {\n      var url = js_urls[i];\n      var element = document.createElement('script');\n      element.onload = on_load;\n      element.onerror = on_error;\n      element.async = false;\n      element.src = url;\n      if (url in hashes) {\n        element.crossOrigin = \"anonymous\";\n        element.integrity = \"sha384-\" + hashes[url];\n      }\n      console.debug(\"Bokeh: injecting script tag for BokehJS library: \", url);\n      document.head.appendChild(element);\n    }\n  };\n\n  function inject_raw_css(css) {\n    const element = document.createElement(\"style\");\n    element.appendChild(document.createTextNode(css));\n    document.body.appendChild(element);\n  }\n\n  \n  var js_urls = [\"https://cdn.bokeh.org/bokeh/release/bokeh-2.1.1.min.js\", \"https://cdn.bokeh.org/bokeh/release/bokeh-widgets-2.1.1.min.js\", \"https://cdn.bokeh.org/bokeh/release/bokeh-tables-2.1.1.min.js\", \"https://cdn.bokeh.org/bokeh/release/bokeh-gl-2.1.1.min.js\"];\n  var css_urls = [];\n  \n\n  var inline_js = [\n    function(Bokeh) {\n      Bokeh.set_log_level(\"info\");\n    },\n    function(Bokeh) {\n    \n    \n    }\n  ];\n\n  function run_inline_js() {\n    \n    if (root.Bokeh !== undefined || force === true) {\n      \n    for (var i = 0; i < inline_js.length; i++) {\n      inline_js[i].call(root, root.Bokeh);\n    }\n    if (force === true) {\n        display_loaded();\n      }} else if (Date.now() < root._bokeh_timeout) {\n      setTimeout(run_inline_js, 100);\n    } else if (!root._bokeh_failed_load) {\n      console.log(\"Bokeh: BokehJS failed to load within specified timeout.\");\n      root._bokeh_failed_load = true;\n    } else if (force !== true) {\n      var cell = $(document.getElementById(\"1295\")).parents('.cell').data().cell;\n      cell.output_area.append_execute_result(NB_LOAD_WARNING)\n    }\n\n  }\n\n  if (root._bokeh_is_loading === 0) {\n    console.debug(\"Bokeh: BokehJS loaded, going straight to plotting\");\n    run_inline_js();\n  } else {\n    load_libs(css_urls, js_urls, function() {\n      console.debug(\"Bokeh: BokehJS plotting callback run at\", now());\n      run_inline_js();\n    });\n  }\n}(window));"
     },
     "metadata": {},
     "output_type": "display_data"
    }
   ],
   "source": [
    "import numpy as np\n",
    "import pandas as pd\n",
    "import scipy.special\n",
    "\n",
    "import bokeh.io\n",
    "import bokeh.plotting\n",
    "\n",
    "bokeh.io.output_notebook()"
   ]
  },
  {
   "cell_type": "markdown",
   "metadata": {},
   "source": [
    "Tuning number of RNAP:"
   ]
  },
  {
   "cell_type": "code",
   "execution_count": 6,
   "metadata": {},
   "outputs": [],
   "source": [
    "# make a range of polymerase copy number values to plot\n",
    "P = np.floor(np.linspace(1,10000,200))\n",
    "\n",
    "# parameters needed for p_bound\n",
    "delta_e_P1 = -2.9 #kBT\n",
    "delta_e_T7 = -8.1 #kBT\n",
    "N_NS = 4.6E6 #bp\n",
    "\n",
    "# compute p_bound from range of P values and parameters\n",
    "p_bound_P1 = 1 / (1 + N_NS/P * np.exp(delta_e_P1))\n",
    "p_bound_T7 = 1 / (1 + N_NS/P * np.exp(delta_e_T7))"
   ]
  },
  {
   "cell_type": "code",
   "execution_count": 7,
   "metadata": {},
   "outputs": [
    {
     "data": {
      "text/html": [
       "\n",
       "\n",
       "\n",
       "\n",
       "\n",
       "\n",
       "  <div class=\"bk-root\" id=\"8c430c63-9ab4-4102-9929-43ad0e859c17\" data-root-id=\"1296\"></div>\n"
      ]
     },
     "metadata": {},
     "output_type": "display_data"
    },
    {
     "data": {
      "application/javascript": [
       "(function(root) {\n",
       "  function embed_document(root) {\n",
       "    \n",
       "  var docs_json = {\"4fb9a272-2d12-4601-a971-aceeb2be4aa7\":{\"roots\":{\"references\":[{\"attributes\":{\"below\":[{\"id\":\"1305\"}],\"center\":[{\"id\":\"1308\"},{\"id\":\"1312\"},{\"id\":\"1341\"}],\"frame_height\":250,\"frame_width\":350,\"left\":[{\"id\":\"1309\"}],\"renderers\":[{\"id\":\"1330\"},{\"id\":\"1346\"}],\"title\":{\"id\":\"1333\"},\"toolbar\":{\"id\":\"1320\"},\"x_range\":{\"id\":\"1297\"},\"x_scale\":{\"id\":\"1301\"},\"y_range\":{\"id\":\"1299\"},\"y_scale\":{\"id\":\"1303\"}},\"id\":\"1296\",\"subtype\":\"Figure\",\"type\":\"Plot\"},{\"attributes\":{\"label\":{\"value\":\"lac P1\"},\"renderers\":[{\"id\":\"1330\"}]},\"id\":\"1342\",\"type\":\"LegendItem\"},{\"attributes\":{\"bottom_units\":\"screen\",\"fill_alpha\":0.5,\"fill_color\":\"lightgrey\",\"left_units\":\"screen\",\"level\":\"overlay\",\"line_alpha\":1.0,\"line_color\":\"black\",\"line_dash\":[4,4],\"line_width\":2,\"right_units\":\"screen\",\"top_units\":\"screen\"},\"id\":\"1319\",\"type\":\"BoxAnnotation\"},{\"attributes\":{\"line_color\":\"red\",\"line_width\":2,\"x\":{\"field\":\"x\"},\"y\":{\"field\":\"y\"}},\"id\":\"1328\",\"type\":\"Line\"},{\"attributes\":{},\"id\":\"1338\",\"type\":\"UnionRenderers\"},{\"attributes\":{},\"id\":\"1357\",\"type\":\"Selection\"},{\"attributes\":{},\"id\":\"1299\",\"type\":\"DataRange1d\"},{\"attributes\":{\"ticker\":null},\"id\":\"1334\",\"type\":\"LogTickFormatter\"},{\"attributes\":{},\"id\":\"1339\",\"type\":\"Selection\"},{\"attributes\":{\"active_drag\":\"auto\",\"active_inspect\":\"auto\",\"active_multi\":null,\"active_scroll\":\"auto\",\"active_tap\":\"auto\",\"tools\":[{\"id\":\"1313\"},{\"id\":\"1314\"},{\"id\":\"1315\"},{\"id\":\"1316\"},{\"id\":\"1317\"},{\"id\":\"1318\"}]},\"id\":\"1320\",\"type\":\"Toolbar\"},{\"attributes\":{},\"id\":\"1297\",\"type\":\"DataRange1d\"},{\"attributes\":{\"line_alpha\":0.1,\"line_color\":\"blue\",\"line_width\":2,\"x\":{\"field\":\"x\"},\"y\":{\"field\":\"y\"}},\"id\":\"1345\",\"type\":\"Line\"},{\"attributes\":{},\"id\":\"1313\",\"type\":\"PanTool\"},{\"attributes\":{},\"id\":\"1314\",\"type\":\"WheelZoomTool\"},{\"attributes\":{},\"id\":\"1336\",\"type\":\"BasicTickFormatter\"},{\"attributes\":{\"overlay\":{\"id\":\"1319\"}},\"id\":\"1315\",\"type\":\"BoxZoomTool\"},{\"attributes\":{},\"id\":\"1303\",\"type\":\"LogScale\"},{\"attributes\":{\"data\":{\"x\":{\"__ndarray__\":\"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\",\"dtype\":\"float64\",\"order\":\"little\",\"shape\":[200]},\"y\":{\"__ndarray__\":\"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\",\"dtype\":\"float64\",\"order\":\"little\",\"shape\":[200]}},\"selected\":{\"id\":\"1339\"},\"selection_policy\":{\"id\":\"1338\"}},\"id\":\"1327\",\"type\":\"ColumnDataSource\"},{\"attributes\":{},\"id\":\"1316\",\"type\":\"SaveTool\"},{\"attributes\":{\"label\":{\"value\":\"T7 A1\"},\"renderers\":[{\"id\":\"1346\"}]},\"id\":\"1359\",\"type\":\"LegendItem\"},{\"attributes\":{},\"id\":\"1318\",\"type\":\"HelpTool\"},{\"attributes\":{\"text\":\"\"},\"id\":\"1333\",\"type\":\"Title\"},{\"attributes\":{},\"id\":\"1301\",\"type\":\"LinearScale\"},{\"attributes\":{},\"id\":\"1317\",\"type\":\"ResetTool\"},{\"attributes\":{\"source\":{\"id\":\"1327\"}},\"id\":\"1331\",\"type\":\"CDSView\"},{\"attributes\":{\"axis_label\":\"number of RNA polymerase molecules\",\"formatter\":{\"id\":\"1336\"},\"ticker\":{\"id\":\"1306\"}},\"id\":\"1305\",\"type\":\"LinearAxis\"},{\"attributes\":{\"axis\":{\"id\":\"1305\"},\"ticker\":null},\"id\":\"1308\",\"type\":\"Grid\"},{\"attributes\":{\"axis_label\":\"probability RNAP bound\",\"formatter\":{\"id\":\"1334\"},\"ticker\":{\"id\":\"1310\"}},\"id\":\"1309\",\"type\":\"LogAxis\"},{\"attributes\":{\"items\":[{\"id\":\"1342\"},{\"id\":\"1359\"}],\"location\":\"bottom_right\"},\"id\":\"1341\",\"type\":\"Legend\"},{\"attributes\":{\"source\":{\"id\":\"1343\"}},\"id\":\"1347\",\"type\":\"CDSView\"},{\"attributes\":{},\"id\":\"1306\",\"type\":\"BasicTicker\"},{\"attributes\":{\"data_source\":{\"id\":\"1343\"},\"glyph\":{\"id\":\"1344\"},\"hover_glyph\":null,\"muted_glyph\":null,\"nonselection_glyph\":{\"id\":\"1345\"},\"selection_glyph\":null,\"view\":{\"id\":\"1347\"}},\"id\":\"1346\",\"type\":\"GlyphRenderer\"},{\"attributes\":{\"num_minor_ticks\":10},\"id\":\"1310\",\"type\":\"LogTicker\"},{\"attributes\":{\"axis\":{\"id\":\"1309\"},\"dimension\":1,\"ticker\":null},\"id\":\"1312\",\"type\":\"Grid\"},{\"attributes\":{\"line_color\":\"blue\",\"line_width\":2,\"x\":{\"field\":\"x\"},\"y\":{\"field\":\"y\"}},\"id\":\"1344\",\"type\":\"Line\"},{\"attributes\":{\"data\":{\"x\":{\"__ndarray__\":\"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\",\"dtype\":\"float64\",\"order\":\"little\",\"shape\":[200]},\"y\":{\"__ndarray__\":\"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\",\"dtype\":\"float64\",\"order\":\"little\",\"shape\":[200]}},\"selected\":{\"id\":\"1357\"},\"selection_policy\":{\"id\":\"1356\"}},\"id\":\"1343\",\"type\":\"ColumnDataSource\"},{\"attributes\":{},\"id\":\"1356\",\"type\":\"UnionRenderers\"},{\"attributes\":{\"line_alpha\":0.1,\"line_color\":\"red\",\"line_width\":2,\"x\":{\"field\":\"x\"},\"y\":{\"field\":\"y\"}},\"id\":\"1329\",\"type\":\"Line\"},{\"attributes\":{\"data_source\":{\"id\":\"1327\"},\"glyph\":{\"id\":\"1328\"},\"hover_glyph\":null,\"muted_glyph\":null,\"nonselection_glyph\":{\"id\":\"1329\"},\"selection_glyph\":null,\"view\":{\"id\":\"1331\"}},\"id\":\"1330\",\"type\":\"GlyphRenderer\"}],\"root_ids\":[\"1296\"]},\"title\":\"Bokeh Application\",\"version\":\"2.1.1\"}};\n",
       "  var render_items = [{\"docid\":\"4fb9a272-2d12-4601-a971-aceeb2be4aa7\",\"root_ids\":[\"1296\"],\"roots\":{\"1296\":\"8c430c63-9ab4-4102-9929-43ad0e859c17\"}}];\n",
       "  root.Bokeh.embed.embed_items_notebook(docs_json, render_items);\n",
       "\n",
       "  }\n",
       "  if (root.Bokeh !== undefined) {\n",
       "    embed_document(root);\n",
       "  } else {\n",
       "    var attempts = 0;\n",
       "    var timer = setInterval(function(root) {\n",
       "      if (root.Bokeh !== undefined) {\n",
       "        clearInterval(timer);\n",
       "        embed_document(root);\n",
       "      } else {\n",
       "        attempts++;\n",
       "        if (attempts > 100) {\n",
       "          clearInterval(timer);\n",
       "          console.log(\"Bokeh: ERROR: Unable to run BokehJS code because BokehJS library is missing\");\n",
       "        }\n",
       "      }\n",
       "    }, 10, root)\n",
       "  }\n",
       "})(window);"
      ],
      "application/vnd.bokehjs_exec.v0+json": ""
     },
     "metadata": {
      "application/vnd.bokehjs_exec.v0+json": {
       "id": "1296"
      }
     },
     "output_type": "display_data"
    }
   ],
   "source": [
    "p = bokeh.plotting.figure(\n",
    "    frame_height=250,\n",
    "    frame_width=350,\n",
    "    x_axis_label='number of RNA polymerase molecules',\n",
    "    y_axis_label='probability RNAP bound',\n",
    "    y_axis_type=\"log\",\n",
    ")\n",
    "\n",
    "p.line(\n",
    "    x=P,\n",
    "    y=p_bound_P1,\n",
    "    line_join='bevel',\n",
    "    line_width=2,\n",
    "    line_color='red',\n",
    "    legend_label=\"lac P1\",\n",
    ")\n",
    "\n",
    "p.line(\n",
    "    x=P,\n",
    "    y=p_bound_T7,\n",
    "    line_join='bevel',\n",
    "    line_width=2,\n",
    "    line_color='blue',\n",
    "    legend_label=\"T7 A1\"\n",
    ")\n",
    "\n",
    "p.legend.location = \"bottom_right\"\n",
    "\n",
    "bokeh.io.show(p)"
   ]
  },
  {
   "cell_type": "markdown",
   "metadata": {},
   "source": [
    "Instead, let's tune the binding energy, which is more relevant for our situation of changing sequences:"
   ]
  },
  {
   "cell_type": "code",
   "execution_count": 8,
   "metadata": {},
   "outputs": [],
   "source": [
    "# make a range of polymerase copy number values to plot\n",
    "e = np.linspace(-5, -1, 400)\n",
    "\n",
    "# parameters needed for p_bound\n",
    "P = 3000\n",
    "N_NS = 4.6E6 #bp\n",
    "\n",
    "# compute p_bound from range of e values and parameters\n",
    "p_bound = 1 / (1 + N_NS/P * np.exp(e))"
   ]
  },
  {
   "cell_type": "code",
   "execution_count": 9,
   "metadata": {},
   "outputs": [
    {
     "data": {
      "text/html": [
       "\n",
       "\n",
       "\n",
       "\n",
       "\n",
       "\n",
       "  <div class=\"bk-root\" id=\"5aeac022-0752-4e70-8e34-1ae3e559ea75\" data-root-id=\"1459\"></div>\n"
      ]
     },
     "metadata": {},
     "output_type": "display_data"
    },
    {
     "data": {
      "application/javascript": [
       "(function(root) {\n",
       "  function embed_document(root) {\n",
       "    \n",
       "  var docs_json = {\"90c7ab2d-ef19-46a5-a678-05926c1abdf8\":{\"roots\":{\"references\":[{\"attributes\":{\"below\":[{\"id\":\"1468\"}],\"center\":[{\"id\":\"1471\"},{\"id\":\"1475\"}],\"frame_height\":250,\"frame_width\":350,\"left\":[{\"id\":\"1472\"}],\"renderers\":[{\"id\":\"1493\"}],\"title\":{\"id\":\"1529\"},\"toolbar\":{\"id\":\"1483\"},\"x_range\":{\"id\":\"1460\"},\"x_scale\":{\"id\":\"1464\"},\"y_range\":{\"id\":\"1462\"},\"y_scale\":{\"id\":\"1466\"}},\"id\":\"1459\",\"subtype\":\"Figure\",\"type\":\"Plot\"},{\"attributes\":{},\"id\":\"1469\",\"type\":\"BasicTicker\"},{\"attributes\":{},\"id\":\"1460\",\"type\":\"DataRange1d\"},{\"attributes\":{\"text\":\"\"},\"id\":\"1529\",\"type\":\"Title\"},{\"attributes\":{\"data\":{\"x\":{\"__ndarray__\":\"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\",\"dtype\":\"float64\",\"order\":\"little\",\"shape\":[400]},\"y\":{\"__ndarray__\":\"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\",\"dtype\":\"float64\",\"order\":\"little\",\"shape\":[400]}},\"selected\":{\"id\":\"1535\"},\"selection_policy\":{\"id\":\"1534\"}},\"id\":\"1490\",\"type\":\"ColumnDataSource\"},{\"attributes\":{},\"id\":\"1481\",\"type\":\"HelpTool\"},{\"attributes\":{\"line_color\":\"red\",\"line_width\":2,\"x\":{\"field\":\"x\"},\"y\":{\"field\":\"y\"}},\"id\":\"1491\",\"type\":\"Line\"},{\"attributes\":{},\"id\":\"1462\",\"type\":\"DataRange1d\"},{\"attributes\":{\"axis_label\":\"binding energy (kBT)\",\"formatter\":{\"id\":\"1532\"},\"ticker\":{\"id\":\"1469\"}},\"id\":\"1468\",\"type\":\"LinearAxis\"},{\"attributes\":{},\"id\":\"1480\",\"type\":\"ResetTool\"},{\"attributes\":{},\"id\":\"1479\",\"type\":\"SaveTool\"},{\"attributes\":{\"data_source\":{\"id\":\"1490\"},\"glyph\":{\"id\":\"1491\"},\"hover_glyph\":null,\"muted_glyph\":null,\"nonselection_glyph\":{\"id\":\"1492\"},\"selection_glyph\":null,\"view\":{\"id\":\"1494\"}},\"id\":\"1493\",\"type\":\"GlyphRenderer\"},{\"attributes\":{\"overlay\":{\"id\":\"1482\"}},\"id\":\"1478\",\"type\":\"BoxZoomTool\"},{\"attributes\":{\"axis\":{\"id\":\"1472\"},\"dimension\":1,\"ticker\":null},\"id\":\"1475\",\"type\":\"Grid\"},{\"attributes\":{},\"id\":\"1477\",\"type\":\"WheelZoomTool\"},{\"attributes\":{},\"id\":\"1535\",\"type\":\"Selection\"},{\"attributes\":{},\"id\":\"1473\",\"type\":\"BasicTicker\"},{\"attributes\":{},\"id\":\"1530\",\"type\":\"BasicTickFormatter\"},{\"attributes\":{\"axis_label\":\"probability RNAP bound\",\"formatter\":{\"id\":\"1530\"},\"ticker\":{\"id\":\"1473\"}},\"id\":\"1472\",\"type\":\"LinearAxis\"},{\"attributes\":{\"active_drag\":\"auto\",\"active_inspect\":\"auto\",\"active_multi\":null,\"active_scroll\":\"auto\",\"active_tap\":\"auto\",\"tools\":[{\"id\":\"1476\"},{\"id\":\"1477\"},{\"id\":\"1478\"},{\"id\":\"1479\"},{\"id\":\"1480\"},{\"id\":\"1481\"}]},\"id\":\"1483\",\"type\":\"Toolbar\"},{\"attributes\":{},\"id\":\"1534\",\"type\":\"UnionRenderers\"},{\"attributes\":{},\"id\":\"1476\",\"type\":\"PanTool\"},{\"attributes\":{\"axis\":{\"id\":\"1468\"},\"ticker\":null},\"id\":\"1471\",\"type\":\"Grid\"},{\"attributes\":{},\"id\":\"1466\",\"type\":\"LinearScale\"},{\"attributes\":{\"source\":{\"id\":\"1490\"}},\"id\":\"1494\",\"type\":\"CDSView\"},{\"attributes\":{\"bottom_units\":\"screen\",\"fill_alpha\":0.5,\"fill_color\":\"lightgrey\",\"left_units\":\"screen\",\"level\":\"overlay\",\"line_alpha\":1.0,\"line_color\":\"black\",\"line_dash\":[4,4],\"line_width\":2,\"right_units\":\"screen\",\"top_units\":\"screen\"},\"id\":\"1482\",\"type\":\"BoxAnnotation\"},{\"attributes\":{\"line_alpha\":0.1,\"line_color\":\"red\",\"line_width\":2,\"x\":{\"field\":\"x\"},\"y\":{\"field\":\"y\"}},\"id\":\"1492\",\"type\":\"Line\"},{\"attributes\":{},\"id\":\"1532\",\"type\":\"BasicTickFormatter\"},{\"attributes\":{},\"id\":\"1464\",\"type\":\"LinearScale\"}],\"root_ids\":[\"1459\"]},\"title\":\"Bokeh Application\",\"version\":\"2.1.1\"}};\n",
       "  var render_items = [{\"docid\":\"90c7ab2d-ef19-46a5-a678-05926c1abdf8\",\"root_ids\":[\"1459\"],\"roots\":{\"1459\":\"5aeac022-0752-4e70-8e34-1ae3e559ea75\"}}];\n",
       "  root.Bokeh.embed.embed_items_notebook(docs_json, render_items);\n",
       "\n",
       "  }\n",
       "  if (root.Bokeh !== undefined) {\n",
       "    embed_document(root);\n",
       "  } else {\n",
       "    var attempts = 0;\n",
       "    var timer = setInterval(function(root) {\n",
       "      if (root.Bokeh !== undefined) {\n",
       "        clearInterval(timer);\n",
       "        embed_document(root);\n",
       "      } else {\n",
       "        attempts++;\n",
       "        if (attempts > 100) {\n",
       "          clearInterval(timer);\n",
       "          console.log(\"Bokeh: ERROR: Unable to run BokehJS code because BokehJS library is missing\");\n",
       "        }\n",
       "      }\n",
       "    }, 10, root)\n",
       "  }\n",
       "})(window);"
      ],
      "application/vnd.bokehjs_exec.v0+json": ""
     },
     "metadata": {
      "application/vnd.bokehjs_exec.v0+json": {
       "id": "1459"
      }
     },
     "output_type": "display_data"
    }
   ],
   "source": [
    "p = bokeh.plotting.figure(\n",
    "    frame_height=250,\n",
    "    frame_width=350,\n",
    "    x_axis_label='binding energy (kBT)',\n",
    "    y_axis_label='probability RNAP bound',\n",
    "    y_axis_type=\"linear\",\n",
    ")\n",
    "\n",
    "p.line(\n",
    "    x=e,\n",
    "    y=p_bound,\n",
    "    line_join='bevel',\n",
    "    line_width=2,\n",
    "    line_color='red',\n",
    ")\n",
    "\n",
    "\n",
    "bokeh.io.show(p)"
   ]
  },
  {
   "cell_type": "markdown",
   "metadata": {},
   "source": [
    "Now let's consider our data of binding energy and growth rates, computing p_bound from the binding energy."
   ]
  },
  {
   "cell_type": "code",
   "execution_count": 10,
   "metadata": {},
   "outputs": [
    {
     "data": {
      "text/html": [
       "<div>\n",
       "<style scoped>\n",
       "    .dataframe tbody tr th:only-of-type {\n",
       "        vertical-align: middle;\n",
       "    }\n",
       "\n",
       "    .dataframe tbody tr th {\n",
       "        vertical-align: top;\n",
       "    }\n",
       "\n",
       "    .dataframe thead th {\n",
       "        text-align: right;\n",
       "    }\n",
       "</style>\n",
       "<table border=\"1\" class=\"dataframe\">\n",
       "  <thead>\n",
       "    <tr style=\"text-align: right;\">\n",
       "      <th></th>\n",
       "      <th>binding energy (kBT)</th>\n",
       "      <th>growth rate (per hr)</th>\n",
       "      <th>strain</th>\n",
       "      <th>p bound</th>\n",
       "    </tr>\n",
       "  </thead>\n",
       "  <tbody>\n",
       "    <tr>\n",
       "      <th>0</th>\n",
       "      <td>-1.43</td>\n",
       "      <td>0.087</td>\n",
       "      <td>RandSeq3 unevolved</td>\n",
       "      <td>0.002718</td>\n",
       "    </tr>\n",
       "    <tr>\n",
       "      <th>1</th>\n",
       "      <td>-3.31</td>\n",
       "      <td>0.242</td>\n",
       "      <td>RandSeq3 evolved</td>\n",
       "      <td>0.017546</td>\n",
       "    </tr>\n",
       "    <tr>\n",
       "      <th>2</th>\n",
       "      <td>-4.04</td>\n",
       "      <td>0.341</td>\n",
       "      <td>RandSeq29</td>\n",
       "      <td>0.035736</td>\n",
       "    </tr>\n",
       "  </tbody>\n",
       "</table>\n",
       "</div>"
      ],
      "text/plain": [
       "   binding energy (kBT)  growth rate (per hr)              strain   p bound\n",
       "0                 -1.43                 0.087  RandSeq3 unevolved  0.002718\n",
       "1                 -3.31                 0.242    RandSeq3 evolved  0.017546\n",
       "2                 -4.04                 0.341           RandSeq29  0.035736"
      ]
     },
     "execution_count": 10,
     "metadata": {},
     "output_type": "execute_result"
    }
   ],
   "source": [
    "data = pd.read_csv(\"./growth_rates.txt\", sep=\",\")\n",
    "data[\"p bound\"] =  1 / (1 + N_NS/P * np.exp(data[\"binding energy (kBT)\"]))\n",
    "data"
   ]
  },
  {
   "cell_type": "markdown",
   "metadata": {},
   "source": [
    "Just for reference, let's place these strains on the plot from before."
   ]
  },
  {
   "cell_type": "code",
   "execution_count": 11,
   "metadata": {},
   "outputs": [
    {
     "data": {
      "text/html": [
       "\n",
       "\n",
       "\n",
       "\n",
       "\n",
       "\n",
       "  <div class=\"bk-root\" id=\"5550ebd8-5c8b-4d90-8b51-214b413916f1\" data-root-id=\"1591\"></div>\n"
      ]
     },
     "metadata": {},
     "output_type": "display_data"
    },
    {
     "data": {
      "application/javascript": [
       "(function(root) {\n",
       "  function embed_document(root) {\n",
       "    \n",
       "  var docs_json = {\"9809ba4d-94b5-4b33-8be6-bfb12dc2176d\":{\"roots\":{\"references\":[{\"attributes\":{\"below\":[{\"id\":\"1600\"}],\"center\":[{\"id\":\"1603\"},{\"id\":\"1607\"}],\"frame_height\":250,\"frame_width\":350,\"left\":[{\"id\":\"1604\"}],\"renderers\":[{\"id\":\"1625\"},{\"id\":\"1630\"}],\"title\":{\"id\":\"1675\"},\"toolbar\":{\"id\":\"1615\"},\"x_range\":{\"id\":\"1592\"},\"x_scale\":{\"id\":\"1596\"},\"y_range\":{\"id\":\"1594\"},\"y_scale\":{\"id\":\"1598\"}},\"id\":\"1591\",\"subtype\":\"Figure\",\"type\":\"Plot\"},{\"attributes\":{\"data\":{\"x\":{\"__ndarray__\":\"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\",\"dtype\":\"float64\",\"order\":\"little\",\"shape\":[400]},\"y\":{\"__ndarray__\":\"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\",\"dtype\":\"float64\",\"order\":\"little\",\"shape\":[400]}},\"selected\":{\"id\":\"1681\"},\"selection_policy\":{\"id\":\"1680\"}},\"id\":\"1622\",\"type\":\"ColumnDataSource\"},{\"attributes\":{\"bottom_units\":\"screen\",\"fill_alpha\":0.5,\"fill_color\":\"lightgrey\",\"left_units\":\"screen\",\"level\":\"overlay\",\"line_alpha\":1.0,\"line_color\":\"black\",\"line_dash\":[4,4],\"line_width\":2,\"right_units\":\"screen\",\"top_units\":\"screen\"},\"id\":\"1614\",\"type\":\"BoxAnnotation\"},{\"attributes\":{\"fill_color\":{\"value\":\"#1f77b4\"},\"line_color\":{\"value\":\"#1f77b4\"},\"x\":{\"field\":\"x\"},\"y\":{\"field\":\"y\"}},\"id\":\"1628\",\"type\":\"Circle\"},{\"attributes\":{},\"id\":\"1598\",\"type\":\"LinearScale\"},{\"attributes\":{\"active_drag\":\"auto\",\"active_inspect\":\"auto\",\"active_multi\":null,\"active_scroll\":\"auto\",\"active_tap\":\"auto\",\"tools\":[{\"id\":\"1608\"},{\"id\":\"1609\"},{\"id\":\"1610\"},{\"id\":\"1611\"},{\"id\":\"1612\"},{\"id\":\"1613\"}]},\"id\":\"1615\",\"type\":\"Toolbar\"},{\"attributes\":{},\"id\":\"1592\",\"type\":\"DataRange1d\"},{\"attributes\":{\"line_color\":\"red\",\"line_width\":2,\"x\":{\"field\":\"x\"},\"y\":{\"field\":\"y\"}},\"id\":\"1623\",\"type\":\"Line\"},{\"attributes\":{},\"id\":\"1608\",\"type\":\"PanTool\"},{\"attributes\":{},\"id\":\"1682\",\"type\":\"UnionRenderers\"},{\"attributes\":{},\"id\":\"1594\",\"type\":\"DataRange1d\"},{\"attributes\":{},\"id\":\"1678\",\"type\":\"BasicTickFormatter\"},{\"attributes\":{},\"id\":\"1609\",\"type\":\"WheelZoomTool\"},{\"attributes\":{\"overlay\":{\"id\":\"1614\"}},\"id\":\"1610\",\"type\":\"BoxZoomTool\"},{\"attributes\":{\"data\":{\"x\":{\"__ndarray__\":\"4XoUrkfh9r97FK5H4XoKwClcj8L1KBDA\",\"dtype\":\"float64\",\"order\":\"little\",\"shape\":[3]},\"y\":{\"__ndarray__\":\"p8z63rRDZj8BBtvHtPeRPwimFo0FTKI/\",\"dtype\":\"float64\",\"order\":\"little\",\"shape\":[3]}},\"selected\":{\"id\":\"1683\"},\"selection_policy\":{\"id\":\"1682\"}},\"id\":\"1627\",\"type\":\"ColumnDataSource\"},{\"attributes\":{},\"id\":\"1611\",\"type\":\"SaveTool\"},{\"attributes\":{},\"id\":\"1613\",\"type\":\"HelpTool\"},{\"attributes\":{\"text\":\"\"},\"id\":\"1675\",\"type\":\"Title\"},{\"attributes\":{},\"id\":\"1596\",\"type\":\"LinearScale\"},{\"attributes\":{},\"id\":\"1612\",\"type\":\"ResetTool\"},{\"attributes\":{\"axis_label\":\"binding energy (kBT)\",\"formatter\":{\"id\":\"1678\"},\"ticker\":{\"id\":\"1601\"}},\"id\":\"1600\",\"type\":\"LinearAxis\"},{\"attributes\":{},\"id\":\"1680\",\"type\":\"UnionRenderers\"},{\"attributes\":{\"axis\":{\"id\":\"1600\"},\"ticker\":null},\"id\":\"1603\",\"type\":\"Grid\"},{\"attributes\":{\"data_source\":{\"id\":\"1622\"},\"glyph\":{\"id\":\"1623\"},\"hover_glyph\":null,\"muted_glyph\":null,\"nonselection_glyph\":{\"id\":\"1624\"},\"selection_glyph\":null,\"view\":{\"id\":\"1626\"}},\"id\":\"1625\",\"type\":\"GlyphRenderer\"},{\"attributes\":{\"axis_label\":\"probability RNAP bound\",\"formatter\":{\"id\":\"1676\"},\"ticker\":{\"id\":\"1605\"}},\"id\":\"1604\",\"type\":\"LinearAxis\"},{\"attributes\":{\"source\":{\"id\":\"1622\"}},\"id\":\"1626\",\"type\":\"CDSView\"},{\"attributes\":{},\"id\":\"1601\",\"type\":\"BasicTicker\"},{\"attributes\":{\"fill_alpha\":{\"value\":0.1},\"fill_color\":{\"value\":\"#1f77b4\"},\"line_alpha\":{\"value\":0.1},\"line_color\":{\"value\":\"#1f77b4\"},\"x\":{\"field\":\"x\"},\"y\":{\"field\":\"y\"}},\"id\":\"1629\",\"type\":\"Circle\"},{\"attributes\":{},\"id\":\"1683\",\"type\":\"Selection\"},{\"attributes\":{},\"id\":\"1605\",\"type\":\"BasicTicker\"},{\"attributes\":{\"axis\":{\"id\":\"1604\"},\"dimension\":1,\"ticker\":null},\"id\":\"1607\",\"type\":\"Grid\"},{\"attributes\":{\"source\":{\"id\":\"1627\"}},\"id\":\"1631\",\"type\":\"CDSView\"},{\"attributes\":{},\"id\":\"1676\",\"type\":\"BasicTickFormatter\"},{\"attributes\":{},\"id\":\"1681\",\"type\":\"Selection\"},{\"attributes\":{\"data_source\":{\"id\":\"1627\"},\"glyph\":{\"id\":\"1628\"},\"hover_glyph\":null,\"muted_glyph\":null,\"nonselection_glyph\":{\"id\":\"1629\"},\"selection_glyph\":null,\"view\":{\"id\":\"1631\"}},\"id\":\"1630\",\"type\":\"GlyphRenderer\"},{\"attributes\":{\"line_alpha\":0.1,\"line_color\":\"red\",\"line_width\":2,\"x\":{\"field\":\"x\"},\"y\":{\"field\":\"y\"}},\"id\":\"1624\",\"type\":\"Line\"}],\"root_ids\":[\"1591\"]},\"title\":\"Bokeh Application\",\"version\":\"2.1.1\"}};\n",
       "  var render_items = [{\"docid\":\"9809ba4d-94b5-4b33-8be6-bfb12dc2176d\",\"root_ids\":[\"1591\"],\"roots\":{\"1591\":\"5550ebd8-5c8b-4d90-8b51-214b413916f1\"}}];\n",
       "  root.Bokeh.embed.embed_items_notebook(docs_json, render_items);\n",
       "\n",
       "  }\n",
       "  if (root.Bokeh !== undefined) {\n",
       "    embed_document(root);\n",
       "  } else {\n",
       "    var attempts = 0;\n",
       "    var timer = setInterval(function(root) {\n",
       "      if (root.Bokeh !== undefined) {\n",
       "        clearInterval(timer);\n",
       "        embed_document(root);\n",
       "      } else {\n",
       "        attempts++;\n",
       "        if (attempts > 100) {\n",
       "          clearInterval(timer);\n",
       "          console.log(\"Bokeh: ERROR: Unable to run BokehJS code because BokehJS library is missing\");\n",
       "        }\n",
       "      }\n",
       "    }, 10, root)\n",
       "  }\n",
       "})(window);"
      ],
      "application/vnd.bokehjs_exec.v0+json": ""
     },
     "metadata": {
      "application/vnd.bokehjs_exec.v0+json": {
       "id": "1591"
      }
     },
     "output_type": "display_data"
    }
   ],
   "source": [
    "p = bokeh.plotting.figure(\n",
    "    frame_height=250,\n",
    "    frame_width=350,\n",
    "    x_axis_label='binding energy (kBT)',\n",
    "    y_axis_label='probability RNAP bound',\n",
    "    y_axis_type=\"linear\",\n",
    ")\n",
    "\n",
    "p.line(\n",
    "    x=e,\n",
    "    y=p_bound,\n",
    "    line_join='bevel',\n",
    "    line_width=2,\n",
    "    line_color='red',\n",
    ")\n",
    "\n",
    "p.circle(\n",
    "    x=data['binding energy (kBT)'],\n",
    "    y=data['p bound']\n",
    ")\n",
    "\n",
    "\n",
    "bokeh.io.show(p)"
   ]
  },
  {
   "cell_type": "markdown",
   "metadata": {},
   "source": [
    "Let's now see how p_bound and growth rate are related from our data:"
   ]
  },
  {
   "cell_type": "code",
   "execution_count": 12,
   "metadata": {},
   "outputs": [
    {
     "data": {
      "text/html": [
       "\n",
       "\n",
       "\n",
       "\n",
       "\n",
       "\n",
       "  <div class=\"bk-root\" id=\"2f2ea270-8fc6-4e59-bd60-8930e80207fc\" data-root-id=\"1751\"></div>\n"
      ]
     },
     "metadata": {},
     "output_type": "display_data"
    },
    {
     "data": {
      "application/javascript": [
       "(function(root) {\n",
       "  function embed_document(root) {\n",
       "    \n",
       "  var docs_json = {\"14e3978f-b816-468a-a8ff-fdf1cd65fd27\":{\"roots\":{\"references\":[{\"attributes\":{\"below\":[{\"id\":\"1760\"}],\"center\":[{\"id\":\"1763\"},{\"id\":\"1767\"}],\"frame_height\":250,\"frame_width\":350,\"left\":[{\"id\":\"1764\"}],\"renderers\":[{\"id\":\"1785\"}],\"title\":{\"id\":\"1841\"},\"toolbar\":{\"id\":\"1775\"},\"x_range\":{\"id\":\"1752\"},\"x_scale\":{\"id\":\"1756\"},\"y_range\":{\"id\":\"1754\"},\"y_scale\":{\"id\":\"1758\"}},\"id\":\"1751\",\"subtype\":\"Figure\",\"type\":\"Plot\"},{\"attributes\":{},\"id\":\"1765\",\"type\":\"BasicTicker\"},{\"attributes\":{},\"id\":\"1844\",\"type\":\"BasicTickFormatter\"},{\"attributes\":{\"axis_label\":\"growth rate (per hr)\",\"formatter\":{\"id\":\"1842\"},\"ticker\":{\"id\":\"1765\"}},\"id\":\"1764\",\"type\":\"LinearAxis\"},{\"attributes\":{},\"id\":\"1756\",\"type\":\"LinearScale\"},{\"attributes\":{},\"id\":\"1761\",\"type\":\"BasicTicker\"},{\"attributes\":{\"axis\":{\"id\":\"1760\"},\"ticker\":null},\"id\":\"1763\",\"type\":\"Grid\"},{\"attributes\":{\"data_source\":{\"id\":\"1782\"},\"glyph\":{\"id\":\"1783\"},\"hover_glyph\":null,\"muted_glyph\":null,\"nonselection_glyph\":{\"id\":\"1784\"},\"selection_glyph\":null,\"view\":{\"id\":\"1786\"}},\"id\":\"1785\",\"type\":\"GlyphRenderer\"},{\"attributes\":{},\"id\":\"1758\",\"type\":\"LinearScale\"},{\"attributes\":{\"axis\":{\"id\":\"1764\"},\"dimension\":1,\"ticker\":null},\"id\":\"1767\",\"type\":\"Grid\"},{\"attributes\":{\"bottom_units\":\"screen\",\"fill_alpha\":0.5,\"fill_color\":\"lightgrey\",\"left_units\":\"screen\",\"level\":\"overlay\",\"line_alpha\":1.0,\"line_color\":\"black\",\"line_dash\":[4,4],\"line_width\":2,\"right_units\":\"screen\",\"top_units\":\"screen\"},\"id\":\"1774\",\"type\":\"BoxAnnotation\"},{\"attributes\":{\"axis_label\":\"probability RNAP bound\",\"formatter\":{\"id\":\"1844\"},\"ticker\":{\"id\":\"1761\"}},\"id\":\"1760\",\"type\":\"LinearAxis\"},{\"attributes\":{},\"id\":\"1846\",\"type\":\"UnionRenderers\"},{\"attributes\":{\"source\":{\"id\":\"1782\"}},\"id\":\"1786\",\"type\":\"CDSView\"},{\"attributes\":{\"fill_alpha\":{\"value\":0.1},\"fill_color\":{\"value\":\"#1f77b4\"},\"line_alpha\":{\"value\":0.1},\"line_color\":{\"value\":\"#1f77b4\"},\"x\":{\"field\":\"x\"},\"y\":{\"field\":\"y\"}},\"id\":\"1784\",\"type\":\"Circle\"},{\"attributes\":{\"fill_color\":{\"value\":\"#1f77b4\"},\"line_color\":{\"value\":\"#1f77b4\"},\"x\":{\"field\":\"x\"},\"y\":{\"field\":\"y\"}},\"id\":\"1783\",\"type\":\"Circle\"},{\"attributes\":{},\"id\":\"1752\",\"type\":\"DataRange1d\"},{\"attributes\":{},\"id\":\"1768\",\"type\":\"PanTool\"},{\"attributes\":{},\"id\":\"1754\",\"type\":\"DataRange1d\"},{\"attributes\":{},\"id\":\"1771\",\"type\":\"SaveTool\"},{\"attributes\":{\"data\":{\"x\":{\"__ndarray__\":\"p8z63rRDZj8BBtvHtPeRPwimFo0FTKI/\",\"dtype\":\"float64\",\"order\":\"little\",\"shape\":[3]},\"y\":{\"__ndarray__\":\"EoPAyqFFtj9g5dAi2/nOP23n+6nx0tU/\",\"dtype\":\"float64\",\"order\":\"little\",\"shape\":[3]}},\"selected\":{\"id\":\"1847\"},\"selection_policy\":{\"id\":\"1846\"}},\"id\":\"1782\",\"type\":\"ColumnDataSource\"},{\"attributes\":{},\"id\":\"1847\",\"type\":\"Selection\"},{\"attributes\":{\"overlay\":{\"id\":\"1774\"}},\"id\":\"1770\",\"type\":\"BoxZoomTool\"},{\"attributes\":{\"text\":\"\"},\"id\":\"1841\",\"type\":\"Title\"},{\"attributes\":{},\"id\":\"1769\",\"type\":\"WheelZoomTool\"},{\"attributes\":{\"active_drag\":\"auto\",\"active_inspect\":\"auto\",\"active_multi\":null,\"active_scroll\":\"auto\",\"active_tap\":\"auto\",\"tools\":[{\"id\":\"1768\"},{\"id\":\"1769\"},{\"id\":\"1770\"},{\"id\":\"1771\"},{\"id\":\"1772\"},{\"id\":\"1773\"}]},\"id\":\"1775\",\"type\":\"Toolbar\"},{\"attributes\":{},\"id\":\"1773\",\"type\":\"HelpTool\"},{\"attributes\":{},\"id\":\"1842\",\"type\":\"BasicTickFormatter\"},{\"attributes\":{},\"id\":\"1772\",\"type\":\"ResetTool\"}],\"root_ids\":[\"1751\"]},\"title\":\"Bokeh Application\",\"version\":\"2.1.1\"}};\n",
       "  var render_items = [{\"docid\":\"14e3978f-b816-468a-a8ff-fdf1cd65fd27\",\"root_ids\":[\"1751\"],\"roots\":{\"1751\":\"2f2ea270-8fc6-4e59-bd60-8930e80207fc\"}}];\n",
       "  root.Bokeh.embed.embed_items_notebook(docs_json, render_items);\n",
       "\n",
       "  }\n",
       "  if (root.Bokeh !== undefined) {\n",
       "    embed_document(root);\n",
       "  } else {\n",
       "    var attempts = 0;\n",
       "    var timer = setInterval(function(root) {\n",
       "      if (root.Bokeh !== undefined) {\n",
       "        clearInterval(timer);\n",
       "        embed_document(root);\n",
       "      } else {\n",
       "        attempts++;\n",
       "        if (attempts > 100) {\n",
       "          clearInterval(timer);\n",
       "          console.log(\"Bokeh: ERROR: Unable to run BokehJS code because BokehJS library is missing\");\n",
       "        }\n",
       "      }\n",
       "    }, 10, root)\n",
       "  }\n",
       "})(window);"
      ],
      "application/vnd.bokehjs_exec.v0+json": ""
     },
     "metadata": {
      "application/vnd.bokehjs_exec.v0+json": {
       "id": "1751"
      }
     },
     "output_type": "display_data"
    }
   ],
   "source": [
    "p = bokeh.plotting.figure(\n",
    "    frame_height=250,\n",
    "    frame_width=350,\n",
    "    y_axis_label='growth rate (per hr)',\n",
    "    x_axis_label='probability RNAP bound',\n",
    "    y_axis_type=\"linear\",\n",
    ")\n",
    "\n",
    "\n",
    "p.circle(\n",
    "    x=data['p bound'],\n",
    "    y=data['growth rate (per hr)']\n",
    ")\n",
    "\n",
    "bokeh.io.show(p)"
   ]
  },
  {
   "cell_type": "markdown",
   "metadata": {},
   "source": [
    "Let's fit a line to this data:"
   ]
  },
  {
   "cell_type": "code",
   "execution_count": 13,
   "metadata": {},
   "outputs": [
    {
     "name": "stdout",
     "output_type": "stream",
     "text": [
      "7.6088459999403515 0.08130010110490518\n"
     ]
    }
   ],
   "source": [
    "m, b = np.polyfit(data['p bound'], data['growth rate (per hr)'], deg=1)\n",
    "x = np.linspace(0.0001,0.04,200)\n",
    "y = m * x + b\n",
    "print(m,b)"
   ]
  },
  {
   "cell_type": "code",
   "execution_count": 14,
   "metadata": {},
   "outputs": [
    {
     "data": {
      "text/html": [
       "\n",
       "\n",
       "\n",
       "\n",
       "\n",
       "\n",
       "  <div class=\"bk-root\" id=\"68999837-dc4e-4f8e-8899-6ea4d9423397\" data-root-id=\"1903\"></div>\n"
      ]
     },
     "metadata": {},
     "output_type": "display_data"
    },
    {
     "data": {
      "application/javascript": [
       "(function(root) {\n",
       "  function embed_document(root) {\n",
       "    \n",
       "  var docs_json = {\"9f6553a8-3918-4d34-b074-d0c5290a10f8\":{\"roots\":{\"references\":[{\"attributes\":{\"below\":[{\"id\":\"1912\"}],\"center\":[{\"id\":\"1915\"},{\"id\":\"1919\"}],\"frame_height\":250,\"frame_width\":350,\"left\":[{\"id\":\"1916\"}],\"renderers\":[{\"id\":\"1937\"},{\"id\":\"1942\"}],\"title\":{\"id\":\"2007\"},\"toolbar\":{\"id\":\"1927\"},\"x_range\":{\"id\":\"1904\"},\"x_scale\":{\"id\":\"1908\"},\"y_range\":{\"id\":\"1906\"},\"y_scale\":{\"id\":\"1910\"}},\"id\":\"1903\",\"subtype\":\"Figure\",\"type\":\"Plot\"},{\"attributes\":{},\"id\":\"1908\",\"type\":\"LinearScale\"},{\"attributes\":{},\"id\":\"1925\",\"type\":\"HelpTool\"},{\"attributes\":{\"axis_label\":\"probability RNAP bound\",\"formatter\":{\"id\":\"2010\"},\"ticker\":{\"id\":\"1913\"}},\"id\":\"1912\",\"type\":\"LinearAxis\"},{\"attributes\":{},\"id\":\"1923\",\"type\":\"SaveTool\"},{\"attributes\":{\"axis\":{\"id\":\"1912\"},\"ticker\":null},\"id\":\"1915\",\"type\":\"Grid\"},{\"attributes\":{\"data_source\":{\"id\":\"1939\"},\"glyph\":{\"id\":\"1940\"},\"hover_glyph\":null,\"muted_glyph\":null,\"nonselection_glyph\":{\"id\":\"1941\"},\"selection_glyph\":null,\"view\":{\"id\":\"1943\"}},\"id\":\"1942\",\"type\":\"GlyphRenderer\"},{\"attributes\":{},\"id\":\"1924\",\"type\":\"ResetTool\"},{\"attributes\":{\"axis_label\":\"growth rate (per hr)\",\"formatter\":{\"id\":\"2008\"},\"ticker\":{\"id\":\"1917\"}},\"id\":\"1916\",\"type\":\"LinearAxis\"},{\"attributes\":{},\"id\":\"2010\",\"type\":\"BasicTickFormatter\"},{\"attributes\":{},\"id\":\"2008\",\"type\":\"BasicTickFormatter\"},{\"attributes\":{},\"id\":\"1913\",\"type\":\"BasicTicker\"},{\"attributes\":{\"line_alpha\":0.1,\"line_color\":\"#1f77b4\",\"x\":{\"field\":\"x\"},\"y\":{\"field\":\"y\"}},\"id\":\"1941\",\"type\":\"Line\"},{\"attributes\":{\"fill_color\":{\"value\":\"#1f77b4\"},\"line_color\":{\"value\":\"#1f77b4\"},\"x\":{\"field\":\"x\"},\"y\":{\"field\":\"y\"}},\"id\":\"1935\",\"type\":\"Circle\"},{\"attributes\":{},\"id\":\"2014\",\"type\":\"UnionRenderers\"},{\"attributes\":{},\"id\":\"1917\",\"type\":\"BasicTicker\"},{\"attributes\":{},\"id\":\"2013\",\"type\":\"Selection\"},{\"attributes\":{\"axis\":{\"id\":\"1916\"},\"dimension\":1,\"ticker\":null},\"id\":\"1919\",\"type\":\"Grid\"},{\"attributes\":{\"text\":\"\"},\"id\":\"2007\",\"type\":\"Title\"},{\"attributes\":{\"data\":{\"x\":{\"__ndarray__\":\"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\",\"dtype\":\"float64\",\"order\":\"little\",\"shape\":[200]},\"y\":{\"__ndarray__\":\"+0vh4fIBtT8W8M4U7mW1PzCUvEfpybU/SjiqeuQttj9k3Jet35G2P36AheDa9bY/mCRzE9ZZtz+yyGBG0b23P8xsTnnMIbg/5hA8rMeFuD8AtSnfwum4PxtZFxK+Tbk/Nf0ERbmxuT9PofJ3tBW6P2lF4Kqvebo/g+nN3arduj+ejbsQpkG7P7gxqUOhpbs/0tWWdpwJvD/seYSpl228PwYectyS0bw/IMJfD441vT86Zk1CiZm9P1QKO3WE/b0/b64oqH9hvj+IUhbbesW+P6P2Aw52Kb8/vZrxQHGNvz/YPt9zbPG/P3lxZtOzKsA/hkPdbLFcwD+TFVQGr47AP6Dnyp+swMA/rblBOarywD+6i7jSpyTBP8ddL2ylVsE/1C+mBaOIwT/hAR2foLrBP+7Tkzie7ME/+6UK0psewj8IeIFrmVDCPxZK+ASXgsI/IhxvnpS0wj8v7uU3kubCPzzAXNGPGMM/SpLTao1Kwz9WZEoEi3zDP2Q2wZ2IrsM/cQg4N4bgwz9+2q7QgxLEP4qsJWqBRMQ/mH6cA392xD+lUBOdfKjEP7IiijZ62sQ/v/QA0HcMxT/MxndpdT7FP9qY7gJzcMU/5mplnHCixT/0PNw1btTFPwAPU89rBsY/DuHJaGk4xj8as0ACZ2rGPyiFt5tknMY/NVcuNWLOxj9CKaXOXwDHP077G2hdMsc/XM2SAVtkxz9pnwmbWJbHP3ZxgDRWyMc/g0P3zVP6xz+QFW5nUSzIP57n5ABPXsg/qrlbmkyQyD+4i9IzSsLIP8RdSc1H9Mg/0S/AZkUmyT/eATcAQ1jJP+zTrZlAisk/+aUkMz68yT8GeJvMO+7JPxJKEmY5IMo/IByJ/zZSyj8t7v+YNITKPzrAdjIytso/R5Ltyy/oyj9UZGRlLRrLP2E22/4qTMs/bwhSmCh+yz972sgxJrDLP4isP8sj4ss/lX62ZCEUzD+iUC3+HkbMP7AipJcceMw/vfQaMRqqzD/KxpHKF9zMP9eYCGQVDs0/5Gp//RJAzT/xPPaWEHLNP/4ObTAOpM0/C+HjyQvWzT8Ys1pjCQjOPyaF0fwGOs4/M1dIlgRszj8/Kb8vAp7OP0z7Ncn/z84/Wc2sYv0Bzz9nnyP8+jPPP3RxmpX4Zc8/gUMRL/aXzz+OFYjI88nPP5rn/mHx+88/1Ny6ffcW0D/aRXZK9i/QP+GuMRf1SNA/6Bft4/Nh0D/ugKiw8nrQP/XpY33xk9A/+1IfSvCs0D8CvNoW78XQPwglluPt3tA/Do5RsOz30D8W9wx96xDRPxxgyEnqKdE/IsmDFulC0T8pMj/j51vRPy+b+q/mdNE/NgS2fOWN0T88bXFJ5KbRP0PWLBbjv9E/Sj/o4uHY0T9QqKOv4PHRP1cRX3zfCtI/XXoaSd4j0j9k49UV3TzSP2pMkeLbVdI/cLVMr9pu0j94Hgh82YfSP36Hw0jYoNI/hPB+Fde50j+KWTri1dLSP5HC9a7U69I/mCuxe9ME0z+elGxI0h3TP6X9JxXRNtM/rGbj4c9P0z+yz56uzmjTP7g4WnvNgdM/v6EVSMya0z/GCtEUy7PTP8xzjOHJzNM/0txHrsjl0z/aRQN7x/7TP+CuvkfGF9Q/5hd6FMUw1D/sgDXhw0nUP/Pp8K3CYtQ/+lKsesF71D8AvGdHwJTUPwglIxS/rdQ/Do7e4L3G1D8U95mtvN/UPxtgVXq7+NQ/IckQR7oR1T8oMswTuSrVPy6bh+C3Q9U/NARDrbZc1T88bf55tXXVP0LWuUa0jtU/SD91E7On1T9QqDDgscDVP1YR7Kyw2dU/XHqnea/y1T9i42JGrgvWP2pMHhOtJNY/cLXZ36s91j92HpWsqlbWP36HUHmpb9Y/hPALRqiI1j+KWccSp6HWP5DCgt+lutY/lis+rKTT1j+elPl4o+zWP6T9tEWiBdc/qmZwEqEe1z+yzyvfnzfXP7g456ueUNc/vqGieJ1p1z/ECl5FnILXP8xzGRKbm9c/0tzU3pm01z/YRZCrmM3XP+CuS3iX5tc/5hcHRZb/1z/sgMIRlRjYP/Lpfd6TMdg/+FI5q5JK2D8AvPR3kWPYPwYlsESQfNg/DI5rEY+V2D8U9ybeja7YPw==\",\"dtype\":\"float64\",\"order\":\"little\",\"shape\":[200]}},\"selected\":{\"id\":\"2015\"},\"selection_policy\":{\"id\":\"2014\"}},\"id\":\"1939\",\"type\":\"ColumnDataSource\"},{\"attributes\":{\"active_drag\":\"auto\",\"active_inspect\":\"auto\",\"active_multi\":null,\"active_scroll\":\"auto\",\"active_tap\":\"auto\",\"tools\":[{\"id\":\"1920\"},{\"id\":\"1921\"},{\"id\":\"1922\"},{\"id\":\"1923\"},{\"id\":\"1924\"},{\"id\":\"1925\"}]},\"id\":\"1927\",\"type\":\"Toolbar\"},{\"attributes\":{\"fill_alpha\":{\"value\":0.1},\"fill_color\":{\"value\":\"#1f77b4\"},\"line_alpha\":{\"value\":0.1},\"line_color\":{\"value\":\"#1f77b4\"},\"x\":{\"field\":\"x\"},\"y\":{\"field\":\"y\"}},\"id\":\"1936\",\"type\":\"Circle\"},{\"attributes\":{\"bottom_units\":\"screen\",\"fill_alpha\":0.5,\"fill_color\":\"lightgrey\",\"left_units\":\"screen\",\"level\":\"overlay\",\"line_alpha\":1.0,\"line_color\":\"black\",\"line_dash\":[4,4],\"line_width\":2,\"right_units\":\"screen\",\"top_units\":\"screen\"},\"id\":\"1926\",\"type\":\"BoxAnnotation\"},{\"attributes\":{\"data\":{\"x\":{\"__ndarray__\":\"p8z63rRDZj8BBtvHtPeRPwimFo0FTKI/\",\"dtype\":\"float64\",\"order\":\"little\",\"shape\":[3]},\"y\":{\"__ndarray__\":\"EoPAyqFFtj9g5dAi2/nOP23n+6nx0tU/\",\"dtype\":\"float64\",\"order\":\"little\",\"shape\":[3]}},\"selected\":{\"id\":\"2013\"},\"selection_policy\":{\"id\":\"2012\"}},\"id\":\"1934\",\"type\":\"ColumnDataSource\"},{\"attributes\":{\"data_source\":{\"id\":\"1934\"},\"glyph\":{\"id\":\"1935\"},\"hover_glyph\":null,\"muted_glyph\":null,\"nonselection_glyph\":{\"id\":\"1936\"},\"selection_glyph\":null,\"view\":{\"id\":\"1938\"}},\"id\":\"1937\",\"type\":\"GlyphRenderer\"},{\"attributes\":{\"source\":{\"id\":\"1934\"}},\"id\":\"1938\",\"type\":\"CDSView\"},{\"attributes\":{\"source\":{\"id\":\"1939\"}},\"id\":\"1943\",\"type\":\"CDSView\"},{\"attributes\":{},\"id\":\"2012\",\"type\":\"UnionRenderers\"},{\"attributes\":{},\"id\":\"1904\",\"type\":\"DataRange1d\"},{\"attributes\":{},\"id\":\"1906\",\"type\":\"DataRange1d\"},{\"attributes\":{},\"id\":\"1920\",\"type\":\"PanTool\"},{\"attributes\":{},\"id\":\"2015\",\"type\":\"Selection\"},{\"attributes\":{},\"id\":\"1910\",\"type\":\"LinearScale\"},{\"attributes\":{},\"id\":\"1921\",\"type\":\"WheelZoomTool\"},{\"attributes\":{\"overlay\":{\"id\":\"1926\"}},\"id\":\"1922\",\"type\":\"BoxZoomTool\"},{\"attributes\":{\"line_color\":\"#1f77b4\",\"x\":{\"field\":\"x\"},\"y\":{\"field\":\"y\"}},\"id\":\"1940\",\"type\":\"Line\"}],\"root_ids\":[\"1903\"]},\"title\":\"Bokeh Application\",\"version\":\"2.1.1\"}};\n",
       "  var render_items = [{\"docid\":\"9f6553a8-3918-4d34-b074-d0c5290a10f8\",\"root_ids\":[\"1903\"],\"roots\":{\"1903\":\"68999837-dc4e-4f8e-8899-6ea4d9423397\"}}];\n",
       "  root.Bokeh.embed.embed_items_notebook(docs_json, render_items);\n",
       "\n",
       "  }\n",
       "  if (root.Bokeh !== undefined) {\n",
       "    embed_document(root);\n",
       "  } else {\n",
       "    var attempts = 0;\n",
       "    var timer = setInterval(function(root) {\n",
       "      if (root.Bokeh !== undefined) {\n",
       "        clearInterval(timer);\n",
       "        embed_document(root);\n",
       "      } else {\n",
       "        attempts++;\n",
       "        if (attempts > 100) {\n",
       "          clearInterval(timer);\n",
       "          console.log(\"Bokeh: ERROR: Unable to run BokehJS code because BokehJS library is missing\");\n",
       "        }\n",
       "      }\n",
       "    }, 10, root)\n",
       "  }\n",
       "})(window);"
      ],
      "application/vnd.bokehjs_exec.v0+json": ""
     },
     "metadata": {
      "application/vnd.bokehjs_exec.v0+json": {
       "id": "1903"
      }
     },
     "output_type": "display_data"
    }
   ],
   "source": [
    "p = bokeh.plotting.figure(\n",
    "    frame_height=250,\n",
    "    frame_width=350,\n",
    "    y_axis_label='growth rate (per hr)',\n",
    "    x_axis_label='probability RNAP bound',\n",
    "    y_axis_type=\"linear\",\n",
    ")\n",
    "\n",
    "\n",
    "p.circle(\n",
    "    x=data['p bound'],\n",
    "    y=data['growth rate (per hr)']\n",
    ")\n",
    "\n",
    "p.line(\n",
    "    x=x,\n",
    "    y=y\n",
    ")\n",
    "\n",
    "bokeh.io.show(p)"
   ]
  },
  {
   "cell_type": "markdown",
   "metadata": {},
   "source": [
    "Let's put it all together now. Below is Tiba's code for parsing an energy matrix:"
   ]
  },
  {
   "cell_type": "code",
   "execution_count": 33,
   "metadata": {},
   "outputs": [
    {
     "data": {
      "text/html": [
       "<div>\n",
       "<style scoped>\n",
       "    .dataframe tbody tr th:only-of-type {\n",
       "        vertical-align: middle;\n",
       "    }\n",
       "\n",
       "    .dataframe tbody tr th {\n",
       "        vertical-align: top;\n",
       "    }\n",
       "\n",
       "    .dataframe thead th {\n",
       "        text-align: right;\n",
       "    }\n",
       "</style>\n",
       "<table border=\"1\" class=\"dataframe\">\n",
       "  <thead>\n",
       "    <tr style=\"text-align: right;\">\n",
       "      <th></th>\n",
       "      <th>A</th>\n",
       "      <th>C</th>\n",
       "      <th>G</th>\n",
       "      <th>T</th>\n",
       "    </tr>\n",
       "  </thead>\n",
       "  <tbody>\n",
       "    <tr>\n",
       "      <th>0</th>\n",
       "      <td>0.305961</td>\n",
       "      <td>0.681616</td>\n",
       "      <td>0.360140</td>\n",
       "      <td>-0.313427</td>\n",
       "    </tr>\n",
       "    <tr>\n",
       "      <th>1</th>\n",
       "      <td>0.122283</td>\n",
       "      <td>0.247441</td>\n",
       "      <td>0.171605</td>\n",
       "      <td>-0.313427</td>\n",
       "    </tr>\n",
       "    <tr>\n",
       "      <th>2</th>\n",
       "      <td>1.500683</td>\n",
       "      <td>1.490967</td>\n",
       "      <td>-0.313427</td>\n",
       "      <td>0.633869</td>\n",
       "    </tr>\n",
       "    <tr>\n",
       "      <th>3</th>\n",
       "      <td>-0.313427</td>\n",
       "      <td>1.032246</td>\n",
       "      <td>-0.138758</td>\n",
       "      <td>0.699062</td>\n",
       "    </tr>\n",
       "    <tr>\n",
       "      <th>4</th>\n",
       "      <td>1.064641</td>\n",
       "      <td>-0.214039</td>\n",
       "      <td>1.119622</td>\n",
       "      <td>-0.313427</td>\n",
       "    </tr>\n",
       "  </tbody>\n",
       "</table>\n",
       "</div>"
      ],
      "text/plain": [
       "          A         C         G         T\n",
       "0  0.305961  0.681616  0.360140 -0.313427\n",
       "1  0.122283  0.247441  0.171605 -0.313427\n",
       "2  1.500683  1.490967 -0.313427  0.633869\n",
       "3 -0.313427  1.032246 -0.138758  0.699062\n",
       "4  1.064641 -0.214039  1.119622 -0.313427"
      ]
     },
     "execution_count": 33,
     "metadata": {},
     "output_type": "execute_result"
    }
   ],
   "source": [
    "# read in the energy matrix\n",
    "data = pd.read_csv(\"../../data/brewster_matrixS2.txt\", sep=\" \", comment=\"#\", header=None)\n",
    "data = data[5: -6] #trimming matrix to 30 bp\n",
    "data = data.reset_index(drop=True)\n",
    "data.columns = ['A','C','G','T']\n",
    "data.head()"
   ]
  },
  {
   "cell_type": "code",
   "execution_count": 49,
   "metadata": {},
   "outputs": [],
   "source": [
    "RandSeq1 = \"ATAGGAGCGTCATCAAACGCGCCGTTCAGGTTCTGGTTCTCCATGCTATAGTTAAGCCGCACAACGGGTACTACCACTCCCTGTAGTCCGCTTTACCGTTCTC\"\n",
    "RandSeq1_trimmed = 'CGTTCAGGTTCTGGTTCTCCATGCCATAGT'"
   ]
  },
  {
   "cell_type": "code",
   "execution_count": 29,
   "metadata": {},
   "outputs": [],
   "source": [
    "def energy(sequence):\n",
    "    \"\"\"\n",
    "    Input:\n",
    "         sequence: 30 bp for the promoter region\n",
    "    Output:\n",
    "        total_energy: the total energy for the given sequence in K_bT\"\"\"\n",
    "    #Initializing the counter for the total energy.\n",
    "    total_energy = 0\n",
    "    \n",
    "    #Adds the energy value for each base together for the entire sequence\n",
    "    for position, letter in enumerate(sequence):\n",
    "        #Determines the energy for a given position and base pair location using the energy matrix\n",
    "        energy_of_base = data.loc[position,letter]\n",
    "        total_energy += energy_of_base\n",
    "        \n",
    "    return(total_energy)"
   ]
  },
  {
   "cell_type": "markdown",
   "metadata": {},
   "source": [
    "And finally, let's write a growth rate function that will give the predicted growth rate from a given sequence."
   ]
  },
  {
   "cell_type": "code",
   "execution_count": 26,
   "metadata": {},
   "outputs": [],
   "source": [
    "def growth_rate(sequence, m=7.61, b=0.0813):\n",
    "    \"\"\"\n",
    "    Given a sequnence, returns the growth rate (in units of hr^-1)\n",
    "    Uses the prediced biding energy of the sequence and the linear relationship\n",
    "    between probability bound and growth rate (as paramaterized by m and b)\n",
    "    \"\"\"\n",
    "    e = energy(sequence)\n",
    "    p_bound = 1 / (1 + N_NS/P * np.exp(e))\n",
    "    growth_rate = m*p_bound + b\n",
    "    return growth_rate\n",
    "    "
   ]
  },
  {
   "cell_type": "code",
   "execution_count": 42,
   "metadata": {},
   "outputs": [
    {
     "data": {
      "text/plain": [
       "0.11139560114884847"
      ]
     },
     "execution_count": 42,
     "metadata": {},
     "output_type": "execute_result"
    }
   ],
   "source": [
    "# unevovled RandSeq1\n",
    "growth_rate('CGTTCAGGTTCTGGTTCTCCATGCCATAGT')"
   ]
  },
  {
   "cell_type": "code",
   "execution_count": 45,
   "metadata": {},
   "outputs": [
    {
     "data": {
      "text/plain": [
       "0.17146827234507406"
      ]
     },
     "execution_count": 45,
     "metadata": {},
     "output_type": "execute_result"
    }
   ],
   "source": [
    "# evovled RandSeq1\n",
    "growth_rate('CGTTCAGGTTCTGGTTCTCCATGCTATAGT')"
   ]
  },
  {
   "cell_type": "code",
   "execution_count": 79,
   "metadata": {},
   "outputs": [],
   "source": [
    "def population_timestep(population, mutation_rate = 10**-10, time_step = 1/60):\n",
    "    \"\"\"\n",
    "    Inputs:\n",
    "    population- a dictionary containing the biological sequences associated with cells\n",
    "    mutation_rate = 10**-10 is default, could be changed if needed\n",
    "    time_step - the amount of time for a step in hours\n",
    "    Outputs:\n",
    "    population- the dictionary after undergoing its first replication\n",
    "    \"\"\"\n",
    "    #Defining our original population\n",
    "    original_population = population.copy()\n",
    "  \n",
    "    # Doubles the population of cells\n",
    "    for sequence in original_population.keys():\n",
    "        original_frequency = original_population.get(sequence)\n",
    "        rate = growth_rate(sequence)\n",
    "        updated_frequency = time_step * rate * original_frequency + original_frequency\n",
    "        population.update({sequence: updated_frequency})\n",
    "\n",
    "        n_new_sequences = population.get(sequence)-original_population.get(sequence)\n",
    "        number_of_bases = len(sequence)\n",
    "        number_of_mutations = int(number_of_bases * mutation_rate * n_new_sequences)\n",
    "         \n",
    "         # If the number is [0,1], then it would flip to see if one mutation would happen\n",
    "        if number_of_mutations < 1:\n",
    "            flip = np.random.choice(\n",
    "                [1, 0], p=[number_of_mutations, 1 - number_of_mutations]\n",
    "            )\n",
    "\n",
    "           # see if a mutation occurs or not\n",
    "            if flip == 0:\n",
    "                continue\n",
    "            else:\n",
    "                number_of_mutations = 1\n",
    "\n",
    "        # Performs mutations for number_of_mutations\n",
    "        for mut in range(number_of_mutations):\n",
    "            mutated_sequence = sequence_change(sequence)\n",
    "            \n",
    "            if mutated_sequence in population.keys():\n",
    "                mutated_frequency = population.get(mutated_sequence)\n",
    "                population[mutated_sequence] = mutated_frequency + 1\n",
    "\n",
    "            else:\n",
    "                population.update({mutated_sequence: 1})\n",
    "                \n",
    "            population[sequence] = updated_frequency - 1\n",
    "\n",
    "    return(population)\n",
    "    "
   ]
  },
  {
   "cell_type": "code",
   "execution_count": null,
   "metadata": {},
   "outputs": [],
   "source": []
  },
  {
   "cell_type": "code",
   "execution_count": 15,
   "metadata": {},
   "outputs": [],
   "source": [
    "def sequence_change(sequence):\n",
    "    \"\"\"\n",
    "        Input:\n",
    "            sequence- a biological sequence\n",
    "        Output:\n",
    "            sequence- the inputted sequence after a mutation has occurred\n",
    "    \"\"\"\n",
    "\n",
    "    sequence_array = np.array(list(sequence))\n",
    "\n",
    "    # A random number between 0 and 1 is generated\n",
    "    flip = np.random.random()\n",
    "\n",
    "    # Probability if the letter chosen is a G\n",
    "    if flip < 0.40:\n",
    "        allpositions = list(np.where(sequence_array == \"G\"))\n",
    "        chosen_position = np.random.choice(allpositions[0])\n",
    "        new_letter = np.random.choice([\"A\", \"C\", \"T\"])\n",
    "        sequence = (\n",
    "            sequence[:chosen_position] + new_letter + sequence[chosen_position + 1 :]\n",
    "        )\n",
    "\n",
    "    # Probability if the letter chosen is a C\n",
    "    if 0.40 < flip < 0.8:\n",
    "        allpositions = list(np.where(sequence_array == \"C\"))\n",
    "        chosen_position = np.random.choice(allpositions[0])\n",
    "        new_letter = np.random.choice([\"A\", \"T\", \"G\"])\n",
    "        sequence = (\n",
    "            sequence[:chosen_position] + new_letter + sequence[chosen_position + 1 :]\n",
    "        )\n",
    "        sequence[chosen_position]\n",
    "\n",
    "    # Probability if the letter chosen is an A\n",
    "    if 0.8 < flip < 0.9:\n",
    "        allpositions = list(np.where(sequence_array == \"A\"))\n",
    "        chosen_position = np.random.choice(allpositions[0])\n",
    "        new_letter = np.random.choice([\"G\", \"C\", \"T\"])\n",
    "        sequence = (\n",
    "            sequence[:chosen_position] + new_letter + sequence[chosen_position + 1 :]\n",
    "        )\n",
    "\n",
    "    # Probability if the letter chosen is a T\n",
    "    if 0.9 < flip < 1:\n",
    "        allpositions = list(np.where(sequence_array == \"T\"))\n",
    "        chosen_position = np.random.choice(allpositions[0])\n",
    "        new_letter = np.random.choice([\"A\", \"C\", \"G\"])\n",
    "        sequence = (\n",
    "            sequence[:chosen_position] + new_letter + sequence[chosen_position + 1 :]\n",
    "        )\n",
    "\n",
    "    return sequence"
   ]
  },
  {
   "cell_type": "code",
   "execution_count": 46,
   "metadata": {},
   "outputs": [],
   "source": [
    "dic = {'CGTTCAGGTTCTGGTTCTCCATGCCATAGA': 12, 'CGTTCAGGTTCTGGTTCTCCATGCCATAGT': 8, 'CGTTCAGGTTCTGGTTCTCCATGCTATAAT': 4}"
   ]
  },
  {
   "cell_type": "code",
   "execution_count": 42,
   "metadata": {},
   "outputs": [
    {
     "data": {
      "text/plain": [
       "{'CGTTCAGGTTCTGGTTCTCCATGCCATAGA': 14.43907769550275,\n",
       " 'CGTTCAGGTTCTGGTTCTCCATGCCATAGT': 7.955521437274301,\n",
       " 'CGTTCAGGTTCTGGTTCTCCATGCTATAAT': 4.195980164196049,\n",
       " 'CGTTCAGGTTCTGGTTCTCCGTGCCATAGA': 1.0923264963183332,\n",
       " 'CGTTCAGGTTCTGATTCTCCATGCCATAGT': 1.0018417021400963,\n",
       " 'CGTTCAGGTTCTGGTTCTTCATGCTATAAT': 1.0052234565663904}"
      ]
     },
     "execution_count": 42,
     "metadata": {},
     "output_type": "execute_result"
    }
   ],
   "source": [
    "population_timestep(dic, 3/100)"
   ]
  },
  {
   "cell_type": "code",
   "execution_count": 47,
   "metadata": {},
   "outputs": [],
   "source": [
    "for something in range(1440):\n",
    "    population_timestep(dic)\n"
   ]
  },
  {
   "cell_type": "code",
   "execution_count": 48,
   "metadata": {},
   "outputs": [
    {
     "data": {
      "text/plain": [
       "{'CGTTCAGGTTCTGGTTCTCCATGCCATAGA': 110.35185629970898,\n",
       " 'CGTTCAGGTTCTGGTTCTCCATGCCATAGT': 115.6371464600884,\n",
       " 'CGTTCAGGTTCTGGTTCTCCATGCTATAAT': 2999.042766030506}"
      ]
     },
     "execution_count": 48,
     "metadata": {},
     "output_type": "execute_result"
    }
   ],
   "source": [
    "dic"
   ]
  },
  {
   "cell_type": "code",
   "execution_count": 68,
   "metadata": {},
   "outputs": [],
   "source": []
  },
  {
   "cell_type": "code",
   "execution_count": 78,
   "metadata": {},
   "outputs": [
    {
     "data": {
      "text/plain": [
       "{'CGTTCAGGTTCTGGTTCTCCATGCCATAGT': 1438217.3785364348,\n",
       " 'CGTTCAGGTTCTGGTTCTCAATGCCATAGT': 14.044712709741418,\n",
       " 'CGTTCTGGTTCTGGTTCTCCATGCCATAGT': 11.743268183512443,\n",
       " 'CGTTCCGGTTCTGGTTCTCCATGCCATAGT': 9.21832666943957,\n",
       " 'CATTCAGGTTCTGGTTCTCCATGCCATAGT': 14.932711869611433,\n",
       " 'CCTTCAGGTTCTGGTTCTCCATGCCATAGT': 13.641269561705483,\n",
       " 'CGTTCAGCTTCTGGTTCTCCATGCCATAGT': 12.454791846528321,\n",
       " 'CGTTCAGGTTCTGGTTCTCCATGCCATGGT': 9.718481461880446,\n",
       " 'CGTTCAGGTTCTGGTTCTACATGCCATAGT': 15.888506145676658,\n",
       " 'CGTTCAGGTTCTGGTTCTGCATGCCATAGT': 14.447087197257797,\n",
       " 'CGTTCAGGTTCTGGTTCTCCATACCATAGT': 10.369089074497044,\n",
       " 'CGTTCAGGTTATGGTTCTCCATGCCATAGT': 17.847773053644893,\n",
       " 'CGTTCAGGTTCTGGTTCTCCATTCCATAGT': 10.127448877906913,\n",
       " 'CGTTCAGGTTCTGGTTGTCCATGCCATAGT': 14.251862035706376,\n",
       " 'CGTTCAGGTTCTCGTTCTCCATGCCATAGT': 13.14883245723119,\n",
       " 'CGTTCAGGTTCTGGTTCTCCCTGCCATAGT': 21.705532067761716,\n",
       " 'CGTTCAGGTTCTGGTTCTCCACGCCATAGT': 13.411707639668633,\n",
       " 'CGTTCAGGTTCTGGTTCTCCATGCCAAAGT': 12.515175882825309,\n",
       " 'CGTTCAGGTTCTGGTTCTCCATGCCATACT': 22.020730089241702,\n",
       " 'CGTTCAGGTTCTGGTTCTCTATGCCATAGT': 19.033230508542548,\n",
       " 'CGTTAAGGTTCTGGTTCTCCATGCCATAGT': 8.430336020675554,\n",
       " 'CGTTCAGGTTGTGGTTCTCCATGCCATAGT': 15.544545266034826,\n",
       " 'CGTTCAGGTTCTGGTTCTCCATGCTATAGT': 58.356077547047924,\n",
       " 'CGTTCAGGTTCTGGTTCTCCATGCGATAGT': 11.65765876468524,\n",
       " 'CGTTCAGGTTCTGGTTCTCCATGCCATCGT': 10.163373912379877,\n",
       " 'CGTTCAGGTTCTGATTCTCCATGCCATAGT': 13.712828631258303,\n",
       " 'CGTTCAGGTTCTTGTTCTCCATGCCATAGT': 11.750205024242762,\n",
       " 'CGTTCAGGTTCTGGGTCTCCATGCCATAGT': 13.216618363761834,\n",
       " 'CGTTCAGGTTCTGGTTCTCCATGCCATTGT': 9.24642256490917,\n",
       " 'CGTTCAGGTTCTGGTTCTCCATGCCCTAGT': 7.869204816555596,\n",
       " 'CGTTTAGGTTCTGGTTCTCCATGCCATAGT': 14.911918502947158,\n",
       " 'CGTTCAGGTTCTGGTTCTTCATGCCATAGT': 15.867685308912307,\n",
       " 'CGTTCAGGTTCTGTTTCTCCATGCCATAGT': 12.520210374178625,\n",
       " 'CGTTCAGGTTCAGGTTCTCCATGCCATAGT': 12.059893153879285,\n",
       " 'CGTTCAGGTTCTGGTTCTCGATGCCATAGT': 13.507197075019398,\n",
       " 'CGTTCAAGTTCTGGTTCTCCATGCCATAGT': 15.973944108649908,\n",
       " 'CGTTCAGGTTCTGGTTCTCCATGCCATATT': 13.275902848003463,\n",
       " 'CGTTCAGGTTCTGGTTCTCCGTGCCATAGT': 12.179158089790727,\n",
       " 'CGTTCAGGTTCTGGTTCTCCATGTCATAGT': 14.66685440772719,\n",
       " 'CGTTCAGGTTCTGGTGCTCCATGCCATAGT': 13.421522666692269,\n",
       " 'CGTTCATGTTCTGGTTCTCCATGCCATAGT': 14.647959295850976,\n",
       " 'CGTTCACGTTCTGGTTCTCCATGCCATAGT': 13.112388819190043,\n",
       " 'CGTTCAGGTTCTGGTTCTCCATGCCATAAT': 31.238484685844252,\n",
       " 'CGTTGAGGTTCTGGTTCTCCATGCCATAGT': 8.060568970358743,\n",
       " 'CGTGCAGGTTCTGGTTCTCCATGCCATAGT': 33.610114882139186,\n",
       " 'CGTTCAGGTTCTGGTTCTCCATCCCATAGT': 8.364138296289834,\n",
       " 'CGTTCAGGTTCTGGTTCTCCATGCCGTAGT': 7.847575015911322,\n",
       " 'CGTTCAGGTTCTGGTTTTCCATGCCATAGT': 13.678765101070029,\n",
       " 'CGTTCAGGTTCTAGTTCTCCATGCCATAGT': 17.05447477608447,\n",
       " 'CGTTCAGGTTCTGGTTCTCCATGACATAGT': 12.707567041056098,\n",
       " 'CGTTCAGGGTCTGGTTCTCCATGCCATAGT': 14.828856774210486,\n",
       " 'CGTTCAGGTTCTGGTTCGCCATGCCATAGT': 13.204031088398391,\n",
       " 'CGTTCAGGTTCTGGTTATCCATGCCATAGT': 14.739560986881571,\n",
       " 'CGTTCAGGTTCTGGTTCTCCATGCAATAGT': 18.619424283773906,\n",
       " 'GGTTCAGGTTCTGGTTCTCCATGCCATAGT': 16.884094695940508,\n",
       " 'CGTTCAGGTCCTGGTTCTCCATGCCATAGT': 11.909508025203333,\n",
       " 'CGTTCAGGTTCTGGTTCTCCTTGCCATAGT': 9.289579620319317,\n",
       " 'CGGTCAGGTTCTGGTTCTCCATGCCATAGT': 37.754467380726574,\n",
       " 'CGTTCAGGTTCTGGTTCACCATGCCATAGT': 12.61980325474092,\n",
       " 'CGCTCAGGTTCTGGTTCTCCATGCCATAGT': 8.626186902201178,\n",
       " 'CGTACAGGTTCTGGTTCTCCATGCCATAGT': 42.236953110399384,\n",
       " 'AGTTCAGGTTCTGGTTCTCCATGCCATAGT': 34.79204232560589,\n",
       " 'CGTTCAGTTTCTGGTTCTCCATGCCATAGT': 11.918797396447614,\n",
       " 'CGTTCAGGTACTGGTTCTCCATGCCATAGT': 12.105768753242279,\n",
       " 'CGTTCAGGTTCTGGATCTCCATGCCATAGT': 12.09628648332295,\n",
       " 'CGTTCAGGTTCTGGTTCTCCAAGCCATAGT': 13.308855840109768,\n",
       " 'CGTTCAGATTCTGGTTCTCCATGCCATAGT': 11.779116372407143,\n",
       " 'CGTTCAGGATCTGGTTCTCCATGCCATAGT': 13.471946205411024,\n",
       " 'CGTTCAGGTTTTGGTTCTCCATGCCATAGT': 12.575642546208194,\n",
       " 'CGTTCGGGTTCTGGTTCTCCATGCCATAGT': 9.02135608727519,\n",
       " 'CGTTCAGGTTCTGCTTCTCCATGCCATAGT': 12.458828817444354,\n",
       " 'CGTTCAGGTTCTGGTTCTCCATGCCTTAGT': 7.153165035552731,\n",
       " 'CTTTCAGGTTCTGGTTCTCCATGCCATAGT': 18.520737163919634,\n",
       " 'TGTTCAGGTTCTGGTTCTCCATGCCATAGT': 37.820513130900615,\n",
       " 'CGTTCAGGTTCTGGTTCTCCAGGCCATAGT': 15.831603267750417,\n",
       " 'CGTTCAGGTTCTGGTTCTCCATGCCACAGT': 9.341441124763932,\n",
       " 'CGATCAGGTTCTGGTTCTCCATGCCATAGT': 8.181643209082761,\n",
       " 'CGTTCAGGTTCTGGTCCTCCATGCCATAGT': 11.316050396736475,\n",
       " 'CGTTCAGGTTCTGGTTCTCCATGGCATAGT': 13.881490629526663,\n",
       " 'CGTTCAGGTTCCGGTTCTCCATGCCATAGT': 10.618880492075627,\n",
       " 'CGTTCAGGTTCTGGTTCTCCATGCCATAGA': 7.5383455408676605,\n",
       " 'CGTTCAGGTGCTGGTTCTCCATGCCATAGT': 10.510942846842006,\n",
       " 'CGTTCAGGTTCTGGTTCTCCATGCCAGAGT': 8.244459974751454,\n",
       " 'CGTTCAGGTTCTGGTACTCCATGCCATAGT': 10.821249818375444,\n",
       " 'CGTTCAGGTTCTGGTTCCCCATGCCATAGT': 10.479223485251362,\n",
       " 'CGTTCAGGTTCTGGCTCTCCATGCCATAGT': 9.987350789568257,\n",
       " 'CGTTCAGGTTCTGGTTCTCCATGCCATAGG': 6.6062501850009605,\n",
       " 'CGTTCAGGTTCGGGTTCTCCATGCCATAGT': 9.647113688138651,\n",
       " 'CGTCCAGGTTCTGGTTCTCCATGCCATAGT': 8.5581567932433,\n",
       " 'CGTTCAGGTTCTGGTTCTCCATGCCATAGC': 6.109861744148731,\n",
       " 'CGTTCAGGCTCTGGTTCTCCATGCCATAGT': 9.683718054384348}"
      ]
     },
     "execution_count": 78,
     "metadata": {},
     "output_type": "execute_result"
    }
   ],
   "source": [
    "\n",
    "RandSeq1_pop = {RandSeq1_trimmed: 100000}\n",
    "for something in range(1440):\n",
    "    population_timestep(RandSeq1_pop, 5E-4)\n",
    "    \n",
    "RandSeq1_pop"
   ]
  },
  {
   "cell_type": "code",
   "execution_count": 70,
   "metadata": {},
   "outputs": [
    {
     "data": {
      "text/plain": [
       "{'CGTTCAGGTTCTGGTTCTCCATGCCATAGT': 1445464.3307511085}"
      ]
     },
     "execution_count": 70,
     "metadata": {},
     "output_type": "execute_result"
    }
   ],
   "source": []
  },
  {
   "cell_type": "code",
   "execution_count": null,
   "metadata": {},
   "outputs": [],
   "source": []
  }
 ],
 "metadata": {
  "kernelspec": {
   "display_name": "Python 3",
   "language": "python",
   "name": "python3"
  },
  "language_info": {
   "codemirror_mode": {
    "name": "ipython",
    "version": 3
   },
   "file_extension": ".py",
   "mimetype": "text/x-python",
   "name": "python",
   "nbconvert_exporter": "python",
   "pygments_lexer": "ipython3",
   "version": "3.7.7"
  }
 },
 "nbformat": 4,
 "nbformat_minor": 4
}
