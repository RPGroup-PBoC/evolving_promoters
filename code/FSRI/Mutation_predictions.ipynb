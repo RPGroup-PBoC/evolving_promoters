{
 "cells": [
  {
   "cell_type": "code",
   "execution_count": 1,
   "metadata": {},
   "outputs": [],
   "source": [
    "import numpy as np\n",
    "import scipy.stats"
   ]
  },
  {
   "cell_type": "code",
   "execution_count": 2,
   "metadata": {},
   "outputs": [
    {
     "data": {
      "text/plain": [
       "'ACTCGTTAGCTAG'"
      ]
     },
     "execution_count": 2,
     "metadata": {},
     "output_type": "execute_result"
    }
   ],
   "source": [
    "sequence = \"ACTCGTTAGCTAG\"\n",
    "for position, letter in enumerate(sequence):\n",
    "    flip = np.random.random()\n",
    "    mut_rate=10^-10\n",
    "    if flip < mut_rate:\n",
    "        nucleotides=[\"A\", \"G\", \"C\", \"T\"]\n",
    "        nucleotides.remove(letter)\n",
    "        new_letter = np.random.choice(nucleotides)\n",
    "        \n",
    "        sequence = sequence[:position] + new_letter.lower() + sequence[position+1:]\n",
    "        \n",
    "sequence"
   ]
  },
  {
   "cell_type": "code",
   "execution_count": 3,
   "metadata": {},
   "outputs": [],
   "source": [
    "def mutation(sequence):\n",
    "    mut_rate=10**-10\n",
    "    for position, letter in enumerate(sequence):\n",
    "        flip = np.random.random()\n",
    "        if flip < mut_rate:\n",
    "            if letter=='A':\n",
    "                new_letter=np.random.choice(['g','c','t'], p=[.54,.23,.23])\n",
    "            elif letter=='G':\n",
    "                new_letter=np.random.choice(['a','c','t'], p=[.74,.13,.13])\n",
    "            elif letter=='T':\n",
    "                new_letter=np.random.choice(['a','c','g'], p=[.23,.54,.23])\n",
    "            elif letter=='C':\n",
    "                new_letter=np.random.choice(['a','t','g'], p=[.13,.74,.13])\n",
    "            sequence = sequence[:position] + new_letter + sequence[position+1:]\n",
    "    return(sequence)"
   ]
  },
  {
   "cell_type": "code",
   "execution_count": 6,
   "metadata": {},
   "outputs": [
    {
     "ename": "IndentationError",
     "evalue": "unexpected indent (<ipython-input-6-3bc60037ad75>, line 9)",
     "output_type": "error",
     "traceback": [
      "\u001b[1;36m  File \u001b[1;32m\"<ipython-input-6-3bc60037ad75>\"\u001b[1;36m, line \u001b[1;32m9\u001b[0m\n\u001b[1;33m    number_of_mutations= int(len(sequence)*(9/10))\u001b[0m\n\u001b[1;37m    ^\u001b[0m\n\u001b[1;31mIndentationError\u001b[0m\u001b[1;31m:\u001b[0m unexpected indent\n"
     ]
    }
   ],
   "source": [
    "def mutation(list_of_sequences, Number_of_sequence):\"\"\"\n",
    "    Input: \n",
    "    Biological sequence\n",
    "    Number_of_sequences: How many sequences\n",
    "    Frequencies: ho\n",
    "    Output: Mutated biological sequence \n",
    "    \n",
    "    \"\"\"\n",
    "    number_of_mutations= int(len(sequence)*(9/10))\n",
    "    \n",
    "    for sequence in range(number_of_mutations):\n",
    "        sequence_change(sequence)\n",
    "    return(sequence)"
   ]
  },
  {
   "cell_type": "code",
   "execution_count": null,
   "metadata": {},
   "outputs": [],
   "source": [
    "def sequence_change(sequence):\n",
    "   \n",
    "    sequence_array=np.array(list(sequence))\n",
    "   \n",
    "    flip=np.random.random()\n",
    "    # 40% letter mutated is a G\n",
    "    \n",
    "    if flip<.40:\n",
    "        allpositions= list(np.where(sequence_array=='G'))\n",
    "        chosen_position=np.random.choice(allpositions[0])\n",
    "        new_letter=np.random.choice(['a','c','t'])\n",
    "        sequence = sequence[:chosen_position] + new_letter + sequence[chosen_position+1:]\n",
    "        \n",
    "    if .40<flip<.8:\n",
    "        #This is where C would go\n",
    "        #Write saying search sequences for C and choose random C\n",
    "        allpositions= list(np.where(sequence_array=='C'))\n",
    "        chosen_position=np.random.choice(allpositions[0])\n",
    "        new_letter=np.random.choice(['a','t','g'])                            \n",
    "        sequence = sequence[:chosen_position] + new_letter + sequence[chosen_position+1:]\n",
    "        sequence[chosen_position]\n",
    "        \n",
    "    if .8<flip<.9:\n",
    "        #This is where A would go\n",
    "        #Write saying search sequences for A and choose random A\n",
    "        allpositions= list(np.where(sequence_array=='A'))\n",
    "        chosen_position=np.random.choice(allpositions[0])\n",
    "        new_letter=np.random.choice(['g','c','t'])\n",
    "        sequence = sequence[:chosen_position] + new_letter + sequence[chosen_position+1:]   \n",
    "        \n",
    "    if .9 <flip<1:\n",
    "        #This is where T would go\n",
    "        #Write saying search sequences for T and choose random T\n",
    "        allpositions= list(np.where(sequence_array=='T'))\n",
    "        chosen_position=np.random.choice(allpositions[0])\n",
    "        new_letter=np.random.choice(['a','c','g'])\n",
    "        sequence = sequence[:chosen_position] + new_letter + sequence[chosen_position+1:]\n",
    "        \n",
    "    return(sequence)"
   ]
  },
  {
   "cell_type": "code",
   "execution_count": 129,
   "metadata": {},
   "outputs": [],
   "source": [
    "#Function to update dictionary, 1 generation \n",
    "#later not trivial\n",
    "def mutation_dict(population):\n",
    "    number = int(np.sum(list(pop.values())))\n",
    "    number_of_mutations = scipy.stats.binom.rvs(number, 10**-10)\n",
    "    \n",
    "    pop_list = list(population)\n",
    "    sequence = pop_list[0]\n",
    "    \n",
    "    for pop_list in range(number_of_mutations):\n",
    "        population[sequence_change(sequence)] = 1\n",
    "    \n",
    "    population[sequence] = (2*number-number_of_mutations)\n",
    "    \n",
    "    return(population)\n",
    "        "
   ]
  },
  {
   "cell_type": "code",
   "execution_count": 5,
   "metadata": {},
   "outputs": [],
   "source": [
    " RandSeq1 = \"ataggagcgtcatcaaacgcgccgttcaggttctggttctccatgccatagttaagccgcacaacgggtactaccactccctgtagtccgctttaccgttctc\".upper()"
   ]
  }
 ],
 "metadata": {
  "kernelspec": {
   "display_name": "Python 3",
   "language": "python",
   "name": "python3"
  },
  "language_info": {
   "codemirror_mode": {
    "name": "ipython",
    "version": 3
   },
   "file_extension": ".py",
   "mimetype": "text/x-python",
   "name": "python",
   "nbconvert_exporter": "python",
   "pygments_lexer": "ipython3",
   "version": "3.7.7"
  }
 },
 "nbformat": 4,
 "nbformat_minor": 4
}
