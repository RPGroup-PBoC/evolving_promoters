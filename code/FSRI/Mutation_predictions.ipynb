{
 "cells": [
  {
   "cell_type": "code",
   "execution_count": 37,
   "metadata": {},
   "outputs": [],
   "source": [
    "import numpy as np\n",
    "import scipy.stats"
   ]
  },
  {
   "cell_type": "markdown",
   "metadata": {},
   "source": [
    "# Predicting Mutations\n"
   ]
  },
  {
   "cell_type": "markdown",
   "metadata": {},
   "source": [
    "### mutation(sequence)\n",
    "\n",
    "Mutation(sequence) uses the idea that if a position is chosen at random, then a possible mutation for a sequence would depend on the letter and its possibility to undergo various types of transversions and transitions. The data is rounded percentages from page 302 of *Cell Biology by the Numbers* (2016).\n",
    "\n"
   ]
  },
  {
   "cell_type": "code",
   "execution_count": 36,
   "metadata": {},
   "outputs": [],
   "source": [
    "def mutation(sequence):\n",
    "    \"\"\"\n",
    "        Input:\n",
    "            sequence- a biological sequence\n",
    "        Output:\n",
    "            sequence- the inputted sequence after a mutation has occurred.\n",
    "    \"\"\"\n",
    "    #Standard mutation rate for E. Coli\n",
    "    mut_rate = 10 ** -10\n",
    "    \n",
    "    #A mutation will occur, checking by base pair\n",
    "    for position, letter in enumerate(sequence):\n",
    "        flip = np.random.random()\n",
    "        \n",
    "        #Determining which letter and mutation that will occur\n",
    "        if flip < mut_rate:\n",
    "            if letter == \"A\":\n",
    "                new_letter = np.random.choice([\"g\", \"c\", \"t\"], p=[0.54, 0.23, 0.23])\n",
    "            elif letter == \"G\":\n",
    "                new_letter = np.random.choice([\"a\", \"c\", \"t\"], p=[0.74, 0.13, 0.13])\n",
    "            elif letter == \"T\":\n",
    "                new_letter = np.random.choice([\"a\", \"c\", \"g\"], p=[0.23, 0.54, 0.23])\n",
    "            elif letter == \"C\":\n",
    "                new_letter = np.random.choice([\"a\", \"t\", \"g\"], p=[0.13, 0.74, 0.13])\n",
    "             \n",
    "            #Placing the mutation in the sequence\n",
    "            sequence = sequence[:position] + new_letter + sequence[position + 1 :]\n",
    "            \n",
    "    return sequence"
   ]
  },
  {
   "cell_type": "markdown",
   "metadata": {},
   "source": [
    "### sequence_change(sequence)\n",
    "\n",
    "A function that performs a mutation for a sequence given the idea that the likelihood of a position mutating is dependent upon its letter, a departure from the ideals in mutation(sequence). It uses the idea that a G is likely to mutate 40% of the time, C 40% of the time, A 10% of the time, and T 10% of the time. "
   ]
  },
  {
   "cell_type": "code",
   "execution_count": 26,
   "metadata": {},
   "outputs": [],
   "source": [
    "def sequence_change(sequence):\n",
    "    \"\"\"\n",
    "        Input:\n",
    "            sequence- a biological sequence\n",
    "        Output:\n",
    "            sequence- the inputted sequence after a mutation has occurred\n",
    "    \"\"\"\n",
    "\n",
    "    sequence_array = np.array(list(sequence))\n",
    "\n",
    "    # A random number between 0 and 1 is generated\n",
    "    flip = np.random.random()\n",
    "\n",
    "    # Probability if the letter chosen is a G\n",
    "    if flip < 0.40:\n",
    "        allpositions = list(np.where(sequence_array == \"G\"))\n",
    "        chosen_position = np.random.choice(allpositions[0])\n",
    "        new_letter = np.random.choice([\"A\", \"C\", \"T\"])\n",
    "        sequence = (\n",
    "            sequence[:chosen_position] + new_letter + sequence[chosen_position + 1 :]\n",
    "        )\n",
    "\n",
    "    # Probability if the letter chosen is a C\n",
    "    if 0.40 < flip < 0.8:\n",
    "        allpositions = list(np.where(sequence_array == \"C\"))\n",
    "        chosen_position = np.random.choice(allpositions[0])\n",
    "        new_letter = np.random.choice([\"A\", \"T\", \"G\"])\n",
    "        sequence = (\n",
    "            sequence[:chosen_position] + new_letter + sequence[chosen_position + 1 :]\n",
    "        )\n",
    "        sequence[chosen_position]\n",
    "\n",
    "    # Probability if the letter chosen is an A\n",
    "    if 0.8 < flip < 0.9:\n",
    "        allpositions = list(np.where(sequence_array == \"A\"))\n",
    "        chosen_position = np.random.choice(allpositions[0])\n",
    "        new_letter = np.random.choice([\"G\", \"C\", \"T\"])\n",
    "        sequence = (\n",
    "            sequence[:chosen_position] + new_letter + sequence[chosen_position + 1 :]\n",
    "        )\n",
    "\n",
    "    # Probability if the letter chosen is a T\n",
    "    if 0.9 < flip < 1:\n",
    "        allpositions = list(np.where(sequence_array == \"T\"))\n",
    "        chosen_position = np.random.choice(allpositions[0])\n",
    "        new_letter = np.random.choice([\"A\", \"C\", \"G\"])\n",
    "        sequence = (\n",
    "            sequence[:chosen_position] + new_letter + sequence[chosen_position + 1 :]\n",
    "        )\n",
    "\n",
    "    return sequence"
   ]
  },
  {
   "cell_type": "markdown",
   "metadata": {},
   "source": [
    "### generation_dict(population, mutation_rate=10**-10)\n",
    "\n",
    "The generation_dict(population, mutation_rate=10**-10) function replicates the process of duplication, while factoring in the probability that a mutation could occur, given by the mutation rate. Note that the default is $10^{-10}$ mutations per base pair per replication for E. Coli, taken from *Cell Biology by the Numbers* (2016). We will use sequence_change(sequence) to perform a mutation if any from the dictionary would need to undergo a mutation. Note that all sequences in the dictionary must have the same base pair length for this function to be true."
   ]
  },
  {
   "cell_type": "code",
   "execution_count": 76,
   "metadata": {},
   "outputs": [],
   "source": [
    "def generation_dict(population, mutation_rate=10 ** -10):\n",
    "    \"\"\"\n",
    "    Inputs:\n",
    "    population- a dictionary containing the biological sequences associated with cells\n",
    "    mutation_rate = 10**-10 is default, could be changed if needed\n",
    "    Outputs:\n",
    "    population- the dictionary after undergoing its first replication\n",
    "    \"\"\"\n",
    "    #Defining our original population\n",
    "    original_population = population.copy()\n",
    "    \n",
    "    # Calculates the number of mutations that will occur\n",
    "    number_of_sequences = np.sum(list((population.values())))\n",
    "    number_of_bases = len(np.random.choice(list(population.keys())))\n",
    "    number_of_mutations = int(number_of_bases * number_of_sequences * mutation_rate)\n",
    "    pop_list = list(population)\n",
    "    number_of_distinct_sequences = len(pop_list)\n",
    "    \n",
    "    \n",
    "    # Doubles the population of cells\n",
    "    for sequence in population.keys():\n",
    "        original_frequency = population.get(sequence)\n",
    "        population.update({sequence: 2 * original_frequency})\n",
    "    \n",
    "    \n",
    "\n",
    "    # If the number is [0,1], then it would flip to see if one mutation would happen\n",
    "    if number_of_mutations < 1:\n",
    "        flip = np.random.choice(\n",
    "            [1, 0], p=[number_of_mutations, 1 - number_of_mutations]\n",
    "        )\n",
    "\n",
    "        # If the flip is successful = 1 mutation\n",
    "        if flip == 1:\n",
    "            number_of_mutations = 1\n",
    "            p = np.array(list(original_population.values())) / number_of_sequences\n",
    "            p /= p.sum()\n",
    "            original_sequence = np.random.choice(list(original_population.keys()), p=p)\n",
    "            mutated_sequence = sequence_change(original_sequence)\n",
    "            original_number = population.get(original_sequence)\n",
    "            population.update({mutated_sequence: 1})\n",
    "            population.update({original_sequence: original_number - 1})\n",
    "        #No mutations occur\n",
    "        else:\n",
    "            new_population = population\n",
    "\n",
    "    # Performs mutations for number_of_mutations\n",
    "    else:\n",
    "        for pop_list in range(number_of_mutations):\n",
    "            p = np.array(list(original_population.values())) / number_of_sequences\n",
    "            p /= p.sum()\n",
    "            original_sequence = np.random.choice(list(original_population.keys()), p=p)\n",
    "            mutated_sequence = sequence_change(original_sequence)\n",
    "            original_number = population.get(original_sequence)\n",
    "            population.update({mutated_sequence: 1})\n",
    "            population.update({original_sequence: original_number - 1})\n",
    "\n",
    "    return population"
   ]
  },
  {
   "cell_type": "markdown",
   "metadata": {},
   "source": [
    "We will test our function generation_dict(population, mutation_rate=10**-10) to show an example for the given dictionary shown below. We will adjust the mutation_rate to 1/100 to ensure that mutations will occur in our example."
   ]
  },
  {
   "cell_type": "code",
   "execution_count": 84,
   "metadata": {},
   "outputs": [
    {
     "data": {
      "text/plain": [
       "{'ACGCAACTCGACTATACGACTCATTACCGA': 21,\n",
       " 'ACGCAACTCGACTATGCGACTCATAACCGA': 13,\n",
       " 'ACGCAACTCGCCTATGCGACTCATAACCGA': 7,\n",
       " 'ACGCAACTCGACCATGCGACTCATAACCGA': 1,\n",
       " 'ACTCAACTCGACTATACGACTCATTACCGA': 1,\n",
       " 'ACGCAACTCGACTACGCGACTCATAACCGA': 1,\n",
       " 'ACGCAACTCGACTATATGACTCATTACCGA': 1,\n",
       " 'ACGCAACTCGACTATACTACTCATTACCGA': 1,\n",
       " 'ACACAACTCGACTATGCGACTCATAACCGA': 1,\n",
       " 'ACGCAACTCGCCTATGAGACTCATAACCGA': 1}"
      ]
     },
     "execution_count": 84,
     "metadata": {},
     "output_type": "execute_result"
    }
   ],
   "source": [
    "dic = {'ACGCAACTCGACTATACGACTCATTACCGA': 12, 'ACGCAACTCGACTATGCGACTCATAACCGA': 8, 'ACGCAACTCGCCTATGCGACTCATAACCGA': 4}\n",
    "generation_dict(dic, 1/100)"
   ]
  },
  {
   "cell_type": "code",
   "execution_count": 85,
   "metadata": {},
   "outputs": [
    {
     "data": {
      "text/plain": [
       "48"
      ]
     },
     "execution_count": 85,
     "metadata": {},
     "output_type": "execute_result"
    }
   ],
   "source": [
    "np.sum(list((dic.values()))) "
   ]
  }
 ],
 "metadata": {
  "kernelspec": {
   "display_name": "Python 3",
   "language": "python",
   "name": "python3"
  },
  "language_info": {
   "codemirror_mode": {
    "name": "ipython",
    "version": 3
   },
   "file_extension": ".py",
   "mimetype": "text/x-python",
   "name": "python",
   "nbconvert_exporter": "python",
   "pygments_lexer": "ipython3",
   "version": "3.7.7"
  }
 },
 "nbformat": 4,
 "nbformat_minor": 4
}
