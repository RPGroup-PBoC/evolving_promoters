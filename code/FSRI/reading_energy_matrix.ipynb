{
 "cells": [
  {
   "cell_type": "markdown",
   "metadata": {},
   "source": [
    "# Reading Energy Matrix"
   ]
  },
  {
   "cell_type": "code",
   "execution_count": 91,
   "metadata": {},
   "outputs": [],
   "source": [
    "import pandas as pd\n",
    "import numpy as np "
   ]
  },
  {
   "cell_type": "code",
   "execution_count": 138,
   "metadata": {},
   "outputs": [
    {
     "data": {
      "text/html": [
       "<div>\n",
       "<style scoped>\n",
       "    .dataframe tbody tr th:only-of-type {\n",
       "        vertical-align: middle;\n",
       "    }\n",
       "\n",
       "    .dataframe tbody tr th {\n",
       "        vertical-align: top;\n",
       "    }\n",
       "\n",
       "    .dataframe thead th {\n",
       "        text-align: right;\n",
       "    }\n",
       "</style>\n",
       "<table border=\"1\" class=\"dataframe\">\n",
       "  <thead>\n",
       "    <tr style=\"text-align: right;\">\n",
       "      <th></th>\n",
       "      <th>A</th>\n",
       "      <th>C</th>\n",
       "      <th>G</th>\n",
       "      <th>T</th>\n",
       "    </tr>\n",
       "  </thead>\n",
       "  <tbody>\n",
       "    <tr>\n",
       "      <th>0</th>\n",
       "      <td>0.305961</td>\n",
       "      <td>0.681616</td>\n",
       "      <td>0.360140</td>\n",
       "      <td>-0.313427</td>\n",
       "    </tr>\n",
       "    <tr>\n",
       "      <th>1</th>\n",
       "      <td>0.122283</td>\n",
       "      <td>0.247441</td>\n",
       "      <td>0.171605</td>\n",
       "      <td>-0.313427</td>\n",
       "    </tr>\n",
       "    <tr>\n",
       "      <th>2</th>\n",
       "      <td>1.500683</td>\n",
       "      <td>1.490967</td>\n",
       "      <td>-0.313427</td>\n",
       "      <td>0.633869</td>\n",
       "    </tr>\n",
       "    <tr>\n",
       "      <th>3</th>\n",
       "      <td>-0.313427</td>\n",
       "      <td>1.032246</td>\n",
       "      <td>-0.138758</td>\n",
       "      <td>0.699062</td>\n",
       "    </tr>\n",
       "    <tr>\n",
       "      <th>4</th>\n",
       "      <td>1.064641</td>\n",
       "      <td>-0.214039</td>\n",
       "      <td>1.119622</td>\n",
       "      <td>-0.313427</td>\n",
       "    </tr>\n",
       "  </tbody>\n",
       "</table>\n",
       "</div>"
      ],
      "text/plain": [
       "          A         C         G         T\n",
       "0  0.305961  0.681616  0.360140 -0.313427\n",
       "1  0.122283  0.247441  0.171605 -0.313427\n",
       "2  1.500683  1.490967 -0.313427  0.633869\n",
       "3 -0.313427  1.032246 -0.138758  0.699062\n",
       "4  1.064641 -0.214039  1.119622 -0.313427"
      ]
     },
     "execution_count": 138,
     "metadata": {},
     "output_type": "execute_result"
    }
   ],
   "source": [
    "# read in the energy matrix\n",
    "data = pd.read_csv(\"../../data/brewster_matrixS2.txt\", sep=\" \", comment=\"#\", header=None)\n",
    "data = data[5: -6] #trimming matrix to 30 bp\n",
    "data = data.reset_index(drop=True)\n",
    "data.columns = ['A','C','G','T']\n",
    "data.head()"
   ]
  },
  {
   "cell_type": "code",
   "execution_count": 127,
   "metadata": {},
   "outputs": [],
   "source": [
    "RandSeq1 = \"ATAGGAGCGTCATCAAACGCGCCGTTCAGGTTCTGGTTCTCCATGCTATAGTTAAGCCGCACAACGGGTACTACCACTCCCTGTAGTCCGCTTTACCGTTCTC\"\n",
    "RandSeq1_trimmed='CGTTCAGGTTCTGGTTCTCCATGCCATAGT'"
   ]
  },
  {
   "cell_type": "markdown",
   "metadata": {},
   "source": [
    "### energy(sequence)\n",
    "\n",
    "The energy(sequence) function returns the energy for a provided biological string. It utilizes the data from the energy matrix above."
   ]
  },
  {
   "cell_type": "code",
   "execution_count": 130,
   "metadata": {},
   "outputs": [],
   "source": [
    "def energy(sequence):\n",
    "    \"\"\"\n",
    "    Input:\n",
    "         sequence: 30 bp for the promoter region\n",
    "    Output:\n",
    "        total_energy: the total energy for the given sequence in K_bT\"\"\"\n",
    "    #Initializing the counter for the total energy.\n",
    "    total_energy = 0\n",
    "    #Adds the energy value for each base together for the entire sequence\n",
    "    for position, letter in enumerate(sequence):\n",
    "        #Determines the energy for a given position and base pair location using the energy matrix\n",
    "        energy_of_base = data.loc[position,letter]\n",
    "        total_energy += energy_of_base\n",
    "        \n",
    "    return(total_energy)"
   ]
  },
  {
   "cell_type": "markdown",
   "metadata": {},
   "source": [
    "For the example, example_sequence, the function yields:"
   ]
  },
  {
   "cell_type": "code",
   "execution_count": 141,
   "metadata": {},
   "outputs": [
    {
     "data": {
      "text/plain": [
       "-1.8063224473818504"
      ]
     },
     "execution_count": 141,
     "metadata": {},
     "output_type": "execute_result"
    }
   ],
   "source": [
    "energy(RandSeq1_trimmed)"
   ]
  },
  {
   "cell_type": "markdown",
   "metadata": {},
   "source": [
    "### binding_site(sequence)\n",
    "\n",
    "The binding_site function shows the location along with the lowest energy matrix for a provided biological sequence. This function is useful for determining a potential binding site for RNA polymerase."
   ]
  },
  {
   "cell_type": "code",
   "execution_count": 100,
   "metadata": {},
   "outputs": [],
   "source": [
    "def binding_site(sequence):\n",
    "    \"\"\"\n",
    "    Input: \n",
    "        sequence: string, biological sequence\n",
    "    Outputs:\n",
    "        position: the base pair with the lowest energy matrix\n",
    "        lowest_energy: the lowest energy for a base pair within the sequence\"\"\"\n",
    "    # Initializes the energy of position and lowest energy to zero.\n",
    "    energy_of_position = 0 \n",
    "    lowest_energy = 0\n",
    "    #Loops for the position within the range of the sequence to check every 30 base pairs\n",
    "    for position in range(len(sequence)-29):\n",
    "        energy_of_position = energy(sequence[position:position+30])\n",
    "    #Checks if the energy of the position is less than the lowest_energy, substitutes that value so that it could be compared when the loop runs again    \n",
    "        if energy_of_position < lowest_energy:\n",
    "            lowest_energy= energy_of_position\n",
    "            position_of_lowest_energy = sequence[position:position+30]\n",
    "            \n",
    "    return(position,lowest_energy)"
   ]
  },
  {
   "cell_type": "markdown",
   "metadata": {},
   "source": [
    "For RandSeq1 and RandSe1_trimmed:"
   ]
  },
  {
   "cell_type": "code",
   "execution_count": 118,
   "metadata": {},
   "outputs": [
    {
     "data": {
      "text/plain": [
       "(73, -2.9115778711106644)"
      ]
     },
     "execution_count": 118,
     "metadata": {},
     "output_type": "execute_result"
    }
   ],
   "source": [
    "binding_site(RandSeq1)"
   ]
  },
  {
   "cell_type": "code",
   "execution_count": 122,
   "metadata": {},
   "outputs": [
    {
     "data": {
      "text/plain": [
       "(0, -1.8063224473818504)"
      ]
     },
     "execution_count": 122,
     "metadata": {},
     "output_type": "execute_result"
    }
   ],
   "source": [
    "binding_site(RandSeq1_trimmed)"
   ]
  },
  {
   "cell_type": "markdown",
   "metadata": {},
   "source": [
    "### firstmutation(sequence)\n",
    "\n",
    "The firstmutation(sequence) predicts the first mutation within a given promoter region through applying the principle that the base pair most likely to change will be the one that shows the greatest decrease in energy, and it will apply this mutation to yield a new sequence, the altered letter, and the change in energy."
   ]
  },
  {
   "cell_type": "code",
   "execution_count": 136,
   "metadata": {},
   "outputs": [],
   "source": [
    "def firstmutation(sequence):\n",
    "    \"\"\"\n",
    "    Input: \n",
    "        string, promoter region of a biological sequence (30 bp)\n",
    "    Outputs:\n",
    "        Final_sequence: the input sequence after its first mutation\n",
    "        Letter_change: the letter that the mutated sequence displays\n",
    "        Energy_difference: the difference between the change of letter and its original base pair in K_bT.\n",
    "        \"\"\"\n",
    "    #Sets best position to the first one as it will be updated later\n",
    "    #best energy is set to an infintely high number so that it could be changed for comparison reasons\n",
    "    #Energy difference is set to zero, it will record the highest decrease between changing a base pair's letter and its original letter\n",
    "    bestposition = 0\n",
    "    bestenergy = np.inf\n",
    "    energy_difference = 0\n",
    "    \n",
    "    #The first loop sets the energy equal to a known value in the energy matrix, loops for every base pair.\n",
    "    for position,let in enumerate(sequence):\n",
    "        energy=data.loc[position, letter]\n",
    "        #Scans all the possibilities for letters within the column of the energy matrix\n",
    "        for current_letter in data.columns:\n",
    "            #Checks for the largest decrease in energy and save the location as the bestposition and letter_change for the energy with the lower energy\n",
    "            if energy_difference < (energy-data.loc[position, current_letter]):\n",
    "                energy_difference = (energy-data.loc[position, current_letter])\n",
    "                bestenergy = data.loc[position, current_letter]\n",
    "                letter_change = current_letter\n",
    "                bestposition = position\n",
    "   #Converts the sequence to a list to make it mutable             \n",
    "    list_sequence = list(sequence)\n",
    "    #Changes the letter for the bestposition in the list to letter_change\n",
    "    list_sequence[bestposition] = letter_change\n",
    "    #Converts the list back to a sequence\n",
    "    final_sequence = \"\".join(list_sequence)\n",
    "    return(final_sequence,letter_change,bestposition, energy_difference)\n"
   ]
  },
  {
   "cell_type": "code",
   "execution_count": 134,
   "metadata": {},
   "outputs": [
    {
     "data": {
      "text/plain": [
       "('CGTTCAGGTTCTGGTTCTCCATGCCATAGT', 'A', 25, 1.5605388418079094)"
      ]
     },
     "execution_count": 134,
     "metadata": {},
     "output_type": "execute_result"
    }
   ],
   "source": [
    "firstmutation(RandSeq1_trimmed)"
   ]
  }
 ],
 "metadata": {
  "kernelspec": {
   "display_name": "Python 3",
   "language": "python",
   "name": "python3"
  },
  "language_info": {
   "codemirror_mode": {
    "name": "ipython",
    "version": 3
   },
   "file_extension": ".py",
   "mimetype": "text/x-python",
   "name": "python",
   "nbconvert_exporter": "python",
   "pygments_lexer": "ipython3",
   "version": "3.7.7"
  }
 },
 "nbformat": 4,
 "nbformat_minor": 4
}
