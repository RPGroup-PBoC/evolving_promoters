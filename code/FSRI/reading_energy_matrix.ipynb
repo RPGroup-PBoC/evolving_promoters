{
 "cells": [
  {
   "cell_type": "markdown",
   "metadata": {},
   "source": [
    "# Reading Energy Matrix"
   ]
  },
  {
   "cell_type": "code",
   "execution_count": 4,
   "metadata": {},
   "outputs": [],
   "source": [
    "import pandas as pd\n",
    "import numpy as np "
   ]
  },
  {
   "cell_type": "code",
   "execution_count": 5,
   "metadata": {},
   "outputs": [
    {
     "data": {
      "text/html": [
       "<div>\n",
       "<style scoped>\n",
       "    .dataframe tbody tr th:only-of-type {\n",
       "        vertical-align: middle;\n",
       "    }\n",
       "\n",
       "    .dataframe tbody tr th {\n",
       "        vertical-align: top;\n",
       "    }\n",
       "\n",
       "    .dataframe thead th {\n",
       "        text-align: right;\n",
       "    }\n",
       "</style>\n",
       "<table border=\"1\" class=\"dataframe\">\n",
       "  <thead>\n",
       "    <tr style=\"text-align: right;\">\n",
       "      <th></th>\n",
       "      <th>A</th>\n",
       "      <th>C</th>\n",
       "      <th>G</th>\n",
       "      <th>T</th>\n",
       "    </tr>\n",
       "  </thead>\n",
       "  <tbody>\n",
       "    <tr>\n",
       "      <th>0</th>\n",
       "      <td>0.305961</td>\n",
       "      <td>0.681616</td>\n",
       "      <td>0.360140</td>\n",
       "      <td>-0.313427</td>\n",
       "    </tr>\n",
       "    <tr>\n",
       "      <th>1</th>\n",
       "      <td>0.122283</td>\n",
       "      <td>0.247441</td>\n",
       "      <td>0.171605</td>\n",
       "      <td>-0.313427</td>\n",
       "    </tr>\n",
       "    <tr>\n",
       "      <th>2</th>\n",
       "      <td>1.500683</td>\n",
       "      <td>1.490967</td>\n",
       "      <td>-0.313427</td>\n",
       "      <td>0.633869</td>\n",
       "    </tr>\n",
       "    <tr>\n",
       "      <th>3</th>\n",
       "      <td>-0.313427</td>\n",
       "      <td>1.032246</td>\n",
       "      <td>-0.138758</td>\n",
       "      <td>0.699062</td>\n",
       "    </tr>\n",
       "    <tr>\n",
       "      <th>4</th>\n",
       "      <td>1.064641</td>\n",
       "      <td>-0.214039</td>\n",
       "      <td>1.119622</td>\n",
       "      <td>-0.313427</td>\n",
       "    </tr>\n",
       "  </tbody>\n",
       "</table>\n",
       "</div>"
      ],
      "text/plain": [
       "          A         C         G         T\n",
       "0  0.305961  0.681616  0.360140 -0.313427\n",
       "1  0.122283  0.247441  0.171605 -0.313427\n",
       "2  1.500683  1.490967 -0.313427  0.633869\n",
       "3 -0.313427  1.032246 -0.138758  0.699062\n",
       "4  1.064641 -0.214039  1.119622 -0.313427"
      ]
     },
     "execution_count": 5,
     "metadata": {},
     "output_type": "execute_result"
    }
   ],
   "source": [
    "# read in the energy matrix\n",
    "data = pd.read_csv(\"../../data/brewster_matrixS2.txt\", sep=\" \", comment=\"#\", header=None)\n",
    "data = data[5: -6] #trimming matrix to 30 bp\n",
    "data = data.reset_index(drop=True)\n",
    "data.columns = ['A','C','G','T']\n",
    "data.head()"
   ]
  },
  {
   "cell_type": "markdown",
   "metadata": {},
   "source": [
    "We will use the first randomly generated sequence from Yona (2018) as an example for these functions. RandSeq1 represents the entire 103 bp, while RandSeq1_trimmed will be the known promoter region from that sequence."
   ]
  },
  {
   "cell_type": "code",
   "execution_count": 6,
   "metadata": {},
   "outputs": [],
   "source": [
    "RandSeq1 = \"ATAGGAGCGTCATCAAACGCGCCGTTCAGGTTCTGGTTCTCCATGCTATAGTTAAGCCGCACAACGGGTACTACCACTCCCTGTAGTCCGCTTTACCGTTCTC\"\n",
    "RandSeq1_trimmed = 'CGTTCAGGTTCTGGTTCTCCATGCCATAGT'"
   ]
  },
  {
   "cell_type": "markdown",
   "metadata": {},
   "source": [
    "### energy(sequence)\n",
    "\n",
    "The energy(sequence) function returns the energy for a provided biological promoter region. It utilizes the data from the Brewster energy matrix."
   ]
  },
  {
   "cell_type": "code",
   "execution_count": 7,
   "metadata": {},
   "outputs": [],
   "source": [
    "def energy(sequence):\n",
    "    \"\"\"\n",
    "    Input:\n",
    "         sequence: 30 bp for the promoter region\n",
    "    Output:\n",
    "        total_energy: the total energy for the given sequence in K_bT\"\"\"\n",
    "    #Initializing the counter for the total energy.\n",
    "    total_energy = 0\n",
    "    \n",
    "    #Adds the energy value for each base together for the entire sequence\n",
    "    for position, letter in enumerate(sequence):\n",
    "        #Determines the energy for a given position and base pair location using the energy matrix\n",
    "        energy_of_base = data.loc[position,letter]\n",
    "        total_energy += energy_of_base\n",
    "        \n",
    "    return(total_energy)"
   ]
  },
  {
   "cell_type": "markdown",
   "metadata": {},
   "source": [
    "For the RandSeq1_trimmed, the function yields"
   ]
  },
  {
   "cell_type": "code",
   "execution_count": 8,
   "metadata": {},
   "outputs": [
    {
     "data": {
      "text/plain": [
       "-1.8063224473818504"
      ]
     },
     "execution_count": 8,
     "metadata": {},
     "output_type": "execute_result"
    }
   ],
   "source": [
    "energy(RandSeq1_trimmed)"
   ]
  },
  {
   "cell_type": "markdown",
   "metadata": {},
   "source": [
    "### binding_site(sequence)\n",
    "\n",
    "The binding_site function shows the location along with the lowest energy matrix for a provided biological sequence. This function is useful for determining a potential binding site for RNA polymerase."
   ]
  },
  {
   "cell_type": "code",
   "execution_count": 9,
   "metadata": {},
   "outputs": [],
   "source": [
    "def binding_site(sequence):\n",
    "    \"\"\"\n",
    "    Input: \n",
    "        sequence: string, biological sequence\n",
    "    Outputs:\n",
    "        position: the base pair with the lowest energy matrix\n",
    "        lowest_energy: the lowest energy for a base pair within the sequence\"\"\"\n",
    "    # Initializes the energy of position and lowest energy to zero.\n",
    "    energy_of_position = 0 \n",
    "    lowest_energy = 0\n",
    "    \n",
    "    #Loops for the position within the range of the sequence to check every 30 base pairs\n",
    "    for position in range(len(sequence)-29):\n",
    "        energy_of_position = energy(sequence[position:position+30])\n",
    "    #Checks if the energy of the position is less than the lowest_energy, substitutes that value so that it could be compared when the loop runs again    \n",
    "        if energy_of_position < lowest_energy:\n",
    "            lowest_energy= energy_of_position\n",
    "            position_of_lowest_energy = sequence[position:position+30]\n",
    "            \n",
    "    return(position,lowest_energy)"
   ]
  },
  {
   "cell_type": "markdown",
   "metadata": {},
   "source": [
    "For RandSeq1, it will report the location of the binding site and the energy of the positon there."
   ]
  },
  {
   "cell_type": "code",
   "execution_count": 10,
   "metadata": {},
   "outputs": [
    {
     "data": {
      "text/plain": [
       "(73, -2.9115778711106644)"
      ]
     },
     "execution_count": 10,
     "metadata": {},
     "output_type": "execute_result"
    }
   ],
   "source": [
    "binding_site(RandSeq1)"
   ]
  },
  {
   "cell_type": "code",
   "execution_count": 11,
   "metadata": {},
   "outputs": [
    {
     "data": {
      "text/plain": [
       "(0, -1.8063224473818504)"
      ]
     },
     "execution_count": 11,
     "metadata": {},
     "output_type": "execute_result"
    }
   ],
   "source": [
    "binding_site(RandSeq1_trimmed)"
   ]
  },
  {
   "cell_type": "markdown",
   "metadata": {},
   "source": [
    "### firstmutation_promoter_alternate(sequence)\n",
    "\n",
    "The firstmutation_promoter_alternate(sequence) predicts the first mutation within a given promoter region through applying the principle that the base pair most likely to change will be the one that shows the greatest decrease in energy, and it will apply this mutation to yield a new sequence, the altered letter, and the change in energy. However, this characteristic is not always applicable as we must consider the greatest improvement within the **best** binding site, not the improvement itself for future cases. However, the use of displaying multiple parts of information including the letter and energy difference will be helpful for later fuctions."
   ]
  },
  {
   "cell_type": "code",
   "execution_count": 12,
   "metadata": {},
   "outputs": [],
   "source": [
    "def firstmutation_promoter_alternate(sequence):\n",
    "    \"\"\"\n",
    "    Input: \n",
    "        string, promoter region of a biological sequence (30 bp)\n",
    "    Outputs:\n",
    "        Final_sequence: the input sequence after its first mutation\n",
    "        Letter_change: the letter that the mutated sequence displays\n",
    "        Energy_difference: the difference between the change of letter and its original base pair in K_bT.\n",
    "        \"\"\"\n",
    "    #Sets best position to the first one as it will be updated later\n",
    "    #Energy difference is set to zero, it will record the highest decrease between changing a base pair's letter and its original letter\n",
    "    bestposition = 0\n",
    "    energy_difference = 0\n",
    "    \n",
    "    #The first loop sets the energy equal to a known value in the energy matrix, loops for every base pair.\n",
    "    for position,letter in enumerate(sequence):\n",
    "        energy=data.loc[position, letter]\n",
    "        \n",
    "        #Scans all the possibilities for letters within the column of the energy matrix\n",
    "        for current_letter in data.columns:\n",
    "            #Checks for the largest decrease in energy and save the location as the bestposition and letter_change for the energy with the lower energy\n",
    "            if energy_difference < (energy-data.loc[position, current_letter]):\n",
    "                energy_difference = (energy-data.loc[position, current_letter])\n",
    "                letter_change = current_letter\n",
    "                bestposition = position\n",
    "                \n",
    "    #Converts the sequence to a list to make it mutable             \n",
    "    list_sequence = list(sequence)\n",
    "    #Changes the letter for the bestposition in the list to letter_change\n",
    "    list_sequence[bestposition] = letter_change\n",
    "    #Converts the list back to a sequence\n",
    "    final_sequence = \"\".join(list_sequence)\n",
    "    return(final_sequence,letter_change,bestposition, energy_difference)\n"
   ]
  },
  {
   "cell_type": "markdown",
   "metadata": {},
   "source": [
    "This function will still operate for our example RandSeq_1 trimmed, revealing that the mutated promoter region will be"
   ]
  },
  {
   "cell_type": "code",
   "execution_count": 13,
   "metadata": {},
   "outputs": [
    {
     "data": {
      "text/plain": [
       "('CGTTCAGGTTCTGGTTCTCCATGCTATAGT', 'T', 24, 1.1052554237288137)"
      ]
     },
     "execution_count": 13,
     "metadata": {},
     "output_type": "execute_result"
    }
   ],
   "source": [
    "firstmutation_promoter_alternate(RandSeq1_trimmed)"
   ]
  },
  {
   "cell_type": "markdown",
   "metadata": {},
   "source": [
    "### firstmutation_promoter(sequence)\n",
    "The firstmutation_promoter(sequence) predicts the first mutation within a given promoter region through applying the principle that the base pair most likely to change will be the one that shows the greatest decrease in energy, and it will check instead the lowest energy of the entire sequence that is possible through that change in letter. This version aligns directly to be applied in future functions, combining the elements of the alternate through its multiple outputs."
   ]
  },
  {
   "cell_type": "code",
   "execution_count": 14,
   "metadata": {},
   "outputs": [],
   "source": [
    "\n",
    "def firstmutation_promoter(sequence):\n",
    "    \"\"\"\n",
    "    Input: \n",
    "        sequence: string, promoter region of a biological sequence (30 bp)\n",
    "    Outputs:\n",
    "        bestseq: the sequence after its first mutation\n",
    "        bestenergy: the binding energy of the sequence in k_BT\n",
    "        bestletter: the letter change that occured\n",
    "        bestposition: the location of the mutation\n",
    "        \"\"\"\n",
    "    \n",
    "    # initilaize best sequence and best energy\n",
    "    bestseq = sequence\n",
    "    bestenergy = energy(sequence)\n",
    "    \n",
    "    # loop through sequence \n",
    "    for position,letter in enumerate(sequence):\n",
    "        \n",
    "        # loop through possilbe basepairs, A, T, C and G\n",
    "        for current_letter in data.columns:\n",
    "            \n",
    "            # construct a new sequence with the mutation\n",
    "            new_seq = sequence[:position] + current_letter + sequence[position+1:]\n",
    "            \n",
    "    \n",
    "            # update best sequence and energy if needed\n",
    "            if energy(new_seq) < bestenergy:\n",
    "                bestseq = new_seq\n",
    "                bestletter = current_letter\n",
    "                bestposition = position\n",
    "                bestenergy = energy(new_seq)\n",
    "                \n",
    "    return(bestseq, bestenergy, bestletter, bestposition)"
   ]
  },
  {
   "cell_type": "markdown",
   "metadata": {},
   "source": [
    "For the example of RandSeq1_trimmed, its first mutation and binding energy after that mutation would be"
   ]
  },
  {
   "cell_type": "code",
   "execution_count": 15,
   "metadata": {},
   "outputs": [
    {
     "data": {
      "text/plain": [
       "('CGTTCAGGTTCTGGTTCTCCATGCTATAGT', -2.9115778711106644, 'T', 24)"
      ]
     },
     "execution_count": 15,
     "metadata": {},
     "output_type": "execute_result"
    }
   ],
   "source": [
    "firstmutation_promoter(RandSeq1_trimmed)"
   ]
  },
  {
   "cell_type": "markdown",
   "metadata": {},
   "source": [
    "### first_mutation(sequence)\n",
    "\n",
    "For an entire sequence, we can predict the first mutation that will occur by finding the promoter region that would have the lowest energy after implementing a single base pair change. It relies on firstmutation_promoter(sequence) to supply the comparison and change of a single base pair."
   ]
  },
  {
   "cell_type": "code",
   "execution_count": 16,
   "metadata": {},
   "outputs": [],
   "source": [
    "def first_mutation(sequence):\n",
    "    \"\"\"\n",
    "    Input: \n",
    "        sequence: a biological sequence\n",
    "    Outputs:\n",
    "        FinalSequence: the sequence that implements the promoter region with the first mutation\n",
    "        bestsequence: the outputs of the lowest binding energy region from firstmutation_promoter(sequence)\"\"\"\n",
    "    \n",
    "    #Set bestsequence equal to a zero initial value for comparison\n",
    "    bestsequence = ('0',0)\n",
    "    \n",
    "    #loop through sequence for potential promoter regions of 30 bp, stopping when not possible anymore\n",
    "    for position in range(len(sequence)-29):\n",
    "        currentmutation = firstmutation_promoter(sequence[position:position+30])\n",
    "        \n",
    "        #Checks the change in each promoter region's binding energy, selects the mutation for the final sequence with the lowest binding energy\n",
    "        if currentmutation[1] < bestsequence[1]:\n",
    "            bestsequence = currentmutation\n",
    "            finalsequence = sequence[:position] + bestsequence[0] + sequence[position+30:]\n",
    "            \n",
    "    return(finalsequence, bestsequence)"
   ]
  },
  {
   "cell_type": "code",
   "execution_count": 17,
   "metadata": {},
   "outputs": [
    {
     "data": {
      "text/plain": [
       "('ATAGGAGCGTCATCAAACGCGCCGTACAGGTTCTGGTTCTCCATGCTATAGTTAAGCCGCACAACGGGTACTACCACTCCCTGTAGTCCGCTTTACCGTTCTC',\n",
       " ('CGTACAGGTTCTGGTTCTCCATGCTATAGT', -3.924067560376202, 'A', 3))"
      ]
     },
     "execution_count": 17,
     "metadata": {},
     "output_type": "execute_result"
    }
   ],
   "source": [
    "first_mutation(RandSeq1)"
   ]
  },
  {
   "cell_type": "code",
   "execution_count": 18,
   "metadata": {},
   "outputs": [],
   "source": [
    "RandSeq3_lower = \"cgaggcgtttgacaagtactcatccactgtgggaggcgacgagagacgctgcctgcggcatttcgtgatcataatgtctgccgttaactatgaataccggccg\"\n",
    "RandSeq3 = RandSeq3_lower.upper()"
   ]
  },
  {
   "cell_type": "code",
   "execution_count": 19,
   "metadata": {},
   "outputs": [
    {
     "data": {
      "text/plain": [
       "'CGAGGCGTTTGACAAGTACTCATCCACTGTGGGAGGCGACGAGAGACGCTGCCTGCGGCATTTCGTGATCATAATGTCTGCCGTTAACTATGAATACCGGCCG'"
      ]
     },
     "execution_count": 19,
     "metadata": {},
     "output_type": "execute_result"
    }
   ],
   "source": [
    "RandSeq3"
   ]
  },
  {
   "cell_type": "code",
   "execution_count": 20,
   "metadata": {},
   "outputs": [
    {
     "data": {
      "text/plain": [
       "('CGAGGCGTTTGACAAGTACTCATCCACTGTGGGAGGCGACGAGAGACGCTGCCTGCGGCATTTCGTTATCATAATGTCTGCCGTTAACTATGAATACCGGCCG',\n",
       " ('GAGACGCTGCCTGCGGCATTTCGTTATCAT', -4.462285365186513, 'T', 24))"
      ]
     },
     "execution_count": 20,
     "metadata": {},
     "output_type": "execute_result"
    }
   ],
   "source": [
    "first_mutation(RandSeq3)"
   ]
  }
 ],
 "metadata": {
  "kernelspec": {
   "display_name": "Python 3",
   "language": "python",
   "name": "python3"
  },
  "language_info": {
   "codemirror_mode": {
    "name": "ipython",
    "version": 3
   },
   "file_extension": ".py",
   "mimetype": "text/x-python",
   "name": "python",
   "nbconvert_exporter": "python",
   "pygments_lexer": "ipython3",
   "version": "3.7.7"
  }
 },
 "nbformat": 4,
 "nbformat_minor": 4
}
