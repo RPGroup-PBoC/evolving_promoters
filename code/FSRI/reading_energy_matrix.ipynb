{
 "cells": [
  {
   "cell_type": "code",
   "execution_count": 2,
   "metadata": {},
   "outputs": [],
   "source": [
    "import pandas as pd\n",
    "import numpy as np "
   ]
  },
  {
   "cell_type": "code",
   "execution_count": 3,
   "metadata": {},
   "outputs": [
    {
     "data": {
      "text/html": [
       "<div>\n",
       "<style scoped>\n",
       "    .dataframe tbody tr th:only-of-type {\n",
       "        vertical-align: middle;\n",
       "    }\n",
       "\n",
       "    .dataframe tbody tr th {\n",
       "        vertical-align: top;\n",
       "    }\n",
       "\n",
       "    .dataframe thead th {\n",
       "        text-align: right;\n",
       "    }\n",
       "</style>\n",
       "<table border=\"1\" class=\"dataframe\">\n",
       "  <thead>\n",
       "    <tr style=\"text-align: right;\">\n",
       "      <th></th>\n",
       "      <th>A</th>\n",
       "      <th>C</th>\n",
       "      <th>G</th>\n",
       "      <th>T</th>\n",
       "    </tr>\n",
       "  </thead>\n",
       "  <tbody>\n",
       "    <tr>\n",
       "      <th>0</th>\n",
       "      <td>-0.313427</td>\n",
       "      <td>-0.198978</td>\n",
       "      <td>-0.291059</td>\n",
       "      <td>-0.237371</td>\n",
       "    </tr>\n",
       "    <tr>\n",
       "      <th>1</th>\n",
       "      <td>-0.280792</td>\n",
       "      <td>-0.092443</td>\n",
       "      <td>-0.313427</td>\n",
       "      <td>-0.117770</td>\n",
       "    </tr>\n",
       "    <tr>\n",
       "      <th>2</th>\n",
       "      <td>-0.158850</td>\n",
       "      <td>-0.196853</td>\n",
       "      <td>-0.212634</td>\n",
       "      <td>-0.313427</td>\n",
       "    </tr>\n",
       "    <tr>\n",
       "      <th>3</th>\n",
       "      <td>-0.313427</td>\n",
       "      <td>-0.179702</td>\n",
       "      <td>-0.312079</td>\n",
       "      <td>-0.184001</td>\n",
       "    </tr>\n",
       "    <tr>\n",
       "      <th>4</th>\n",
       "      <td>0.065133</td>\n",
       "      <td>-0.133555</td>\n",
       "      <td>-0.313427</td>\n",
       "      <td>0.495313</td>\n",
       "    </tr>\n",
       "  </tbody>\n",
       "</table>\n",
       "</div>"
      ],
      "text/plain": [
       "          A         C         G         T\n",
       "0 -0.313427 -0.198978 -0.291059 -0.237371\n",
       "1 -0.280792 -0.092443 -0.313427 -0.117770\n",
       "2 -0.158850 -0.196853 -0.212634 -0.313427\n",
       "3 -0.313427 -0.179702 -0.312079 -0.184001\n",
       "4  0.065133 -0.133555 -0.313427  0.495313"
      ]
     },
     "execution_count": 3,
     "metadata": {},
     "output_type": "execute_result"
    }
   ],
   "source": [
    "# read in the energy matrix\n",
    "data = pd.read_csv(\"brewster_matrixS2.txt\", sep=\" \", comment=\"#\", header=None)\n",
    "data.columns = ['A','C','G','T']\n",
    "data.head()"
   ]
  },
  {
   "cell_type": "code",
   "execution_count": 4,
   "metadata": {},
   "outputs": [],
   "source": [
    "seq = \"ATGATAGATAGATAGAATTTATATACGCTCGACCCCAGCTA\""
   ]
  },
  {
   "cell_type": "code",
   "execution_count": 5,
   "metadata": {},
   "outputs": [
    {
     "data": {
      "text/plain": [
       "-0.3134273224466267"
      ]
     },
     "execution_count": 5,
     "metadata": {},
     "output_type": "execute_result"
    }
   ],
   "source": [
    "# how to get a specific value\n",
    "data.loc[0,'A']"
   ]
  },
  {
   "cell_type": "code",
   "execution_count": 9,
   "metadata": {},
   "outputs": [],
   "source": [
    "def energy(seq1):\n",
    "    se = 0\n",
    "    for i in range(len(seq1)):\n",
    "        if seq[i]==\"A\":\n",
    "            e=data.loc[i,'A']\n",
    "        elif seq[i]==\"G\":\n",
    "            e=data.loc[i,'G']\n",
    "        elif seq[i]==\"T\":\n",
    "            e=data.loc[i,'T']\n",
    "        elif seq[i]== \"C\":\n",
    "            e=data.loc[i,'C']\n",
    "        else:\n",
    "            e=0\n",
    "        se+=e\n",
    "    return(se)"
   ]
  },
  {
   "cell_type": "code",
   "execution_count": 29,
   "metadata": {},
   "outputs": [
    {
     "data": {
      "text/plain": [
       "range(0, 41)"
      ]
     },
     "execution_count": 29,
     "metadata": {},
     "output_type": "execute_result"
    }
   ],
   "source": [
    "range(len(seq))"
   ]
  },
  {
   "cell_type": "code",
   "execution_count": 10,
   "metadata": {},
   "outputs": [
    {
     "name": "stdout",
     "output_type": "stream",
     "text": [
      "4.084190419144069\n"
     ]
    }
   ],
   "source": [
    "print(energy(seq))"
   ]
  },
  {
   "cell_type": "code",
   "execution_count": null,
   "metadata": {},
   "outputs": [],
   "source": []
  }
 ],
 "metadata": {
  "kernelspec": {
   "display_name": "Python 3",
   "language": "python",
   "name": "python3"
  },
  "language_info": {
   "codemirror_mode": {
    "name": "ipython",
    "version": 3
   },
   "file_extension": ".py",
   "mimetype": "text/x-python",
   "name": "python",
   "nbconvert_exporter": "python",
   "pygments_lexer": "ipython3",
   "version": "3.7.7"
  }
 },
 "nbformat": 4,
 "nbformat_minor": 4
}
