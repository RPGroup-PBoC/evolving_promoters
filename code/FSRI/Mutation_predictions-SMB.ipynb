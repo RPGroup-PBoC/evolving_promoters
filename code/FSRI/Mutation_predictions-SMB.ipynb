{
 "cells": [
  {
   "cell_type": "code",
   "execution_count": 16,
   "metadata": {},
   "outputs": [],
   "source": [
    "import numpy as np\n",
    "import scipy.stats"
   ]
  },
  {
   "cell_type": "code",
   "execution_count": 17,
   "metadata": {},
   "outputs": [],
   "source": [
    "RandSeq1 = \"ataggagcgtcatcaaacgcgccgttcaggttctggttctccatgccatagttaagccgcacaacgggtactaccactccctgtagtccgctttaccgttctc\".upper()"
   ]
  },
  {
   "cell_type": "code",
   "execution_count": 18,
   "metadata": {},
   "outputs": [],
   "source": [
    "def sequence_change(sequence):\n",
    "   \n",
    "    sequence_array=np.array(list(sequence))\n",
    "   \n",
    "    flip=np.random.random()\n",
    "    # 40% letter mutated is a G\n",
    "    \n",
    "    if flip<.40:\n",
    "        allpositions= list(np.where(sequence_array=='G'))\n",
    "        chosen_position=np.random.choice(allpositions[0])\n",
    "        new_letter=np.random.choice(['A','C','T'])\n",
    "        sequence = sequence[:chosen_position] + new_letter + sequence[chosen_position+1:]\n",
    "        \n",
    "    if .40<flip<.8:\n",
    "        #This is where C would go\n",
    "        #Write saying search sequences for C and choose random C\n",
    "        allpositions= list(np.where(sequence_array=='C'))\n",
    "        chosen_position=np.random.choice(allpositions[0])\n",
    "        new_letter=np.random.choice(['A','T','G'])                            \n",
    "        sequence = sequence[:chosen_position] + new_letter + sequence[chosen_position+1:]\n",
    "        sequence[chosen_position]\n",
    "        \n",
    "    if .8<flip<.9:\n",
    "        #This is where A would go\n",
    "        #Write saying search sequences for A and choose random A\n",
    "        allpositions= list(np.where(sequence_array=='A'))\n",
    "        chosen_position=np.random.choice(allpositions[0])\n",
    "        new_letter=np.random.choice(['G','C','T'])\n",
    "        sequence = sequence[:chosen_position] + new_letter + sequence[chosen_position+1:]   \n",
    "        \n",
    "    if .9 <flip<1:\n",
    "        #This is where T would go\n",
    "        #Write saying search sequences for T and choose random T\n",
    "        allpositions= list(np.where(sequence_array=='T'))\n",
    "        chosen_position=np.random.choice(allpositions[0])\n",
    "        new_letter=np.random.choice(['A','C','G'])\n",
    "        sequence = sequence[:chosen_position] + new_letter + sequence[chosen_position+1:]\n",
    "        \n",
    "    return(sequence)"
   ]
  },
  {
   "cell_type": "code",
   "execution_count": 19,
   "metadata": {},
   "outputs": [],
   "source": [
    "def mutation_dict(population, mut_rate=10**-10):\n",
    "    \"\"\"\n",
    "    Inputs:\n",
    "    population: a dictionary with sequences as the keys and the frequency as the value\n",
    "    mut_rate: per bp per replication, set to 10^-10 by default\n",
    "    \n",
    "    Output:\n",
    "    population: an updated dictionary\n",
    "    \"\"\"\n",
    "    \n",
    "    new_seqs = []\n",
    "    \n",
    "    # loop through the unique sequences in the population\n",
    "    for seq in population:\n",
    "        N = int(len(seq) * population[seq])\n",
    "        num_muts = scipy.stats.binom.rvs(N, mut_rate)\n",
    "        \n",
    "        # implement mutations\n",
    "        for _ in range(num_muts):\n",
    "            new_seqs.append(sequence_change(seq))\n",
    "            \n",
    "        # update sequence count in the population\n",
    "        population[seq] = (2*population[seq]-num_muts)\n",
    "        \n",
    "    # now add in the new sequences that have appeared as a result of mutations\n",
    "    for new_seq in new_seqs: \n",
    "        if new_seq in population:\n",
    "            population[new_seq] = population[new_seq] + 1\n",
    "        \n",
    "        else:\n",
    "            population[new_seq] = 1\n",
    "    \n",
    "    return(population)\n",
    "        "
   ]
  },
  {
   "cell_type": "code",
   "execution_count": null,
   "metadata": {},
   "outputs": [],
   "source": [
    "def growth_rate(sequnece):\n",
    "    \"\"\"\n",
    "    Input: seqeunce\n",
    "    Output: growth rate\n",
    "    \"\"\"\n",
    "    return 0.087"
   ]
  }
 ],
 "metadata": {
  "kernelspec": {
   "display_name": "Python 3",
   "language": "python",
   "name": "python3"
  },
  "language_info": {
   "codemirror_mode": {
    "name": "ipython",
    "version": 3
   },
   "file_extension": ".py",
   "mimetype": "text/x-python",
   "name": "python",
   "nbconvert_exporter": "python",
   "pygments_lexer": "ipython3",
   "version": "3.7.3"
  }
 },
 "nbformat": 4,
 "nbformat_minor": 4
}
