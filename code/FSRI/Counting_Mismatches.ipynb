{
 "cells": [
  {
   "cell_type": "markdown",
   "metadata": {},
   "source": [
    "## Finding the differences Between Two Biological Sequences\n"
   ]
  },
  {
   "cell_type": "markdown",
   "metadata": {},
   "source": [
    "To determine the difference between two biological sequences, we can employ the following function for any two strands of identical lengths and store that value for future calculations.\n",
    "\n",
    "\n",
    "Here we are defining the function miscount to tally the differences between two sequences, defined as seq1 and seq2, respectively. i will be the counter for this instance, acting as a placeholder for the iterator to occur the length of the first strand. As i progresses, it will check if two base pairs are not equivalent to each other. If that occurs, then n_m (the number of differences) will increased by one. \n",
    "\n",
    "Once i has finished repeating for all values of the first strand's base pairs, then n_m will be stored for future usage as indicated by the return(n_m)."
   ]
  },
  {
   "cell_type": "code",
   "execution_count": 45,
   "metadata": {},
   "outputs": [],
   "source": [
    "def miscount(seq1,seq2):\n",
    "    n_m=0\n",
    "    #placeholder   iterator\n",
    "    if len(seq1) == len(seq2):\n",
    "        for i in range(len(seq1)):\n",
    "            if seq1[i] != seq2[i]:\n",
    "                n_m +=1\n",
    "        return(n_m)\n",
    "    else:\n",
    "        print(\"The two sequences do not have the same number of base pairs.\")\n",
    "    "
   ]
  },
  {
   "cell_type": "markdown",
   "metadata": {},
   "source": [
    "We can test miscount(seq1,seq2) for any given sequences. Take note of the example below:"
   ]
  },
  {
   "cell_type": "code",
   "execution_count": 40,
   "metadata": {},
   "outputs": [],
   "source": [
    "Testsequence1=\"TTGTCTTTTAAATAAAGACCTGTATGAATGGCTGAATGAGGATAAACCTGTCTCTTATAACTAATCAGTG\"\n",
    "Testsequence2=\"TAGTCTTTTAAATACAGACCTGTATGAATGGCTGAATGAAGATAAACCTGTCTCTTATAACGAATCAGTG\""
   ]
  },
  {
   "cell_type": "code",
   "execution_count": 46,
   "metadata": {},
   "outputs": [
    {
     "name": "stdout",
     "output_type": "stream",
     "text": [
      "4\n"
     ]
    }
   ],
   "source": [
    "test_difference= miscount(Testsequence1,Testsequence2)\n",
    "# We will print the value to display the number of differences\n",
    "print(test_difference)"
   ]
  },
  {
   "cell_type": "markdown",
   "metadata": {},
   "source": [
    "The test sequences did indeed have four differences between them, therefore the function miscount() is operating effectively. This function is great at ensuring that the two biological sequences must have the same length before proceeding as noted by the example below."
   ]
  },
  {
   "cell_type": "code",
   "execution_count": 31,
   "metadata": {},
   "outputs": [],
   "source": [
    "ExampleSequence1=\"TTGTCTTTTAAATAAAGACCTGTATGAATGGCTGAATGAGGATAAACCTGTCTCTTCAGTG\"\n",
    "ExampleSequence2=\"TAGTCTTTTAAATACAGACCTGTATGAATGGCTGAATGAAGATAAACCTGTCTCTTATAACGAATC\""
   ]
  },
  {
   "cell_type": "code",
   "execution_count": 38,
   "metadata": {},
   "outputs": [
    {
     "name": "stdout",
     "output_type": "stream",
     "text": [
      "The two sequences do not have the same number of base pairs.\n"
     ]
    }
   ],
   "source": [
    "test_2_difference= miscount(ExampleSequence2,ExampleSequence1)\n",
    "# We will run the function for the two sequences. This should yield an error since their lengths are not equivalent to one another."
   ]
  },
  {
   "cell_type": "markdown",
   "metadata": {},
   "source": [
    "Alternatively, the function could be simplified using the zip() function. The zip function would iterate the two variables at the same time. In this instance,\n",
    "the process can be simplified since we can define bp1 as being the base pairs in the first sequence, while bp2 would represent the base pairs in the second sequence.\n",
    "\n",
    "Therefore, the condition would evaluate the two varaibles at the same time, checking for when they are not equal to each other. As in the primary version, n_m would \n",
    "increase by one when that occurs."
   ]
  },
  {
   "cell_type": "code",
   "execution_count": 1,
   "metadata": {},
   "outputs": [],
   "source": [
    "def diff_count(seq1,seq2):\n",
    "    n_m=0\n",
    "    for bp1, bp2 in zip(seq1,seq2):\n",
    "        if bp1 != bp2:\n",
    "            n_m+=1\n",
    "    return(n_m)"
   ]
  },
  {
   "cell_type": "markdown",
   "metadata": {},
   "source": [
    "We can use our test biological sequences from earlier to determine the validity of diff_count()."
   ]
  },
  {
   "cell_type": "code",
   "execution_count": 17,
   "metadata": {},
   "outputs": [
    {
     "name": "stdout",
     "output_type": "stream",
     "text": [
      "4\n"
     ]
    }
   ],
   "source": [
    "alternate_test_difference= diff_count(Testsequence1,Testsequence2)\n",
    "# We will print the value to display the number of differences.\n",
    "print(alternate_test_difference)"
   ]
  },
  {
   "cell_type": "markdown",
   "metadata": {},
   "source": [
    "Since the two values are equal, thus diff_count() also acts as an effective way of counting difference between two biological sequences. However, there is a silent error for this version since it operates even if the two sequences do not have the same length.\n",
    "\n",
    "Take the example from earlier below:"
   ]
  },
  {
   "cell_type": "code",
   "execution_count": 32,
   "metadata": {},
   "outputs": [
    {
     "name": "stdout",
     "output_type": "stream",
     "text": [
      "8\n"
     ]
    }
   ],
   "source": [
    "alternate_test_2_difference = diff_count(ExampleSequence1,ExampleSequence2)\n",
    "# We will run the function for the two sequences. This should yield a value since it counts up the length of the shortest sequence.\n",
    "print(alternate_test_2_difference)"
   ]
  },
  {
   "cell_type": "markdown",
   "metadata": {},
   "source": [
    "We can also verify this by changing the order of the two sequences with the shortest being second this time."
   ]
  },
  {
   "cell_type": "code",
   "execution_count": 33,
   "metadata": {},
   "outputs": [
    {
     "name": "stdout",
     "output_type": "stream",
     "text": [
      "8\n"
     ]
    }
   ],
   "source": [
    "alternate_test_3_difference = diff_count(ExampleSequence2,ExampleSequence1)\n",
    "# We will run the function for the two sequences. This should yield a value equivalent to the original order since it counts up the length of the shortest sequence.\n",
    "print(alternate_test_3_difference)"
   ]
  },
  {
   "cell_type": "code",
   "execution_count": null,
   "metadata": {},
   "outputs": [],
   "source": []
  }
 ],
 "metadata": {
  "kernelspec": {
   "display_name": "Python 3",
   "language": "python",
   "name": "python3"
  },
  "language_info": {
   "codemirror_mode": {
    "name": "ipython",
    "version": 3
   },
   "file_extension": ".py",
   "mimetype": "text/x-python",
   "name": "python",
   "nbconvert_exporter": "python",
   "pygments_lexer": "ipython3",
   "version": "3.7.7"
  }
 },
 "nbformat": 4,
 "nbformat_minor": 4
}
