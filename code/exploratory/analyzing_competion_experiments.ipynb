{
 "cells": [
  {
   "cell_type": "code",
   "execution_count": 54,
   "metadata": {},
   "outputs": [],
   "source": [
    "import numpy as np\n",
    "import scipy.optimize\n",
    "import pandas as pd \n",
    "\n",
    "import matplotlib.pyplot as plt\n",
    "import seaborn as sns\n",
    "sns.set()"
   ]
  },
  {
   "cell_type": "code",
   "execution_count": 55,
   "metadata": {},
   "outputs": [],
   "source": [
    "# load in the data\n",
    "data = pd.read_csv(\"../../data/competition_experiments/20200218_wt_v_delta.csv\")"
   ]
  },
  {
   "cell_type": "code",
   "execution_count": 56,
   "metadata": {},
   "outputs": [
    {
     "data": {
      "text/html": [
       "<div>\n",
       "<style scoped>\n",
       "    .dataframe tbody tr th:only-of-type {\n",
       "        vertical-align: middle;\n",
       "    }\n",
       "\n",
       "    .dataframe tbody tr th {\n",
       "        vertical-align: top;\n",
       "    }\n",
       "\n",
       "    .dataframe thead th {\n",
       "        text-align: right;\n",
       "    }\n",
       "</style>\n",
       "<table border=\"1\" class=\"dataframe\">\n",
       "  <thead>\n",
       "    <tr style=\"text-align: right;\">\n",
       "      <th></th>\n",
       "      <th>time (hr)</th>\n",
       "      <th>time (min)</th>\n",
       "      <th>time since start (min)</th>\n",
       "      <th>number of wildtype colonies</th>\n",
       "      <th>number of delta colonies</th>\n",
       "      <th>dilution factor</th>\n",
       "      <th>µL plated</th>\n",
       "      <th>wildtype / mL</th>\n",
       "      <th>delta / mL</th>\n",
       "    </tr>\n",
       "  </thead>\n",
       "  <tbody>\n",
       "    <tr>\n",
       "      <th>0</th>\n",
       "      <td>11</td>\n",
       "      <td>10</td>\n",
       "      <td>0</td>\n",
       "      <td>178</td>\n",
       "      <td>101</td>\n",
       "      <td>10</td>\n",
       "      <td>100</td>\n",
       "      <td>17800</td>\n",
       "      <td>10100</td>\n",
       "    </tr>\n",
       "    <tr>\n",
       "      <th>1</th>\n",
       "      <td>12</td>\n",
       "      <td>20</td>\n",
       "      <td>70</td>\n",
       "      <td>116</td>\n",
       "      <td>83</td>\n",
       "      <td>10</td>\n",
       "      <td>100</td>\n",
       "      <td>11600</td>\n",
       "      <td>8300</td>\n",
       "    </tr>\n",
       "    <tr>\n",
       "      <th>2</th>\n",
       "      <td>13</td>\n",
       "      <td>10</td>\n",
       "      <td>120</td>\n",
       "      <td>142</td>\n",
       "      <td>99</td>\n",
       "      <td>10</td>\n",
       "      <td>100</td>\n",
       "      <td>14200</td>\n",
       "      <td>9900</td>\n",
       "    </tr>\n",
       "    <tr>\n",
       "      <th>3</th>\n",
       "      <td>14</td>\n",
       "      <td>10</td>\n",
       "      <td>180</td>\n",
       "      <td>159</td>\n",
       "      <td>85</td>\n",
       "      <td>10</td>\n",
       "      <td>100</td>\n",
       "      <td>15900</td>\n",
       "      <td>8500</td>\n",
       "    </tr>\n",
       "    <tr>\n",
       "      <th>4</th>\n",
       "      <td>15</td>\n",
       "      <td>10</td>\n",
       "      <td>240</td>\n",
       "      <td>22</td>\n",
       "      <td>9</td>\n",
       "      <td>100</td>\n",
       "      <td>100</td>\n",
       "      <td>22000</td>\n",
       "      <td>9000</td>\n",
       "    </tr>\n",
       "    <tr>\n",
       "      <th>5</th>\n",
       "      <td>17</td>\n",
       "      <td>0</td>\n",
       "      <td>350</td>\n",
       "      <td>37</td>\n",
       "      <td>9</td>\n",
       "      <td>100</td>\n",
       "      <td>100</td>\n",
       "      <td>37000</td>\n",
       "      <td>9000</td>\n",
       "    </tr>\n",
       "    <tr>\n",
       "      <th>6</th>\n",
       "      <td>18</td>\n",
       "      <td>0</td>\n",
       "      <td>410</td>\n",
       "      <td>185</td>\n",
       "      <td>47</td>\n",
       "      <td>100</td>\n",
       "      <td>100</td>\n",
       "      <td>185000</td>\n",
       "      <td>47000</td>\n",
       "    </tr>\n",
       "    <tr>\n",
       "      <th>8</th>\n",
       "      <td>20</td>\n",
       "      <td>45</td>\n",
       "      <td>575</td>\n",
       "      <td>52</td>\n",
       "      <td>18</td>\n",
       "      <td>1000</td>\n",
       "      <td>100</td>\n",
       "      <td>520000</td>\n",
       "      <td>180000</td>\n",
       "    </tr>\n",
       "    <tr>\n",
       "      <th>9</th>\n",
       "      <td>22</td>\n",
       "      <td>45</td>\n",
       "      <td>695</td>\n",
       "      <td>224</td>\n",
       "      <td>43</td>\n",
       "      <td>1000</td>\n",
       "      <td>100</td>\n",
       "      <td>2240000</td>\n",
       "      <td>430000</td>\n",
       "    </tr>\n",
       "  </tbody>\n",
       "</table>\n",
       "</div>"
      ],
      "text/plain": [
       "   time (hr)  time (min)  time since start (min)  number of wildtype colonies  \\\n",
       "0         11          10                       0                          178   \n",
       "1         12          20                      70                          116   \n",
       "2         13          10                     120                          142   \n",
       "3         14          10                     180                          159   \n",
       "4         15          10                     240                           22   \n",
       "5         17           0                     350                           37   \n",
       "6         18           0                     410                          185   \n",
       "8         20          45                     575                           52   \n",
       "9         22          45                     695                          224   \n",
       "\n",
       "   number of delta colonies  dilution factor  µL plated  wildtype / mL  \\\n",
       "0                       101               10        100          17800   \n",
       "1                        83               10        100          11600   \n",
       "2                        99               10        100          14200   \n",
       "3                        85               10        100          15900   \n",
       "4                         9              100        100          22000   \n",
       "5                         9              100        100          37000   \n",
       "6                        47              100        100         185000   \n",
       "8                        18             1000        100         520000   \n",
       "9                        43             1000        100        2240000   \n",
       "\n",
       "   delta / mL  \n",
       "0       10100  \n",
       "1        8300  \n",
       "2        9900  \n",
       "3        8500  \n",
       "4        9000  \n",
       "5        9000  \n",
       "6       47000  \n",
       "8      180000  \n",
       "9      430000  "
      ]
     },
     "execution_count": 56,
     "metadata": {},
     "output_type": "execute_result"
    }
   ],
   "source": [
    "# remove spurious data point\n",
    "data_trimmed = data[data[\"time (hr)\"] != 19]\n",
    "data_trimmed"
   ]
  },
  {
   "cell_type": "code",
   "execution_count": 57,
   "metadata": {},
   "outputs": [
    {
     "data": {
      "text/plain": [
       "<matplotlib.legend.Legend at 0x1a219a1940>"
      ]
     },
     "execution_count": 57,
     "metadata": {},
     "output_type": "execute_result"
    },
    {
     "data": {
      "image/png": "[encoded data removed]",
      "text/plain": [
       "<Figure size 432x288 with 1 Axes>"
      ]
     },
     "metadata": {},
     "output_type": "display_data"
    }
   ],
   "source": [
    "# plot\n",
    "times = data_trimmed[\"time since start (min)\"]\n",
    "N_wildtype = data_trimmed[\"wildtype / mL\"]\n",
    "N_delta = data_trimmed[\"delta / mL\"]\n",
    "\n",
    "plt.semilogy(times, N_wildtype, '.')\n",
    "plt.semilogy(times, N_delta, '.')\n",
    "plt.xlabel(\"time (min)\")\n",
    "plt.ylabel(\"cells / mL\")\n",
    "plt.legend([\"wildtype\", \"∆lac\"])"
   ]
  },
  {
   "cell_type": "code",
   "execution_count": 58,
   "metadata": {},
   "outputs": [],
   "source": [
    "def exp_growth(times, N_0, r, t_thresh):\n",
    "    \"\"\" exponential growth with time points t, initial population size N_0, \n",
    "    and growth rate r \"\"\"\n",
    "    \n",
    "    N = np.zeros(len(times))\n",
    "    \n",
    "    for i, t in enumerate(times):\n",
    "        if t < t_thresh:\n",
    "            N[i] = N_0\n",
    "            \n",
    "        else:\n",
    "            N[i] = N_0 * np.exp((t-t_thresh)*r)\n",
    "            \n",
    "    return N"
   ]
  },
  {
   "cell_type": "code",
   "execution_count": 59,
   "metadata": {},
   "outputs": [
    {
     "data": {
      "text/plain": [
       "array([ 1000.        ,  1000.        ,  1000.        ,  1000.        ,\n",
       "        1221.40275816,  2117.00001661,  2857.65111806,  6520.81912033,\n",
       "       11881.7071131 ])"
      ]
     },
     "execution_count": 59,
     "metadata": {},
     "output_type": "execute_result"
    }
   ],
   "source": [
    "exp_growth(times, 1000, 0.005, 200)"
   ]
  },
  {
   "cell_type": "code",
   "execution_count": 60,
   "metadata": {},
   "outputs": [],
   "source": [
    "# optimize growth curve\n",
    "# bounds on N_O: 1000 to 100,000\n",
    "# bound on r: 0.001 to 0.1 (per min)\n",
    "popt_wt, pcov_wt = scipy.optimize.curve_fit(exp_growth, times, N_wildtype, \n",
    "                                      bounds=([1000, 0.001, 0], [100000, 0.1, 700]))\n",
    "\n",
    "popt_delta, pcov_delta = scipy.optimize.curve_fit(exp_growth, times, N_delta, \n",
    "                                      bounds=([1000, 0.001, 0], [100000, 0.1, 700]))"
   ]
  },
  {
   "cell_type": "code",
   "execution_count": 65,
   "metadata": {},
   "outputs": [
    {
     "data": {
      "text/plain": [
       "Text(0, 0.5, 'cells / mL')"
      ]
     },
     "execution_count": 65,
     "metadata": {},
     "output_type": "execute_result"
    },
    {
     "data": {
      "image/png": "[encoded data removed]",
      "text/plain": [
       "<Figure size 432x288 with 1 Axes>"
      ]
     },
     "metadata": {},
     "output_type": "display_data"
    }
   ],
   "source": [
    "# plot data \n",
    "plt.semilogy(times, N_wildtype, '.')\n",
    "plt.semilogy(times, N_delta, '.')\n",
    "plt.legend([\"wildtype\", \"∆lac\"])\n",
    "\n",
    "time_range = np.linspace(0, 700, 200)\n",
    "\n",
    "# plot fits\n",
    "plt.semilogy(time_range, exp_growth(time_range, *popt_wt), color=\"blue\")\n",
    "plt.semilogy(time_range, exp_growth(time_range, *popt_delta), color=\"orange\")\n",
    "plt.xlabel(\"time (min)\")\n",
    "plt.ylabel(\"cells / mL\")"
   ]
  },
  {
   "cell_type": "raw",
   "metadata": {},
   "source": []
  },
  {
   "cell_type": "code",
   "execution_count": null,
   "metadata": {},
   "outputs": [],
   "source": []
  }
 ],
 "metadata": {
  "kernelspec": {
   "display_name": "Python 3",
   "language": "python",
   "name": "python3"
  },
  "language_info": {
   "codemirror_mode": {
    "name": "ipython",
    "version": 3
   },
   "file_extension": ".py",
   "mimetype": "text/x-python",
   "name": "python",
   "nbconvert_exporter": "python",
   "pygments_lexer": "ipython3",
   "version": "3.7.3"
  }
 },
 "nbformat": 4,
 "nbformat_minor": 2
}
