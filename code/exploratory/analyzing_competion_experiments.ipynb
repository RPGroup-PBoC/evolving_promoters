{
 "cells": [
  {
   "cell_type": "code",
   "execution_count": 2,
   "metadata": {},
   "outputs": [],
   "source": [
    "import numpy as np\n",
    "import scipy.optimize\n",
    "import pandas as pd \n",
    "\n",
    "import matplotlib.pyplot as plt\n",
    "import seaborn as sns\n",
    "sns.set()"
   ]
  },
  {
   "cell_type": "markdown",
   "metadata": {},
   "source": [
    "## Read in data and plot"
   ]
  },
  {
   "cell_type": "code",
   "execution_count": 18,
   "metadata": {},
   "outputs": [
    {
     "data": {
      "text/html": [
       "<div>\n",
       "<style scoped>\n",
       "    .dataframe tbody tr th:only-of-type {\n",
       "        vertical-align: middle;\n",
       "    }\n",
       "\n",
       "    .dataframe tbody tr th {\n",
       "        vertical-align: top;\n",
       "    }\n",
       "\n",
       "    .dataframe thead th {\n",
       "        text-align: right;\n",
       "    }\n",
       "</style>\n",
       "<table border=\"1\" class=\"dataframe\">\n",
       "  <thead>\n",
       "    <tr style=\"text-align: right;\">\n",
       "      <th></th>\n",
       "      <th>group name</th>\n",
       "      <th>group number</th>\n",
       "      <th>time (hr)</th>\n",
       "      <th>time (min)</th>\n",
       "      <th>time since start (min)</th>\n",
       "      <th>dilution factor</th>\n",
       "      <th>µL plated</th>\n",
       "      <th>number of wildtype colonies</th>\n",
       "      <th>number of delta colonies</th>\n",
       "      <th>wildtype / mL</th>\n",
       "      <th>delta / mL</th>\n",
       "      <th>ratio</th>\n",
       "    </tr>\n",
       "  </thead>\n",
       "  <tbody>\n",
       "    <tr>\n",
       "      <th>0</th>\n",
       "      <td>Suzy</td>\n",
       "      <td>1</td>\n",
       "      <td>10</td>\n",
       "      <td>30</td>\n",
       "      <td>0</td>\n",
       "      <td>10</td>\n",
       "      <td>100</td>\n",
       "      <td>87</td>\n",
       "      <td>106</td>\n",
       "      <td>8700</td>\n",
       "      <td>10600</td>\n",
       "      <td>0.820755</td>\n",
       "    </tr>\n",
       "    <tr>\n",
       "      <th>1</th>\n",
       "      <td>Group4</td>\n",
       "      <td>2</td>\n",
       "      <td>10</td>\n",
       "      <td>30</td>\n",
       "      <td>0</td>\n",
       "      <td>10</td>\n",
       "      <td>100</td>\n",
       "      <td>98</td>\n",
       "      <td>110</td>\n",
       "      <td>9800</td>\n",
       "      <td>11000</td>\n",
       "      <td>0.890909</td>\n",
       "    </tr>\n",
       "    <tr>\n",
       "      <th>2</th>\n",
       "      <td>Group4</td>\n",
       "      <td>2</td>\n",
       "      <td>11</td>\n",
       "      <td>45</td>\n",
       "      <td>75</td>\n",
       "      <td>10</td>\n",
       "      <td>100</td>\n",
       "      <td>46</td>\n",
       "      <td>42</td>\n",
       "      <td>4600</td>\n",
       "      <td>4200</td>\n",
       "      <td>1.095238</td>\n",
       "    </tr>\n",
       "    <tr>\n",
       "      <th>3</th>\n",
       "      <td>Group4</td>\n",
       "      <td>2</td>\n",
       "      <td>12</td>\n",
       "      <td>30</td>\n",
       "      <td>120</td>\n",
       "      <td>10</td>\n",
       "      <td>100</td>\n",
       "      <td>88</td>\n",
       "      <td>107</td>\n",
       "      <td>8800</td>\n",
       "      <td>10700</td>\n",
       "      <td>0.822430</td>\n",
       "    </tr>\n",
       "    <tr>\n",
       "      <th>4</th>\n",
       "      <td>Group4</td>\n",
       "      <td>2</td>\n",
       "      <td>13</td>\n",
       "      <td>30</td>\n",
       "      <td>180</td>\n",
       "      <td>10</td>\n",
       "      <td>100</td>\n",
       "      <td>37</td>\n",
       "      <td>21</td>\n",
       "      <td>3700</td>\n",
       "      <td>2100</td>\n",
       "      <td>1.761905</td>\n",
       "    </tr>\n",
       "  </tbody>\n",
       "</table>\n",
       "</div>"
      ],
      "text/plain": [
       "  group name  group number  time (hr)  time (min)  time since start (min)  \\\n",
       "0       Suzy             1         10          30                       0   \n",
       "1     Group4             2         10          30                       0   \n",
       "2     Group4             2         11          45                      75   \n",
       "3     Group4             2         12          30                     120   \n",
       "4     Group4             2         13          30                     180   \n",
       "\n",
       "   dilution factor  µL plated  number of wildtype colonies  \\\n",
       "0               10        100                           87   \n",
       "1               10        100                           98   \n",
       "2               10        100                           46   \n",
       "3               10        100                           88   \n",
       "4               10        100                           37   \n",
       "\n",
       "   number of delta colonies  wildtype / mL  delta / mL     ratio  \n",
       "0                       106           8700       10600  0.820755  \n",
       "1                       110           9800       11000  0.890909  \n",
       "2                        42           4600        4200  1.095238  \n",
       "3                       107           8800       10700  0.822430  \n",
       "4                        21           3700        2100  1.761905  "
      ]
     },
     "execution_count": 18,
     "metadata": {},
     "output_type": "execute_result"
    }
   ],
   "source": [
    "# load in the data\n",
    "data = pd.read_csv(\"../../data/colony_counting_20200225.csv\")\n",
    "data[\"ratio\"] = data[\"wildtype / mL\"] / data[\"delta / mL\"]\n",
    "data.head()"
   ]
  },
  {
   "cell_type": "code",
   "execution_count": 27,
   "metadata": {},
   "outputs": [
    {
     "data": {
      "image/png": "[encoded data removed]",
      "text/plain": [
       "<Figure size 432x288 with 1 Axes>"
      ]
     },
     "metadata": {},
     "output_type": "display_data"
    }
   ],
   "source": [
    "# plot\n",
    "times = data[\"time since start (min)\"]\n",
    "N_wildtype = data[\"wildtype / mL\"]\n",
    "N_delta = data[\"delta / mL\"]\n",
    "\n",
    "plt.plot(times, N_wildtype, 'r.')\n",
    "plt.plot(times, N_delta, 'b.')\n",
    "plt.xlabel(\"time (min)\")\n",
    "plt.ylabel(\"cells / mL\")\n",
    "plt.legend([\"wildtype\", \"∆lac\"]);"
   ]
  },
  {
   "cell_type": "code",
   "execution_count": 28,
   "metadata": {},
   "outputs": [
    {
     "data": {
      "image/png": "[encoded data removed]",
      "text/plain": [
       "<Figure size 432x288 with 1 Axes>"
      ]
     },
     "metadata": {},
     "output_type": "display_data"
    }
   ],
   "source": [
    "plt.plot(times, data[\"ratio\"], 'r.')\n",
    "plt.xlabel(\"time (min)\")\n",
    "plt.ylabel(\"ratio wt / delta\");"
   ]
  },
  {
   "cell_type": "markdown",
   "metadata": {},
   "source": [
    "As we saw by eye, the wildtype strain takes over. "
   ]
  },
  {
   "cell_type": "code",
   "execution_count": 33,
   "metadata": {},
   "outputs": [],
   "source": [
    "def exp_curve(times, A, b):\n",
    "    \n",
    "    return A * np.exp(b*times)"
   ]
  },
  {
   "cell_type": "code",
   "execution_count": 34,
   "metadata": {},
   "outputs": [],
   "source": [
    "popt_ratio, _ = scipy.optimize.curve_fit(exp_curve, \n",
    "                                                  data[\"time since start (min)\"], \n",
    "                                                  data[\"ratio\"],\n",
    "                                                  bounds=([0.01, 1/1000], [2, 1/10]))"
   ]
  },
  {
   "cell_type": "code",
   "execution_count": 35,
   "metadata": {},
   "outputs": [
    {
     "data": {
      "text/plain": [
       "array([0.60192408, 0.00293403])"
      ]
     },
     "execution_count": 35,
     "metadata": {},
     "output_type": "execute_result"
    }
   ],
   "source": [
    "popt_ratio"
   ]
  },
  {
   "cell_type": "code",
   "execution_count": 36,
   "metadata": {},
   "outputs": [
    {
     "data": {
      "image/png": "[encoded data removed]",
      "text/plain": [
       "<Figure size 432x288 with 1 Axes>"
      ]
     },
     "metadata": {},
     "output_type": "display_data"
    }
   ],
   "source": [
    "# plot data \n",
    "plt.plot(data[\"time since start (min)\"], data[\"ratio\"], 'r.')\n",
    "\n",
    "time_range = np.linspace(0, 700, 200)\n",
    "\n",
    "# plot fits\n",
    "plt.plot(time_range, exp_curve(time_range, *popt_ratio), color=\"red\")\n",
    "plt.xlabel(\"time (min)\")\n",
    "plt.ylabel(\"ratio wt / detla\");"
   ]
  },
  {
   "cell_type": "code",
   "execution_count": null,
   "metadata": {},
   "outputs": [],
   "source": []
  },
  {
   "cell_type": "code",
   "execution_count": null,
   "metadata": {},
   "outputs": [],
   "source": []
  },
  {
   "cell_type": "markdown",
   "metadata": {},
   "source": [
    "## Fit a \"bespoke\" growth curve\n",
    "\n",
    "This is a somewhat ad hoc definition of a growth curve, but we define it such that the population is of size $N_0$ until some time threshhold is passed, at which point it begins growing exponentially. "
   ]
  },
  {
   "cell_type": "code",
   "execution_count": null,
   "metadata": {},
   "outputs": [],
   "source": [
    "def exp_growth(times, N_0, r, t_thresh):\n",
    "    \"\"\" exponential growth with time points t, initial population size N_0, \n",
    "    and growth rate r \"\"\"\n",
    "    \n",
    "    N = np.zeros(len(times))\n",
    "    \n",
    "    for i, t in enumerate(times):\n",
    "        \n",
    "        # lag phase \n",
    "        if t < t_thresh:\n",
    "            N[i] = N_0\n",
    "            \n",
    "        # exponetial phase    \n",
    "        else:\n",
    "            N[i] = N_0 * np.exp((t-t_thresh)*r)\n",
    "            \n",
    "    return N"
   ]
  },
  {
   "cell_type": "markdown",
   "metadata": {},
   "source": [
    "Let's put some pretty generous bounds on all the parameters and use scipy.optimize as a first pass. "
   ]
  },
  {
   "cell_type": "code",
   "execution_count": null,
   "metadata": {},
   "outputs": [],
   "source": [
    "# optimize growth curve\n",
    "# bounds on N_O: 1000 to 100,000\n",
    "# bound on r: 0.001 to 0.1 (per min)\n",
    "# bount on t_thresh: 0 to 700\n",
    "popt_wt, pcov_wt = scipy.optimize.curve_fit(exp_growth, times, N_wildtype, \n",
    "                                      bounds=([1000, 0.001, 0], [100000, 0.1, 700]))\n",
    "\n",
    "popt_delta, pcov_delta = scipy.optimize.curve_fit(exp_growth, times, N_delta, \n",
    "                                      bounds=([1000, 0.001, 0], [100000, 0.1, 700]))"
   ]
  },
  {
   "cell_type": "code",
   "execution_count": null,
   "metadata": {},
   "outputs": [],
   "source": []
  },
  {
   "cell_type": "code",
   "execution_count": null,
   "metadata": {},
   "outputs": [],
   "source": [
    "# plot data \n",
    "plt.plot(times, N_wildtype, 'r.')\n",
    "plt.plot(times, N_delta, 'b.')\n",
    "plt.legend([\"wildtype\", \"∆lac\"])\n",
    "\n",
    "time_range = np.linspace(0, 700, 200)\n",
    "\n",
    "# plot fits\n",
    "plt.plot(time_range, exp_growth(time_range, *popt_wt), color=\"red\")\n",
    "plt.plot(time_range, exp_growth(time_range, *popt_delta), color=\"blue\")\n",
    "plt.xlabel(\"time (min)\")\n",
    "plt.ylabel(\"cells / mL\");"
   ]
  },
  {
   "cell_type": "code",
   "execution_count": null,
   "metadata": {},
   "outputs": [],
   "source": [
    "print(\"wt N_0:\", np.round(popt_wt[0]))\n",
    "print(\"delta N_0:\", np.round(popt_delta[0]))\n",
    "print()\n",
    "print(\"wt lag time (min):\", np.round(popt_wt[2]))\n",
    "print(\"delta lag time (min):\", np.round(popt_delta[2]))\n",
    "print()\n",
    "print(\"wt growth rate (per min):\", np.round(popt_wt[1], 5))\n",
    "print(\"delta growth rate (per min):\", np.round(popt_delta[1], 5))\n",
    "print()"
   ]
  },
  {
   "cell_type": "markdown",
   "metadata": {},
   "source": [
    "By eye, this looks pretty good! "
   ]
  },
  {
   "cell_type": "markdown",
   "metadata": {},
   "source": [
    "## Let's conisder the data log normally distributed\n",
    "\n",
    "When we plot on a log scale, we see that the fits are very strongly influenced by the later time points. We would like to have this not be the case, so we should take the log of the data. "
   ]
  },
  {
   "cell_type": "code",
   "execution_count": null,
   "metadata": {},
   "outputs": [],
   "source": [
    "# plot data \n",
    "plt.semilogy(times, N_wildtype, 'r.')\n",
    "plt.semilogy(times, N_delta, 'b.')\n",
    "plt.legend([\"wildtype\", \"∆lac\"])\n",
    "\n",
    "time_range = np.linspace(0, 700, 200)\n",
    "\n",
    "# plot fits\n",
    "plt.plot(time_range, exp_growth(time_range, *popt_wt), color=\"red\")\n",
    "plt.plot(time_range, exp_growth(time_range, *popt_delta), color=\"blue\")\n",
    "plt.xlabel(\"time (min)\")\n",
    "plt.ylabel(\"cells / mL\");"
   ]
  },
  {
   "cell_type": "markdown",
   "metadata": {},
   "source": [
    "Let's first plot the log of the data."
   ]
  },
  {
   "cell_type": "code",
   "execution_count": null,
   "metadata": {},
   "outputs": [],
   "source": [
    "# plot\n",
    "times = data_trimmed[\"time since start (min)\"]\n",
    "N_wildtype = data_trimmed[\"wildtype / mL\"]\n",
    "N_delta = data_trimmed[\"delta / mL\"]\n",
    "\n",
    "plt.plot(times, np.log(N_wildtype), 'r.')\n",
    "plt.plot(times, np.log(N_delta), 'b.')\n",
    "plt.xlabel(\"time (min)\")\n",
    "plt.ylabel(\"log cells / mL\")\n",
    "plt.legend([\"wildtype\", \"∆lac\"]);"
   ]
  },
  {
   "cell_type": "markdown",
   "metadata": {},
   "source": [
    "Let's update our exponential growth function for the logarithmic data. "
   ]
  },
  {
   "cell_type": "code",
   "execution_count": null,
   "metadata": {},
   "outputs": [],
   "source": [
    "def exp_growth_in_log(times, N_0, r, t_thresh):\n",
    "    \"\"\" exponential growth with time points t, initial population size N_0, \n",
    "    and growth rate r \"\"\"\n",
    "    \n",
    "    N = np.zeros(len(times))\n",
    "    \n",
    "    for i, t in enumerate(times):\n",
    "        \n",
    "        # lag phase \n",
    "        if t < t_thresh:\n",
    "            N[i] = N_0\n",
    "            \n",
    "        # exponetial phase    \n",
    "        else:\n",
    "            N[i] = N_0 + (t-t_thresh)*r\n",
    "            \n",
    "    return N"
   ]
  },
  {
   "cell_type": "markdown",
   "metadata": {},
   "source": [
    "Now let's optimize in log (with our log function and our log data)."
   ]
  },
  {
   "cell_type": "code",
   "execution_count": null,
   "metadata": {},
   "outputs": [],
   "source": [
    "# optimize growth curve\n",
    "# bounds on N_O: 8 to 11\n",
    "# bound on r: 0.001 to 0.1 (per min)\n",
    "# bount on t_thresh: 0 to 700\n",
    "popt_wt, pcov_wt = scipy.optimize.curve_fit(exp_growth_in_log, times, np.log(N_wildtype), \n",
    "                                      bounds=([8, 0.001, 0], [11, 0.1, 700]))\n",
    "\n",
    "popt_delta, pcov_delta = scipy.optimize.curve_fit(exp_growth_in_log, times, np.log(N_delta), \n",
    "                                      bounds=([8, 0.001, 0], [11, 0.1, 700]))"
   ]
  },
  {
   "cell_type": "code",
   "execution_count": null,
   "metadata": {},
   "outputs": [],
   "source": [
    "print(\"wt N_0:\", np.round(popt_wt[0], 1))\n",
    "print(\"delta N_0:\", np.round(popt_delta[0],1))\n",
    "print()\n",
    "print(\"wt lag time (min):\", np.round(popt_wt[2]))\n",
    "print(\"delta lag time (min):\", np.round(popt_delta[2]))\n",
    "print()\n",
    "print(\"wt growth rate (per min):\", np.round(popt_wt[1], 5))\n",
    "print(\"delta growth rate (per min):\", np.round(popt_delta[1], 5))\n",
    "print()"
   ]
  },
  {
   "cell_type": "code",
   "execution_count": null,
   "metadata": {},
   "outputs": [],
   "source": [
    "# plot data \n",
    "plt.plot(times, np.log(N_wildtype), 'r.')\n",
    "plt.plot(times, np.log(N_delta), 'b.')\n",
    "plt.legend([\"wildtype\", \"∆lac\"])\n",
    "\n",
    "time_range = np.linspace(0, 700, 200)\n",
    "\n",
    "# plot fits\n",
    "plt.plot(time_range, exp_growth_in_log(time_range, *popt_wt), color=\"red\")\n",
    "plt.plot(time_range, exp_growth_in_log(time_range, *popt_delta), color=\"blue\")\n",
    "plt.xlabel(\"time (min)\")\n",
    "plt.ylabel(\"log cells / mL\");"
   ]
  },
  {
   "cell_type": "markdown",
   "metadata": {},
   "source": [
    "When accounting for the data being logarithmically distributed, the lag phase for delta is much longer, but the growth rates are the same! "
   ]
  },
  {
   "cell_type": "markdown",
   "metadata": {},
   "source": [
    "## Working with ratios rather than counts"
   ]
  },
  {
   "cell_type": "code",
   "execution_count": null,
   "metadata": {},
   "outputs": [],
   "source": [
    "plt.plot(data[\"time since start (min)\"], data[\"ratio\"], '.')\n",
    "plt.xlabel(\"time (min)\")\n",
    "plt.ylabel(\"wt / delta\");"
   ]
  },
  {
   "cell_type": "markdown",
   "metadata": {},
   "source": [
    "Oof. There is not a clear trend here. "
   ]
  },
  {
   "cell_type": "code",
   "execution_count": null,
   "metadata": {},
   "outputs": [],
   "source": [
    "# mutation arising\n",
    "wt_mock = 0.0001 * np.exp(np.arange(1000)*0.45)\n",
    "delta_mock = 0.9999 * np.exp(np.arange(1000)*0.4)"
   ]
  },
  {
   "cell_type": "code",
   "execution_count": null,
   "metadata": {},
   "outputs": [],
   "source": [
    "# 50/50 mix\n",
    "wt_mock = np.exp(np.arange(100)*0.45)\n",
    "delta_mock = np.exp(np.arange(100)*0.4)"
   ]
  },
  {
   "cell_type": "markdown",
   "metadata": {},
   "source": [
    "Ratio of wt to delta scales exponentially. "
   ]
  },
  {
   "cell_type": "code",
   "execution_count": null,
   "metadata": {},
   "outputs": [],
   "source": [
    "plt.plot(wt_mock / delta_mock, '.')"
   ]
  },
  {
   "cell_type": "code",
   "execution_count": null,
   "metadata": {},
   "outputs": [],
   "source": [
    "plt.plot(wt_mock / (wt_mock + delta_mock), '.')\n",
    "plt.plot(delta_mock / (wt_mock + delta_mock), '.')"
   ]
  },
  {
   "cell_type": "code",
   "execution_count": null,
   "metadata": {},
   "outputs": [],
   "source": []
  },
  {
   "cell_type": "code",
   "execution_count": null,
   "metadata": {},
   "outputs": [],
   "source": []
  }
 ],
 "metadata": {
  "kernelspec": {
   "display_name": "Python 3",
   "language": "python",
   "name": "python3"
  },
  "language_info": {
   "codemirror_mode": {
    "name": "ipython",
    "version": 3
   },
   "file_extension": ".py",
   "mimetype": "text/x-python",
   "name": "python",
   "nbconvert_exporter": "python",
   "pygments_lexer": "ipython3",
   "version": "3.7.3"
  }
 },
 "nbformat": 4,
 "nbformat_minor": 2
}
