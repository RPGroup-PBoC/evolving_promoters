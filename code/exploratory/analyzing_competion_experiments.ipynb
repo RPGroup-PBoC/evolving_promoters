{
 "cells": [
  {
   "cell_type": "code",
   "execution_count": 1,
   "metadata": {},
   "outputs": [],
   "source": [
    "import numpy as np\n",
    "import scipy.optimize\n",
    "import pandas as pd \n",
    "\n",
    "import matplotlib.pyplot as plt\n",
    "import seaborn as sns\n",
    "sns.set()"
   ]
  },
  {
   "cell_type": "markdown",
   "metadata": {},
   "source": [
    "## Read in data and plot"
   ]
  },
  {
   "cell_type": "code",
   "execution_count": 2,
   "metadata": {},
   "outputs": [],
   "source": [
    "# load in the data\n",
    "data = pd.read_csv(\"../../data/competition_experiments/plate_colony_data/20200218_wt_v_delta.csv\")"
   ]
  },
  {
   "cell_type": "code",
   "execution_count": 3,
   "metadata": {},
   "outputs": [
    {
     "data": {
      "text/html": [
       "<div>\n",
       "<style scoped>\n",
       "    .dataframe tbody tr th:only-of-type {\n",
       "        vertical-align: middle;\n",
       "    }\n",
       "\n",
       "    .dataframe tbody tr th {\n",
       "        vertical-align: top;\n",
       "    }\n",
       "\n",
       "    .dataframe thead th {\n",
       "        text-align: right;\n",
       "    }\n",
       "</style>\n",
       "<table border=\"1\" class=\"dataframe\">\n",
       "  <thead>\n",
       "    <tr style=\"text-align: right;\">\n",
       "      <th></th>\n",
       "      <th>time (hr)</th>\n",
       "      <th>time (min)</th>\n",
       "      <th>time since start (min)</th>\n",
       "      <th>number of wildtype colonies</th>\n",
       "      <th>number of delta colonies</th>\n",
       "      <th>dilution factor</th>\n",
       "      <th>µL plated</th>\n",
       "      <th>wildtype / mL</th>\n",
       "      <th>delta / mL</th>\n",
       "    </tr>\n",
       "  </thead>\n",
       "  <tbody>\n",
       "    <tr>\n",
       "      <th>0</th>\n",
       "      <td>11</td>\n",
       "      <td>10</td>\n",
       "      <td>0</td>\n",
       "      <td>178</td>\n",
       "      <td>101</td>\n",
       "      <td>10</td>\n",
       "      <td>100</td>\n",
       "      <td>17800</td>\n",
       "      <td>10100</td>\n",
       "    </tr>\n",
       "    <tr>\n",
       "      <th>1</th>\n",
       "      <td>12</td>\n",
       "      <td>20</td>\n",
       "      <td>70</td>\n",
       "      <td>116</td>\n",
       "      <td>83</td>\n",
       "      <td>10</td>\n",
       "      <td>100</td>\n",
       "      <td>11600</td>\n",
       "      <td>8300</td>\n",
       "    </tr>\n",
       "    <tr>\n",
       "      <th>2</th>\n",
       "      <td>13</td>\n",
       "      <td>10</td>\n",
       "      <td>120</td>\n",
       "      <td>142</td>\n",
       "      <td>99</td>\n",
       "      <td>10</td>\n",
       "      <td>100</td>\n",
       "      <td>14200</td>\n",
       "      <td>9900</td>\n",
       "    </tr>\n",
       "    <tr>\n",
       "      <th>3</th>\n",
       "      <td>14</td>\n",
       "      <td>10</td>\n",
       "      <td>180</td>\n",
       "      <td>159</td>\n",
       "      <td>85</td>\n",
       "      <td>10</td>\n",
       "      <td>100</td>\n",
       "      <td>15900</td>\n",
       "      <td>8500</td>\n",
       "    </tr>\n",
       "    <tr>\n",
       "      <th>4</th>\n",
       "      <td>15</td>\n",
       "      <td>10</td>\n",
       "      <td>240</td>\n",
       "      <td>22</td>\n",
       "      <td>9</td>\n",
       "      <td>100</td>\n",
       "      <td>100</td>\n",
       "      <td>22000</td>\n",
       "      <td>9000</td>\n",
       "    </tr>\n",
       "    <tr>\n",
       "      <th>5</th>\n",
       "      <td>17</td>\n",
       "      <td>0</td>\n",
       "      <td>350</td>\n",
       "      <td>37</td>\n",
       "      <td>9</td>\n",
       "      <td>100</td>\n",
       "      <td>100</td>\n",
       "      <td>37000</td>\n",
       "      <td>9000</td>\n",
       "    </tr>\n",
       "    <tr>\n",
       "      <th>6</th>\n",
       "      <td>18</td>\n",
       "      <td>0</td>\n",
       "      <td>410</td>\n",
       "      <td>185</td>\n",
       "      <td>47</td>\n",
       "      <td>100</td>\n",
       "      <td>100</td>\n",
       "      <td>185000</td>\n",
       "      <td>47000</td>\n",
       "    </tr>\n",
       "    <tr>\n",
       "      <th>8</th>\n",
       "      <td>20</td>\n",
       "      <td>45</td>\n",
       "      <td>575</td>\n",
       "      <td>52</td>\n",
       "      <td>18</td>\n",
       "      <td>1000</td>\n",
       "      <td>100</td>\n",
       "      <td>520000</td>\n",
       "      <td>180000</td>\n",
       "    </tr>\n",
       "    <tr>\n",
       "      <th>9</th>\n",
       "      <td>22</td>\n",
       "      <td>45</td>\n",
       "      <td>695</td>\n",
       "      <td>224</td>\n",
       "      <td>43</td>\n",
       "      <td>1000</td>\n",
       "      <td>100</td>\n",
       "      <td>2240000</td>\n",
       "      <td>430000</td>\n",
       "    </tr>\n",
       "  </tbody>\n",
       "</table>\n",
       "</div>"
      ],
      "text/plain": [
       "   time (hr)  time (min)  time since start (min)  number of wildtype colonies  \\\n",
       "0         11          10                       0                          178   \n",
       "1         12          20                      70                          116   \n",
       "2         13          10                     120                          142   \n",
       "3         14          10                     180                          159   \n",
       "4         15          10                     240                           22   \n",
       "5         17           0                     350                           37   \n",
       "6         18           0                     410                          185   \n",
       "8         20          45                     575                           52   \n",
       "9         22          45                     695                          224   \n",
       "\n",
       "   number of delta colonies  dilution factor  µL plated  wildtype / mL  \\\n",
       "0                       101               10        100          17800   \n",
       "1                        83               10        100          11600   \n",
       "2                        99               10        100          14200   \n",
       "3                        85               10        100          15900   \n",
       "4                         9              100        100          22000   \n",
       "5                         9              100        100          37000   \n",
       "6                        47              100        100         185000   \n",
       "8                        18             1000        100         520000   \n",
       "9                        43             1000        100        2240000   \n",
       "\n",
       "   delta / mL  \n",
       "0       10100  \n",
       "1        8300  \n",
       "2        9900  \n",
       "3        8500  \n",
       "4        9000  \n",
       "5        9000  \n",
       "6       47000  \n",
       "8      180000  \n",
       "9      430000  "
      ]
     },
     "execution_count": 3,
     "metadata": {},
     "output_type": "execute_result"
    }
   ],
   "source": [
    "# remove spurious data point\n",
    "data_trimmed = data[data[\"time (hr)\"] != 19]\n",
    "data_trimmed"
   ]
  },
  {
   "cell_type": "code",
   "execution_count": 4,
   "metadata": {},
   "outputs": [
    {
     "data": {
      "image/png": "[encoded data removed]",
      "text/plain": [
       "<Figure size 432x288 with 1 Axes>"
      ]
     },
     "metadata": {
      "needs_background": "light"
     },
     "output_type": "display_data"
    }
   ],
   "source": [
    "# plot\n",
    "times = data_trimmed[\"time since start (min)\"]\n",
    "N_wildtype = data_trimmed[\"wildtype / mL\"]\n",
    "N_delta = data_trimmed[\"delta / mL\"]\n",
    "\n",
    "plt.plot(times, N_wildtype, 'r.')\n",
    "plt.plot(times, N_delta, 'b.')\n",
    "plt.xlabel(\"time (min)\")\n",
    "plt.ylabel(\"cells / mL\")\n",
    "plt.legend([\"wildtype\", \"∆lac\"]);"
   ]
  },
  {
   "cell_type": "markdown",
   "metadata": {},
   "source": [
    "As we saw by eye, the wildtype strain takes over. "
   ]
  },
  {
   "cell_type": "markdown",
   "metadata": {},
   "source": [
    "## Fit a \"bespoke\" growth curve\n",
    "\n",
    "This is a somewhat ad hoc definition of a growth curve, but we define it such that the population is of size $N_0$ until some time threshhold is passed, at which point it begins growing exponentially. "
   ]
  },
  {
   "cell_type": "code",
   "execution_count": 5,
   "metadata": {},
   "outputs": [],
   "source": [
    "def exp_growth(times, N_0, r, t_thresh):\n",
    "    \"\"\" exponential growth with time points t, initial population size N_0, \n",
    "    and growth rate r \"\"\"\n",
    "    \n",
    "    N = np.zeros(len(times))\n",
    "    \n",
    "    for i, t in enumerate(times):\n",
    "        \n",
    "        # lag phase \n",
    "        if t < t_thresh:\n",
    "            N[i] = N_0\n",
    "            \n",
    "        # exponetial phase    \n",
    "        else:\n",
    "            N[i] = N_0 * np.exp((t-t_thresh)*r)\n",
    "            \n",
    "    return N"
   ]
  },
  {
   "cell_type": "markdown",
   "metadata": {},
   "source": [
    "Let's put some pretty generous bounds on all the parameters and use scipy.optimize as a first pass. "
   ]
  },
  {
   "cell_type": "code",
   "execution_count": 6,
   "metadata": {},
   "outputs": [],
   "source": [
    "# optimize growth curve\n",
    "# bounds on N_O: 1000 to 100,000\n",
    "# bound on r: 0.001 to 0.1 (per min)\n",
    "# bount on t_thresh: 0 to 700\n",
    "popt_wt, pcov_wt = scipy.optimize.curve_fit(exp_growth, times, N_wildtype, \n",
    "                                      bounds=([1000, 0.001, 0], [100000, 0.1, 700]))\n",
    "\n",
    "popt_delta, pcov_delta = scipy.optimize.curve_fit(exp_growth, times, N_delta, \n",
    "                                      bounds=([1000, 0.001, 0], [100000, 0.1, 700]))"
   ]
  },
  {
   "cell_type": "code",
   "execution_count": 7,
   "metadata": {},
   "outputs": [
    {
     "data": {
      "image/png": "[encoded data removed]",
      "text/plain": [
       "<Figure size 432x288 with 1 Axes>"
      ]
     },
     "metadata": {
      "needs_background": "light"
     },
     "output_type": "display_data"
    }
   ],
   "source": [
    "# plot data \n",
    "plt.plot(times, N_wildtype, 'r.')\n",
    "plt.plot(times, N_delta, 'b.')\n",
    "plt.legend([\"wildtype\", \"∆lac\"])\n",
    "\n",
    "time_range = np.linspace(0, 700, 200)\n",
    "\n",
    "# plot fits\n",
    "plt.plot(time_range, exp_growth(time_range, *popt_wt), color=\"red\")\n",
    "plt.plot(time_range, exp_growth(time_range, *popt_delta), color=\"blue\")\n",
    "plt.xlabel(\"time (min)\")\n",
    "plt.ylabel(\"cells / mL\");"
   ]
  },
  {
   "cell_type": "code",
   "execution_count": 8,
   "metadata": {},
   "outputs": [
    {
     "name": "stdout",
     "output_type": "stream",
     "text": [
      "wt N_0: 16300.0\n",
      "delta N_0: 9200.0\n",
      "\n",
      "wt lag time (min): 271.0\n",
      "delta lag time (min): 202.0\n",
      "\n",
      "wt growth rate (per min): 0.0116\n",
      "delta growth rate (per min): 0.00782\n",
      "\n"
     ]
    }
   ],
   "source": [
    "print(\"wt N_0:\", np.round(popt_wt[0]))\n",
    "print(\"delta N_0:\", np.round(popt_delta[0]))\n",
    "print()\n",
    "print(\"wt lag time (min):\", np.round(popt_wt[2]))\n",
    "print(\"delta lag time (min):\", np.round(popt_delta[2]))\n",
    "print()\n",
    "print(\"wt growth rate (per min):\", np.round(popt_wt[1], 5))\n",
    "print(\"delta growth rate (per min):\", np.round(popt_delta[1], 5))\n",
    "print()"
   ]
  },
  {
   "cell_type": "markdown",
   "metadata": {},
   "source": [
    "By eye, this looks pretty good! "
   ]
  },
  {
   "cell_type": "markdown",
   "metadata": {},
   "source": [
    "## Let's conisder the data log normally distributed\n",
    "\n",
    "When we plot on a log scale, we see that the fits are very strongly influenced by the later time points. We would like to have this not be the case, so we should take the log of the data. "
   ]
  },
  {
   "cell_type": "code",
   "execution_count": 9,
   "metadata": {},
   "outputs": [
    {
     "data": {
      "image/png": "[encoded data removed]",
      "text/plain": [
       "<Figure size 432x288 with 1 Axes>"
      ]
     },
     "metadata": {
      "needs_background": "light"
     },
     "output_type": "display_data"
    }
   ],
   "source": [
    "# plot data \n",
    "plt.semilogy(times, N_wildtype, 'r.')\n",
    "plt.plot(times, N_delta, 'b.')\n",
    "plt.legend([\"wildtype\", \"∆lac\"])\n",
    "\n",
    "time_range = np.linspace(0, 700, 200)\n",
    "\n",
    "# plot fits\n",
    "plt.plot(time_range, exp_growth(time_range, *popt_wt), color=\"red\")\n",
    "plt.plot(time_range, exp_growth(time_range, *popt_delta), color=\"blue\")\n",
    "plt.xlabel(\"time (min)\")\n",
    "plt.ylabel(\"cells / mL\");"
   ]
  },
  {
   "cell_type": "markdown",
   "metadata": {},
   "source": [
    "Let's first plot the log of the data."
   ]
  },
  {
   "cell_type": "code",
   "execution_count": 10,
   "metadata": {},
   "outputs": [
    {
     "data": {
      "image/png": "[encoded data removed]",
      "text/plain": [
       "<Figure size 432x288 with 1 Axes>"
      ]
     },
     "metadata": {
      "needs_background": "light"
     },
     "output_type": "display_data"
    }
   ],
   "source": [
    "# plot\n",
    "times = data_trimmed[\"time since start (min)\"]\n",
    "N_wildtype = data_trimmed[\"wildtype / mL\"]\n",
    "N_delta = data_trimmed[\"delta / mL\"]\n",
    "\n",
    "plt.plot(times, np.log(N_wildtype), 'r.')\n",
    "plt.plot(times, np.log(N_delta), 'b.')\n",
    "plt.xlabel(\"time (min)\")\n",
    "plt.ylabel(\"log cells / mL\")\n",
    "plt.legend([\"wildtype\", \"∆lac\"]);"
   ]
  },
  {
   "cell_type": "markdown",
   "metadata": {},
   "source": [
    "Let's update our exponential growth function for the logarithmic data. "
   ]
  },
  {
   "cell_type": "code",
   "execution_count": 11,
   "metadata": {},
   "outputs": [],
   "source": [
    "def exp_growth_in_log(times, N_0, r, t_thresh):\n",
    "    \"\"\" exponential growth with time points t, initial population size N_0, \n",
    "    and growth rate r \"\"\"\n",
    "    \n",
    "    N = np.zeros(len(times))\n",
    "    \n",
    "    for i, t in enumerate(times):\n",
    "        \n",
    "        # lag phase \n",
    "        if t < t_thresh:\n",
    "            N[i] = N_0\n",
    "            \n",
    "        # exponetial phase    \n",
    "        else:\n",
    "            N[i] = N_0 + (t-t_thresh)*r\n",
    "            \n",
    "    return N"
   ]
  },
  {
   "cell_type": "markdown",
   "metadata": {},
   "source": [
    "Now let's optimize in log (with our log function and our log data)."
   ]
  },
  {
   "cell_type": "code",
   "execution_count": 12,
   "metadata": {},
   "outputs": [],
   "source": [
    "# optimize growth curve\n",
    "# bounds on N_O: 8 to 11\n",
    "# bound on r: 0.001 to 0.1 (per min)\n",
    "# bount on t_thresh: 0 to 700\n",
    "popt_wt, pcov_wt = scipy.optimize.curve_fit(exp_growth_in_log, times, np.log(N_wildtype), \n",
    "                                      bounds=([8, 0.001, 0], [11, 0.1, 700]))\n",
    "\n",
    "popt_delta, pcov_delta = scipy.optimize.curve_fit(exp_growth_in_log, times, np.log(N_delta), \n",
    "                                      bounds=([8, 0.001, 0], [11, 0.1, 700]))"
   ]
  },
  {
   "cell_type": "code",
   "execution_count": 13,
   "metadata": {},
   "outputs": [
    {
     "name": "stdout",
     "output_type": "stream",
     "text": [
      "wt N_0: 10.0\n",
      "delta N_0: 9.0\n",
      "\n",
      "wt lag time (min): 212.0\n",
      "delta lag time (min): 303.0\n",
      "\n",
      "wt growth rate (per min): 0.01028\n",
      "delta growth rate (per min): 0.01035\n",
      "\n"
     ]
    }
   ],
   "source": [
    "print(\"wt N_0:\", np.round(popt_wt[0]))\n",
    "print(\"delta N_0:\", np.round(popt_delta[0]))\n",
    "print()\n",
    "print(\"wt lag time (min):\", np.round(popt_wt[2]))\n",
    "print(\"delta lag time (min):\", np.round(popt_delta[2]))\n",
    "print()\n",
    "print(\"wt growth rate (per min):\", np.round(popt_wt[1], 5))\n",
    "print(\"delta growth rate (per min):\", np.round(popt_delta[1], 5))\n",
    "print()"
   ]
  },
  {
   "cell_type": "code",
   "execution_count": 14,
   "metadata": {},
   "outputs": [
    {
     "data": {
      "image/png": "[encoded data removed]",
      "text/plain": [
       "<Figure size 432x288 with 1 Axes>"
      ]
     },
     "metadata": {
      "needs_background": "light"
     },
     "output_type": "display_data"
    }
   ],
   "source": [
    "# plot data \n",
    "plt.plot(times, np.log(N_wildtype), 'r.')\n",
    "plt.plot(times, np.log(N_delta), 'b.')\n",
    "plt.legend([\"wildtype\", \"∆lac\"])\n",
    "\n",
    "time_range = np.linspace(0, 700, 200)\n",
    "\n",
    "# plot fits\n",
    "plt.plot(time_range, exp_growth_in_log(time_range, *popt_wt), color=\"red\")\n",
    "plt.plot(time_range, exp_growth_in_log(time_range, *popt_delta), color=\"blue\")\n",
    "plt.xlabel(\"time (min)\")\n",
    "plt.ylabel(\"log cells / mL\");"
   ]
  },
  {
   "cell_type": "markdown",
   "metadata": {},
   "source": [
    "When accounting for the data being logarithmically distributed, the lag phase for delta is much longer, but the growth rates are the same! "
   ]
  }
 ],
 "metadata": {
  "kernelspec": {
   "display_name": "Python 3",
   "language": "python",
   "name": "python3"
  },
  "language_info": {
   "codemirror_mode": {
    "name": "ipython",
    "version": 3
   },
   "file_extension": ".py",
   "mimetype": "text/x-python",
   "name": "python",
   "nbconvert_exporter": "python",
   "pygments_lexer": "ipython3",
   "version": "3.7.3"
  }
 },
 "nbformat": 4,
 "nbformat_minor": 2
}
