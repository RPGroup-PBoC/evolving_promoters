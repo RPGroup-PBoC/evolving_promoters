{
 "cells": [
  {
   "cell_type": "code",
   "execution_count": 1,
   "metadata": {},
   "outputs": [],
   "source": [
    "import numpy as np\n",
    "import pandas as pd\n",
    "from tqdm import tqdm\n",
    "\n",
    "import matplotlib.pyplot as plt\n",
    "import seaborn as sns\n",
    "sns.set()"
   ]
  },
  {
   "cell_type": "code",
   "execution_count": 2,
   "metadata": {},
   "outputs": [],
   "source": [
    "wt_promoter = \"TTTACACTTTATGCTTCCGGCTCGTATGTT\""
   ]
  },
  {
   "cell_type": "code",
   "execution_count": 3,
   "metadata": {},
   "outputs": [
    {
     "data": {
      "text/html": [
       "<div>\n",
       "<style scoped>\n",
       "    .dataframe tbody tr th:only-of-type {\n",
       "        vertical-align: middle;\n",
       "    }\n",
       "\n",
       "    .dataframe tbody tr th {\n",
       "        vertical-align: top;\n",
       "    }\n",
       "\n",
       "    .dataframe thead th {\n",
       "        text-align: right;\n",
       "    }\n",
       "</style>\n",
       "<table border=\"1\" class=\"dataframe\">\n",
       "  <thead>\n",
       "    <tr style=\"text-align: right;\">\n",
       "      <th></th>\n",
       "      <th>A</th>\n",
       "      <th>C</th>\n",
       "      <th>G</th>\n",
       "      <th>T</th>\n",
       "    </tr>\n",
       "  </thead>\n",
       "  <tbody>\n",
       "    <tr>\n",
       "      <th>0</th>\n",
       "      <td>0.305961</td>\n",
       "      <td>0.681616</td>\n",
       "      <td>0.360140</td>\n",
       "      <td>-0.313427</td>\n",
       "    </tr>\n",
       "    <tr>\n",
       "      <th>1</th>\n",
       "      <td>0.122283</td>\n",
       "      <td>0.247441</td>\n",
       "      <td>0.171605</td>\n",
       "      <td>-0.313427</td>\n",
       "    </tr>\n",
       "    <tr>\n",
       "      <th>2</th>\n",
       "      <td>1.500683</td>\n",
       "      <td>1.490967</td>\n",
       "      <td>-0.313427</td>\n",
       "      <td>0.633869</td>\n",
       "    </tr>\n",
       "    <tr>\n",
       "      <th>3</th>\n",
       "      <td>-0.313427</td>\n",
       "      <td>1.032246</td>\n",
       "      <td>-0.138758</td>\n",
       "      <td>0.699062</td>\n",
       "    </tr>\n",
       "    <tr>\n",
       "      <th>4</th>\n",
       "      <td>1.064641</td>\n",
       "      <td>-0.214039</td>\n",
       "      <td>1.119622</td>\n",
       "      <td>-0.313427</td>\n",
       "    </tr>\n",
       "  </tbody>\n",
       "</table>\n",
       "</div>"
      ],
      "text/plain": [
       "          A         C         G         T\n",
       "0  0.305961  0.681616  0.360140 -0.313427\n",
       "1  0.122283  0.247441  0.171605 -0.313427\n",
       "2  1.500683  1.490967 -0.313427  0.633869\n",
       "3 -0.313427  1.032246 -0.138758  0.699062\n",
       "4  1.064641 -0.214039  1.119622 -0.313427"
      ]
     },
     "execution_count": 3,
     "metadata": {},
     "output_type": "execute_result"
    }
   ],
   "source": [
    "# load in Brewster energy matrix\n",
    "matrix = pd.read_csv(\"../../data/brewster_matrixS2.txt\", header=None, sep = \"\\s+\", comment=\"#\")\n",
    "matrix.columns = [\"A\",\"C\",\"G\",\"T\"]\n",
    "matrix = matrix[5:-6].reset_index(drop=True)\n",
    "matrix.head()"
   ]
  },
  {
   "cell_type": "code",
   "execution_count": 4,
   "metadata": {},
   "outputs": [],
   "source": [
    "# define the binding energy function\n",
    "def binding_energy(seq, matrix):\n",
    "    \"\"\"\n",
    "    Inputs:\n",
    "        seq: string, 30 bp sequence \n",
    "        matrix: pandas dataframe, binding energy matrix\n",
    "    Outputs:\n",
    "        binding energy: float\"\"\"\n",
    "    \n",
    "    # make sure the sequence is capitilized\n",
    "    seq = seq.upper()\n",
    "    \n",
    "    # initilize running tally\n",
    "    tally_energy = 0\n",
    "    \n",
    "    # iterate through the basepairs of the sequence\n",
    "    for i, bp in enumerate(seq):\n",
    "        \n",
    "        # determine energy of given bp and add to tally\n",
    "        bp_e = matrix.at[i,bp]\n",
    "        tally_energy = tally_energy + bp_e\n",
    "        \n",
    "    return tally_energy"
   ]
  },
  {
   "cell_type": "code",
   "execution_count": 5,
   "metadata": {},
   "outputs": [
    {
     "data": {
      "text/plain": [
       "-3.2440813500089694"
      ]
     },
     "execution_count": 5,
     "metadata": {},
     "output_type": "execute_result"
    }
   ],
   "source": [
    "wt_energy = binding_energy(wt_promoter, matrix)\n",
    "wt_energy"
   ]
  },
  {
   "cell_type": "code",
   "execution_count": 6,
   "metadata": {},
   "outputs": [],
   "source": [
    "def all_SNPs_binding_energy(sequences, matrix):\n",
    "    \"\"\" Calculates the binding energy of all possible sequences resulting from a single point mutations\n",
    "    about the sequence(s) provided.\n",
    "    This can allow for subsequent use of the function to get all single mutants, double mutants, etc.\n",
    "    \"\"\"\n",
    "    \n",
    "    # initialize a names, sequence, and energies list\n",
    "    seqs = []\n",
    "    energies = []\n",
    "    \n",
    "    for sequence in sequences:\n",
    "        \n",
    "        sequence = sequence.upper()\n",
    "    \n",
    "        for i, bp in enumerate(sequence):\n",
    "\n",
    "            # possible bases:\n",
    "            bases = ['A', 'T', 'C', 'G']\n",
    "\n",
    "            # remove the base pair which is already in the sequence from the bases list\n",
    "            bases.remove(bp)\n",
    "\n",
    "            # make each possible mutation and store it in a list\n",
    "            for base in bases:\n",
    "\n",
    "                # determine the new sequence, calculate its energy, and store it\n",
    "                seq = sequence[:i] + base + sequence[i+1:]\n",
    "                energy = binding_energy(seq, matrix)\n",
    "                seqs += [seq]\n",
    "                energies += [energy]\n",
    "\n",
    "            \n",
    "    # return a data frame\n",
    "    df = pd.DataFrame(columns=[\"sequence\", \"energy\"])\n",
    "    df[\"sequence\"] = seqs\n",
    "    df[\"energy\"] = energies\n",
    "    return df"
   ]
  },
  {
   "cell_type": "markdown",
   "metadata": {},
   "source": [
    "## Single mutants "
   ]
  },
  {
   "cell_type": "code",
   "execution_count": 7,
   "metadata": {},
   "outputs": [
    {
     "data": {
      "text/html": [
       "<div>\n",
       "<style scoped>\n",
       "    .dataframe tbody tr th:only-of-type {\n",
       "        vertical-align: middle;\n",
       "    }\n",
       "\n",
       "    .dataframe tbody tr th {\n",
       "        vertical-align: top;\n",
       "    }\n",
       "\n",
       "    .dataframe thead th {\n",
       "        text-align: right;\n",
       "    }\n",
       "</style>\n",
       "<table border=\"1\" class=\"dataframe\">\n",
       "  <thead>\n",
       "    <tr style=\"text-align: right;\">\n",
       "      <th></th>\n",
       "      <th>sequence</th>\n",
       "      <th>energy</th>\n",
       "    </tr>\n",
       "  </thead>\n",
       "  <tbody>\n",
       "    <tr>\n",
       "      <th>85</th>\n",
       "      <td>TTTACACTTTATGCTTCCGGCTCGTATGCT</td>\n",
       "      <td>-3.774452</td>\n",
       "    </tr>\n",
       "    <tr>\n",
       "      <th>86</th>\n",
       "      <td>TTTACACTTTATGCTTCCGGCTCGTATGGT</td>\n",
       "      <td>-3.289536</td>\n",
       "    </tr>\n",
       "    <tr>\n",
       "      <th>87</th>\n",
       "      <td>TTTACACTTTATGCTTCCGGCTCGTATGTA</td>\n",
       "      <td>-2.254904</td>\n",
       "    </tr>\n",
       "    <tr>\n",
       "      <th>88</th>\n",
       "      <td>TTTACACTTTATGCTTCCGGCTCGTATGTC</td>\n",
       "      <td>-1.716471</td>\n",
       "    </tr>\n",
       "    <tr>\n",
       "      <th>89</th>\n",
       "      <td>TTTACACTTTATGCTTCCGGCTCGTATGTG</td>\n",
       "      <td>-1.937952</td>\n",
       "    </tr>\n",
       "  </tbody>\n",
       "</table>\n",
       "</div>"
      ],
      "text/plain": [
       "                          sequence    energy\n",
       "85  TTTACACTTTATGCTTCCGGCTCGTATGCT -3.774452\n",
       "86  TTTACACTTTATGCTTCCGGCTCGTATGGT -3.289536\n",
       "87  TTTACACTTTATGCTTCCGGCTCGTATGTA -2.254904\n",
       "88  TTTACACTTTATGCTTCCGGCTCGTATGTC -1.716471\n",
       "89  TTTACACTTTATGCTTCCGGCTCGTATGTG -1.937952"
      ]
     },
     "execution_count": 7,
     "metadata": {},
     "output_type": "execute_result"
    }
   ],
   "source": [
    "single_muts = all_SNPs_binding_energy([wt_promoter], matrix)\n",
    "single_muts.tail()"
   ]
  },
  {
   "cell_type": "code",
   "execution_count": 7,
   "metadata": {},
   "outputs": [],
   "source": [
    "def ECDF(x_vals):\n",
    "    \n",
    "    plt.plot(sorted(x_vals), np.linspace(0,1,len(x_vals)), '.')\n",
    "    plt.axvline(x=binding_energy(wt_promoter, matrix), color='r')\n",
    "    plt.legend([\"mutants\", \"wt promoter\"])\n",
    "    plt.xlabel(\"binding energy\")\n",
    "    plt.ylabel(\"ECDF\")"
   ]
  },
  {
   "cell_type": "code",
   "execution_count": 9,
   "metadata": {},
   "outputs": [
    {
     "data": {
      "image/png": "[encoded data removed]",
      "text/plain": [
       "<Figure size 432x288 with 1 Axes>"
      ]
     },
     "metadata": {
      "needs_background": "light"
     },
     "output_type": "display_data"
    }
   ],
   "source": [
    "ECDF(single_muts[\"energy\"])"
   ]
  },
  {
   "cell_type": "markdown",
   "metadata": {},
   "source": [
    "## Double mutants"
   ]
  },
  {
   "cell_type": "code",
   "execution_count": 10,
   "metadata": {},
   "outputs": [
    {
     "data": {
      "text/html": [
       "<div>\n",
       "<style scoped>\n",
       "    .dataframe tbody tr th:only-of-type {\n",
       "        vertical-align: middle;\n",
       "    }\n",
       "\n",
       "    .dataframe tbody tr th {\n",
       "        vertical-align: top;\n",
       "    }\n",
       "\n",
       "    .dataframe thead th {\n",
       "        text-align: right;\n",
       "    }\n",
       "</style>\n",
       "<table border=\"1\" class=\"dataframe\">\n",
       "  <thead>\n",
       "    <tr style=\"text-align: right;\">\n",
       "      <th></th>\n",
       "      <th>sequence</th>\n",
       "      <th>energy</th>\n",
       "    </tr>\n",
       "  </thead>\n",
       "  <tbody>\n",
       "    <tr>\n",
       "      <th>8095</th>\n",
       "      <td>TTTACACTTTATGCTTCCGGCTCGTATGCG</td>\n",
       "      <td>-2.468323</td>\n",
       "    </tr>\n",
       "    <tr>\n",
       "      <th>8096</th>\n",
       "      <td>TTTACACTTTATGCTTCCGGCTCGTATGGG</td>\n",
       "      <td>-1.983407</td>\n",
       "    </tr>\n",
       "    <tr>\n",
       "      <th>8097</th>\n",
       "      <td>TTTACACTTTATGCTTCCGGCTCGTATGTA</td>\n",
       "      <td>-2.254904</td>\n",
       "    </tr>\n",
       "    <tr>\n",
       "      <th>8098</th>\n",
       "      <td>TTTACACTTTATGCTTCCGGCTCGTATGTT</td>\n",
       "      <td>-3.244081</td>\n",
       "    </tr>\n",
       "    <tr>\n",
       "      <th>8099</th>\n",
       "      <td>TTTACACTTTATGCTTCCGGCTCGTATGTC</td>\n",
       "      <td>-1.716471</td>\n",
       "    </tr>\n",
       "  </tbody>\n",
       "</table>\n",
       "</div>"
      ],
      "text/plain": [
       "                            sequence    energy\n",
       "8095  TTTACACTTTATGCTTCCGGCTCGTATGCG -2.468323\n",
       "8096  TTTACACTTTATGCTTCCGGCTCGTATGGG -1.983407\n",
       "8097  TTTACACTTTATGCTTCCGGCTCGTATGTA -2.254904\n",
       "8098  TTTACACTTTATGCTTCCGGCTCGTATGTT -3.244081\n",
       "8099  TTTACACTTTATGCTTCCGGCTCGTATGTC -1.716471"
      ]
     },
     "execution_count": 10,
     "metadata": {},
     "output_type": "execute_result"
    }
   ],
   "source": [
    "double_muts = all_SNPs_binding_energy(single_muts[\"sequence\"], matrix)\n",
    "double_muts.tail()"
   ]
  },
  {
   "cell_type": "code",
   "execution_count": 11,
   "metadata": {},
   "outputs": [
    {
     "data": {
      "text/html": [
       "<div>\n",
       "<style scoped>\n",
       "    .dataframe tbody tr th:only-of-type {\n",
       "        vertical-align: middle;\n",
       "    }\n",
       "\n",
       "    .dataframe tbody tr th {\n",
       "        vertical-align: top;\n",
       "    }\n",
       "\n",
       "    .dataframe thead th {\n",
       "        text-align: right;\n",
       "    }\n",
       "</style>\n",
       "<table border=\"1\" class=\"dataframe\">\n",
       "  <thead>\n",
       "    <tr style=\"text-align: right;\">\n",
       "      <th></th>\n",
       "      <th>sequence</th>\n",
       "      <th>energy</th>\n",
       "    </tr>\n",
       "  </thead>\n",
       "  <tbody>\n",
       "    <tr>\n",
       "      <th>7828</th>\n",
       "      <td>TTTACACTTTATGCTTCCGGCTCGTATGGC</td>\n",
       "      <td>-1.761926</td>\n",
       "    </tr>\n",
       "    <tr>\n",
       "      <th>7829</th>\n",
       "      <td>TTTACACTTTATGCTTCCGGCTCGTATGGG</td>\n",
       "      <td>-1.983407</td>\n",
       "    </tr>\n",
       "    <tr>\n",
       "      <th>7918</th>\n",
       "      <td>TTTACACTTTATGCTTCCGGCTCGTATGTC</td>\n",
       "      <td>-1.716471</td>\n",
       "    </tr>\n",
       "    <tr>\n",
       "      <th>7919</th>\n",
       "      <td>TTTACACTTTATGCTTCCGGCTCGTATGTG</td>\n",
       "      <td>-1.937952</td>\n",
       "    </tr>\n",
       "    <tr>\n",
       "      <th>8007</th>\n",
       "      <td>TTTACACTTTATGCTTCCGGCTCGTATGTA</td>\n",
       "      <td>-2.254904</td>\n",
       "    </tr>\n",
       "  </tbody>\n",
       "</table>\n",
       "</div>"
      ],
      "text/plain": [
       "                            sequence    energy\n",
       "7828  TTTACACTTTATGCTTCCGGCTCGTATGGC -1.761926\n",
       "7829  TTTACACTTTATGCTTCCGGCTCGTATGGG -1.983407\n",
       "7918  TTTACACTTTATGCTTCCGGCTCGTATGTC -1.716471\n",
       "7919  TTTACACTTTATGCTTCCGGCTCGTATGTG -1.937952\n",
       "8007  TTTACACTTTATGCTTCCGGCTCGTATGTA -2.254904"
      ]
     },
     "execution_count": 11,
     "metadata": {},
     "output_type": "execute_result"
    }
   ],
   "source": [
    "double_muts.drop_duplicates(inplace=True)\n",
    "double_muts.tail()"
   ]
  },
  {
   "cell_type": "code",
   "execution_count": 12,
   "metadata": {},
   "outputs": [
    {
     "data": {
      "image/png": "[encoded data removed]",
      "text/plain": [
       "<Figure size 432x288 with 1 Axes>"
      ]
     },
     "metadata": {
      "needs_background": "light"
     },
     "output_type": "display_data"
    }
   ],
   "source": [
    "ECDF(double_muts[\"energy\"])"
   ]
  },
  {
   "cell_type": "markdown",
   "metadata": {},
   "source": [
    "## Triple mutants"
   ]
  },
  {
   "cell_type": "code",
   "execution_count": 13,
   "metadata": {},
   "outputs": [
    {
     "data": {
      "text/html": [
       "<div>\n",
       "<style scoped>\n",
       "    .dataframe tbody tr th:only-of-type {\n",
       "        vertical-align: middle;\n",
       "    }\n",
       "\n",
       "    .dataframe tbody tr th {\n",
       "        vertical-align: top;\n",
       "    }\n",
       "\n",
       "    .dataframe thead th {\n",
       "        text-align: right;\n",
       "    }\n",
       "</style>\n",
       "<table border=\"1\" class=\"dataframe\">\n",
       "  <thead>\n",
       "    <tr style=\"text-align: right;\">\n",
       "      <th></th>\n",
       "      <th>sequence</th>\n",
       "      <th>energy</th>\n",
       "    </tr>\n",
       "  </thead>\n",
       "  <tbody>\n",
       "    <tr>\n",
       "      <th>360535</th>\n",
       "      <td>TTTACACTTTATGCTTCCGGCTCGTATGCA</td>\n",
       "      <td>-2.785274</td>\n",
       "    </tr>\n",
       "    <tr>\n",
       "      <th>360536</th>\n",
       "      <td>TTTACACTTTATGCTTCCGGCTCGTATGGA</td>\n",
       "      <td>-2.300359</td>\n",
       "    </tr>\n",
       "    <tr>\n",
       "      <th>360537</th>\n",
       "      <td>TTTACACTTTATGCTTCCGGCTCGTATGTT</td>\n",
       "      <td>-3.244081</td>\n",
       "    </tr>\n",
       "    <tr>\n",
       "      <th>360538</th>\n",
       "      <td>TTTACACTTTATGCTTCCGGCTCGTATGTC</td>\n",
       "      <td>-1.716471</td>\n",
       "    </tr>\n",
       "    <tr>\n",
       "      <th>360539</th>\n",
       "      <td>TTTACACTTTATGCTTCCGGCTCGTATGTG</td>\n",
       "      <td>-1.937952</td>\n",
       "    </tr>\n",
       "  </tbody>\n",
       "</table>\n",
       "</div>"
      ],
      "text/plain": [
       "                              sequence    energy\n",
       "360535  TTTACACTTTATGCTTCCGGCTCGTATGCA -2.785274\n",
       "360536  TTTACACTTTATGCTTCCGGCTCGTATGGA -2.300359\n",
       "360537  TTTACACTTTATGCTTCCGGCTCGTATGTT -3.244081\n",
       "360538  TTTACACTTTATGCTTCCGGCTCGTATGTC -1.716471\n",
       "360539  TTTACACTTTATGCTTCCGGCTCGTATGTG -1.937952"
      ]
     },
     "execution_count": 13,
     "metadata": {},
     "output_type": "execute_result"
    }
   ],
   "source": [
    "triple_muts = all_SNPs_binding_energy(double_muts[\"sequence\"], matrix)\n",
    "triple_muts.tail()"
   ]
  },
  {
   "cell_type": "code",
   "execution_count": 14,
   "metadata": {},
   "outputs": [
    {
     "data": {
      "text/html": [
       "<div>\n",
       "<style scoped>\n",
       "    .dataframe tbody tr th:only-of-type {\n",
       "        vertical-align: middle;\n",
       "    }\n",
       "\n",
       "    .dataframe tbody tr th {\n",
       "        vertical-align: top;\n",
       "    }\n",
       "\n",
       "    .dataframe thead th {\n",
       "        text-align: right;\n",
       "    }\n",
       "</style>\n",
       "<table border=\"1\" class=\"dataframe\">\n",
       "  <thead>\n",
       "    <tr style=\"text-align: right;\">\n",
       "      <th></th>\n",
       "      <th>sequence</th>\n",
       "      <th>energy</th>\n",
       "    </tr>\n",
       "  </thead>\n",
       "  <tbody>\n",
       "    <tr>\n",
       "      <th>359368</th>\n",
       "      <td>TTTACACTTTATGCTTCCGGCTCGTATGGC</td>\n",
       "      <td>-1.761926</td>\n",
       "    </tr>\n",
       "    <tr>\n",
       "      <th>359369</th>\n",
       "      <td>TTTACACTTTATGCTTCCGGCTCGTATGGG</td>\n",
       "      <td>-1.983407</td>\n",
       "    </tr>\n",
       "    <tr>\n",
       "      <th>359458</th>\n",
       "      <td>TTTACACTTTATGCTTCCGGCTCGTATGAC</td>\n",
       "      <td>-2.548118</td>\n",
       "    </tr>\n",
       "    <tr>\n",
       "      <th>359459</th>\n",
       "      <td>TTTACACTTTATGCTTCCGGCTCGTATGAG</td>\n",
       "      <td>-2.769600</td>\n",
       "    </tr>\n",
       "    <tr>\n",
       "      <th>359547</th>\n",
       "      <td>TTTACACTTTATGCTTCCGGCTCGTATGAA</td>\n",
       "      <td>-3.086551</td>\n",
       "    </tr>\n",
       "  </tbody>\n",
       "</table>\n",
       "</div>"
      ],
      "text/plain": [
       "                              sequence    energy\n",
       "359368  TTTACACTTTATGCTTCCGGCTCGTATGGC -1.761926\n",
       "359369  TTTACACTTTATGCTTCCGGCTCGTATGGG -1.983407\n",
       "359458  TTTACACTTTATGCTTCCGGCTCGTATGAC -2.548118\n",
       "359459  TTTACACTTTATGCTTCCGGCTCGTATGAG -2.769600\n",
       "359547  TTTACACTTTATGCTTCCGGCTCGTATGAA -3.086551"
      ]
     },
     "execution_count": 14,
     "metadata": {},
     "output_type": "execute_result"
    }
   ],
   "source": [
    "triple_muts.drop_duplicates(inplace=True)\n",
    "triple_muts.tail()"
   ]
  },
  {
   "cell_type": "code",
   "execution_count": 15,
   "metadata": {},
   "outputs": [
    {
     "data": {
      "image/png": "[encoded data removed]",
      "text/plain": [
       "<Figure size 432x288 with 1 Axes>"
      ]
     },
     "metadata": {
      "needs_background": "light"
     },
     "output_type": "display_data"
    }
   ],
   "source": [
    "ECDF(triple_muts[\"energy\"])"
   ]
  },
  {
   "cell_type": "markdown",
   "metadata": {},
   "source": [
    "## Focusing on -10 and -35 mutatnts"
   ]
  },
  {
   "cell_type": "code",
   "execution_count": 8,
   "metadata": {},
   "outputs": [
    {
     "name": "stderr",
     "output_type": "stream",
     "text": [
      "  0%|          | 0/4 [00:00<?, ?it/s]"
     ]
    },
    {
     "name": "stdout",
     "output_type": "stream",
     "text": [
      "0\n"
     ]
    },
    {
     "name": "stderr",
     "output_type": "stream",
     "text": [
      "100%|██████████| 4/4 [02:13<00:00, 34.07s/it]\n",
      "  0%|          | 0/4 [00:00<?, ?it/s]"
     ]
    },
    {
     "name": "stdout",
     "output_type": "stream",
     "text": [
      "1\n"
     ]
    },
    {
     "name": "stderr",
     "output_type": "stream",
     "text": [
      "100%|██████████| 4/4 [01:58<00:00, 29.54s/it]\n",
      "  0%|          | 0/4 [00:00<?, ?it/s]"
     ]
    },
    {
     "name": "stdout",
     "output_type": "stream",
     "text": [
      "2\n"
     ]
    },
    {
     "name": "stderr",
     "output_type": "stream",
     "text": [
      "100%|██████████| 4/4 [01:58<00:00, 29.81s/it]\n",
      "  0%|          | 0/4 [00:00<?, ?it/s]"
     ]
    },
    {
     "name": "stdout",
     "output_type": "stream",
     "text": [
      "3\n"
     ]
    },
    {
     "name": "stderr",
     "output_type": "stream",
     "text": [
      "100%|██████████| 4/4 [01:57<00:00, 29.36s/it]\n",
      "  0%|          | 0/4 [00:00<?, ?it/s]"
     ]
    },
    {
     "name": "stdout",
     "output_type": "stream",
     "text": [
      "4\n"
     ]
    },
    {
     "name": "stderr",
     "output_type": "stream",
     "text": [
      "100%|██████████| 4/4 [01:56<00:00, 29.25s/it]\n",
      "  0%|          | 0/4 [00:00<?, ?it/s]"
     ]
    },
    {
     "name": "stdout",
     "output_type": "stream",
     "text": [
      "5\n"
     ]
    },
    {
     "name": "stderr",
     "output_type": "stream",
     "text": [
      "100%|██████████| 4/4 [01:57<00:00, 29.25s/it]\n",
      "  0%|          | 0/4 [00:00<?, ?it/s]"
     ]
    },
    {
     "name": "stdout",
     "output_type": "stream",
     "text": [
      "6\n"
     ]
    },
    {
     "name": "stderr",
     "output_type": "stream",
     "text": [
      "100%|██████████| 4/4 [01:56<00:00, 29.14s/it]\n",
      "  0%|          | 0/4 [00:00<?, ?it/s]"
     ]
    },
    {
     "name": "stdout",
     "output_type": "stream",
     "text": [
      "7\n"
     ]
    },
    {
     "name": "stderr",
     "output_type": "stream",
     "text": [
      "100%|██████████| 4/4 [01:56<00:00, 29.21s/it]\n",
      "  0%|          | 0/4 [00:00<?, ?it/s]"
     ]
    },
    {
     "name": "stdout",
     "output_type": "stream",
     "text": [
      "8\n"
     ]
    },
    {
     "name": "stderr",
     "output_type": "stream",
     "text": [
      "100%|██████████| 4/4 [01:56<00:00, 29.24s/it]\n",
      "  0%|          | 0/4 [00:00<?, ?it/s]"
     ]
    },
    {
     "name": "stdout",
     "output_type": "stream",
     "text": [
      "9\n"
     ]
    },
    {
     "name": "stderr",
     "output_type": "stream",
     "text": [
      "100%|██████████| 4/4 [01:56<00:00, 29.23s/it]\n",
      "  0%|          | 0/4 [00:00<?, ?it/s]"
     ]
    },
    {
     "name": "stdout",
     "output_type": "stream",
     "text": [
      "10\n"
     ]
    },
    {
     "name": "stderr",
     "output_type": "stream",
     "text": [
      "100%|██████████| 4/4 [01:57<00:00, 29.32s/it]\n",
      "  0%|          | 0/4 [00:00<?, ?it/s]"
     ]
    },
    {
     "name": "stdout",
     "output_type": "stream",
     "text": [
      "11\n"
     ]
    },
    {
     "name": "stderr",
     "output_type": "stream",
     "text": [
      "100%|██████████| 4/4 [01:58<00:00, 29.53s/it]\n",
      "  0%|          | 0/4 [00:00<?, ?it/s]"
     ]
    },
    {
     "name": "stdout",
     "output_type": "stream",
     "text": [
      "12\n"
     ]
    },
    {
     "name": "stderr",
     "output_type": "stream",
     "text": [
      "100%|██████████| 4/4 [01:57<00:00, 29.28s/it]\n",
      "  0%|          | 0/4 [00:00<?, ?it/s]"
     ]
    },
    {
     "name": "stdout",
     "output_type": "stream",
     "text": [
      "13\n"
     ]
    },
    {
     "name": "stderr",
     "output_type": "stream",
     "text": [
      "100%|██████████| 4/4 [01:56<00:00, 29.23s/it]\n",
      "  0%|          | 0/4 [00:00<?, ?it/s]"
     ]
    },
    {
     "name": "stdout",
     "output_type": "stream",
     "text": [
      "14\n"
     ]
    },
    {
     "name": "stderr",
     "output_type": "stream",
     "text": [
      "100%|██████████| 4/4 [01:57<00:00, 29.27s/it]\n",
      "  0%|          | 0/4 [00:00<?, ?it/s]"
     ]
    },
    {
     "name": "stdout",
     "output_type": "stream",
     "text": [
      "15\n"
     ]
    },
    {
     "name": "stderr",
     "output_type": "stream",
     "text": [
      "100%|██████████| 4/4 [01:57<00:00, 29.44s/it]\n"
     ]
    }
   ],
   "source": [
    "energies = np.zeros(4**12)\n",
    "seqs = np.array([\"X\"*30]*4**12) \n",
    "count = 0\n",
    "print_counter = 0 \n",
    "\n",
    "# Lord forgive me for the code I am about to write\n",
    "for bp1 in ['A','T','C','G']:\n",
    "    \n",
    "    for bp2 in ['A','T','C','G']:\n",
    "        \n",
    "        # print occasional progress\n",
    "        print(print_counter)\n",
    "        print_counter += 1\n",
    "        \n",
    "        for bp3 in tqdm(['A','T','C','G']):\n",
    "            \n",
    "            for bp4 in ['A','T','C','G']:\n",
    "                \n",
    "                for bp5 in ['A','T','C','G']:\n",
    "                    \n",
    "                    for bp6 in ['A','T','C','G']:\n",
    "                        \n",
    "                        for bp7 in ['A','T','C','G']:\n",
    "                            \n",
    "                            for bp8 in ['A','T','C','G']:\n",
    "                                \n",
    "                                for bp9 in ['A','T','C','G']:\n",
    "                                    \n",
    "                                    for bp10 in ['A','T','C','G']:\n",
    "                                        \n",
    "                                        for bp11 in ['A','T','C','G']:\n",
    "                                            \n",
    "                                            for bp12 in ['A','T','C','G']:\n",
    "                                                \n",
    "                                                # construct sequence and save\n",
    "                                                seq = bp1 + bp2 + bp3 + bp4 + bp5 + bp6 + wt_promoter[6:24] + bp7 + bp8 + bp9 + bp10 + bp11 + bp12\n",
    "                                                seqs[count] = seq\n",
    "                                                \n",
    "                                                # compute enegery and save\n",
    "                                                energies[count] = binding_energy(seq, matrix)\n",
    "                                                \n",
    "                                                # update count\n",
    "                                                count += 1"
   ]
  },
  {
   "cell_type": "code",
   "execution_count": 9,
   "metadata": {},
   "outputs": [
    {
     "data": {
      "image/png": "[encoded data removed]",
      "text/plain": [
       "<Figure size 432x288 with 1 Axes>"
      ]
     },
     "metadata": {
      "needs_background": "light"
     },
     "output_type": "display_data"
    }
   ],
   "source": [
    "ECDF(energies[::1000])"
   ]
  },
  {
   "cell_type": "code",
   "execution_count": 10,
   "metadata": {},
   "outputs": [
    {
     "data": {
      "text/plain": [
       "14339"
      ]
     },
     "execution_count": 10,
     "metadata": {},
     "output_type": "execute_result"
    }
   ],
   "source": [
    "wt_energy = binding_energy(wt_promoter, matrix)\n",
    "sum(energies < wt_energy)"
   ]
  },
  {
   "cell_type": "code",
   "execution_count": 11,
   "metadata": {},
   "outputs": [
    {
     "data": {
      "text/plain": [
       "0.0008546710014343262"
      ]
     },
     "execution_count": 11,
     "metadata": {},
     "output_type": "execute_result"
    }
   ],
   "source": [
    "14339 / len(energies)"
   ]
  },
  {
   "cell_type": "code",
   "execution_count": null,
   "metadata": {},
   "outputs": [],
   "source": []
  },
  {
   "cell_type": "code",
   "execution_count": 27,
   "metadata": {},
   "outputs": [],
   "source": [
    "d = {'sequence': seqs, 'energy': energies}\n",
    "df = pd.DataFrame(data=d)"
   ]
  },
  {
   "cell_type": "code",
   "execution_count": 28,
   "metadata": {},
   "outputs": [
    {
     "data": {
      "text/html": [
       "<div>\n",
       "<style scoped>\n",
       "    .dataframe tbody tr th:only-of-type {\n",
       "        vertical-align: middle;\n",
       "    }\n",
       "\n",
       "    .dataframe tbody tr th {\n",
       "        vertical-align: top;\n",
       "    }\n",
       "\n",
       "    .dataframe thead th {\n",
       "        text-align: right;\n",
       "    }\n",
       "</style>\n",
       "<table border=\"1\" class=\"dataframe\">\n",
       "  <thead>\n",
       "    <tr style=\"text-align: right;\">\n",
       "      <th></th>\n",
       "      <th>sequence</th>\n",
       "      <th>energy</th>\n",
       "    </tr>\n",
       "  </thead>\n",
       "  <tbody>\n",
       "    <tr>\n",
       "      <th>0</th>\n",
       "      <td>AAAAAACTTTATGCTTCCGGCTCGAAAAAA</td>\n",
       "      <td>0.219631</td>\n",
       "    </tr>\n",
       "    <tr>\n",
       "      <th>1</th>\n",
       "      <td>AAAAAACTTTATGCTTCCGGCTCGAAAAAT</td>\n",
       "      <td>-0.769547</td>\n",
       "    </tr>\n",
       "    <tr>\n",
       "      <th>2</th>\n",
       "      <td>AAAAAACTTTATGCTTCCGGCTCGAAAAAC</td>\n",
       "      <td>0.758063</td>\n",
       "    </tr>\n",
       "    <tr>\n",
       "      <th>3</th>\n",
       "      <td>AAAAAACTTTATGCTTCCGGCTCGAAAAAG</td>\n",
       "      <td>0.536582</td>\n",
       "    </tr>\n",
       "    <tr>\n",
       "      <th>4</th>\n",
       "      <td>AAAAAACTTTATGCTTCCGGCTCGAAAATA</td>\n",
       "      <td>1.051278</td>\n",
       "    </tr>\n",
       "  </tbody>\n",
       "</table>\n",
       "</div>"
      ],
      "text/plain": [
       "                         sequence    energy\n",
       "0  AAAAAACTTTATGCTTCCGGCTCGAAAAAA  0.219631\n",
       "1  AAAAAACTTTATGCTTCCGGCTCGAAAAAT -0.769547\n",
       "2  AAAAAACTTTATGCTTCCGGCTCGAAAAAC  0.758063\n",
       "3  AAAAAACTTTATGCTTCCGGCTCGAAAAAG  0.536582\n",
       "4  AAAAAACTTTATGCTTCCGGCTCGAAAATA  1.051278"
      ]
     },
     "execution_count": 28,
     "metadata": {},
     "output_type": "execute_result"
    }
   ],
   "source": [
    "df.head()"
   ]
  },
  {
   "cell_type": "code",
   "execution_count": 29,
   "metadata": {},
   "outputs": [],
   "source": [
    "df.to_csv(\"all_10_and_35_mutant_energies.csv\", index=False)"
   ]
  },
  {
   "cell_type": "code",
   "execution_count": null,
   "metadata": {},
   "outputs": [],
   "source": []
  },
  {
   "cell_type": "code",
   "execution_count": 33,
   "metadata": {},
   "outputs": [],
   "source": [
    "df_trimmed = df[df[\"energy\"] < binding_energy(wt_promoter, matrix)]\n",
    "df_trimmed.to_csv(\"10_and_35_mutants_stronger_than_wt.csv\", index=False)"
   ]
  },
  {
   "cell_type": "code",
   "execution_count": null,
   "metadata": {},
   "outputs": [],
   "source": []
  }
 ],
 "metadata": {
  "kernelspec": {
   "display_name": "Python 3",
   "language": "python",
   "name": "python3"
  },
  "language_info": {
   "codemirror_mode": {
    "name": "ipython",
    "version": 3
   },
   "file_extension": ".py",
   "mimetype": "text/x-python",
   "name": "python",
   "nbconvert_exporter": "python",
   "pygments_lexer": "ipython3",
   "version": "3.7.3"
  }
 },
 "nbformat": 4,
 "nbformat_minor": 2
}
