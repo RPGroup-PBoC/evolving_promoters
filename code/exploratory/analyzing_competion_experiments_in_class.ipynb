{
 "cells": [
  {
   "cell_type": "code",
   "execution_count": 2,
   "metadata": {},
   "outputs": [],
   "source": [
    "import numpy as np\n",
    "import scipy.optimize\n",
    "import pandas as pd \n",
    "\n",
    "import matplotlib.pyplot as plt\n",
    "import seaborn as sns\n",
    "sns.set()"
   ]
  },
  {
   "cell_type": "markdown",
   "metadata": {},
   "source": [
    "## Read in data and plot"
   ]
  },
  {
   "cell_type": "code",
   "execution_count": 4,
   "metadata": {},
   "outputs": [
    {
     "data": {
      "text/html": [
       "<div>\n",
       "<style scoped>\n",
       "    .dataframe tbody tr th:only-of-type {\n",
       "        vertical-align: middle;\n",
       "    }\n",
       "\n",
       "    .dataframe tbody tr th {\n",
       "        vertical-align: top;\n",
       "    }\n",
       "\n",
       "    .dataframe thead th {\n",
       "        text-align: right;\n",
       "    }\n",
       "</style>\n",
       "<table border=\"1\" class=\"dataframe\">\n",
       "  <thead>\n",
       "    <tr style=\"text-align: right;\">\n",
       "      <th></th>\n",
       "      <th>group number</th>\n",
       "      <th>time (hr)</th>\n",
       "      <th>time (min)</th>\n",
       "      <th>time since start (min)</th>\n",
       "      <th>dilution factor</th>\n",
       "      <th>µL plated</th>\n",
       "      <th>number of wildtype colonies</th>\n",
       "      <th>number of delta colonies</th>\n",
       "      <th>wildtype / mL</th>\n",
       "      <th>delta / mL</th>\n",
       "      <th>ratio</th>\n",
       "    </tr>\n",
       "  </thead>\n",
       "  <tbody>\n",
       "    <tr>\n",
       "      <th>0</th>\n",
       "      <td>1</td>\n",
       "      <td>10</td>\n",
       "      <td>30</td>\n",
       "      <td>0</td>\n",
       "      <td>10</td>\n",
       "      <td>100</td>\n",
       "      <td>87</td>\n",
       "      <td>106</td>\n",
       "      <td>8700</td>\n",
       "      <td>10600</td>\n",
       "      <td>0.820755</td>\n",
       "    </tr>\n",
       "    <tr>\n",
       "      <th>1</th>\n",
       "      <td>2</td>\n",
       "      <td>10</td>\n",
       "      <td>30</td>\n",
       "      <td>0</td>\n",
       "      <td>10</td>\n",
       "      <td>100</td>\n",
       "      <td>98</td>\n",
       "      <td>110</td>\n",
       "      <td>9800</td>\n",
       "      <td>11000</td>\n",
       "      <td>0.890909</td>\n",
       "    </tr>\n",
       "    <tr>\n",
       "      <th>2</th>\n",
       "      <td>2</td>\n",
       "      <td>11</td>\n",
       "      <td>45</td>\n",
       "      <td>75</td>\n",
       "      <td>10</td>\n",
       "      <td>100</td>\n",
       "      <td>46</td>\n",
       "      <td>42</td>\n",
       "      <td>4600</td>\n",
       "      <td>4200</td>\n",
       "      <td>1.095238</td>\n",
       "    </tr>\n",
       "    <tr>\n",
       "      <th>3</th>\n",
       "      <td>2</td>\n",
       "      <td>12</td>\n",
       "      <td>30</td>\n",
       "      <td>120</td>\n",
       "      <td>10</td>\n",
       "      <td>100</td>\n",
       "      <td>88</td>\n",
       "      <td>107</td>\n",
       "      <td>8800</td>\n",
       "      <td>10700</td>\n",
       "      <td>0.822430</td>\n",
       "    </tr>\n",
       "    <tr>\n",
       "      <th>4</th>\n",
       "      <td>2</td>\n",
       "      <td>13</td>\n",
       "      <td>30</td>\n",
       "      <td>180</td>\n",
       "      <td>10</td>\n",
       "      <td>100</td>\n",
       "      <td>37</td>\n",
       "      <td>21</td>\n",
       "      <td>3700</td>\n",
       "      <td>2100</td>\n",
       "      <td>1.761905</td>\n",
       "    </tr>\n",
       "  </tbody>\n",
       "</table>\n",
       "</div>"
      ],
      "text/plain": [
       "   group number  time (hr)  time (min)  time since start (min)  \\\n",
       "0             1         10          30                       0   \n",
       "1             2         10          30                       0   \n",
       "2             2         11          45                      75   \n",
       "3             2         12          30                     120   \n",
       "4             2         13          30                     180   \n",
       "\n",
       "   dilution factor  µL plated  number of wildtype colonies  \\\n",
       "0               10        100                           87   \n",
       "1               10        100                           98   \n",
       "2               10        100                           46   \n",
       "3               10        100                           88   \n",
       "4               10        100                           37   \n",
       "\n",
       "   number of delta colonies  wildtype / mL  delta / mL     ratio  \n",
       "0                       106           8700       10600  0.820755  \n",
       "1                       110           9800       11000  0.890909  \n",
       "2                        42           4600        4200  1.095238  \n",
       "3                       107           8800       10700  0.822430  \n",
       "4                        21           3700        2100  1.761905  "
      ]
     },
     "execution_count": 4,
     "metadata": {},
     "output_type": "execute_result"
    }
   ],
   "source": [
    "# load in the data, you will need to change the path to the file\n",
    "data = pd.read_csv(\"../../data/competition_experiments/plate_colony_data/colony_counting_20200225.csv\")\n",
    "data[\"ratio\"] = data[\"wildtype / mL\"] / data[\"delta / mL\"]\n",
    "data.head()"
   ]
  },
  {
   "cell_type": "code",
   "execution_count": 3,
   "metadata": {},
   "outputs": [
    {
     "data": {
      "image/png": "[encoded data removed]",
      "text/plain": [
       "<Figure size 432x288 with 1 Axes>"
      ]
     },
     "metadata": {
      "needs_background": "light"
     },
     "output_type": "display_data"
    }
   ],
   "source": [
    "# plot\n",
    "times = data[\"time since start (min)\"]\n",
    "N_wildtype = data[\"wildtype / mL\"]\n",
    "N_delta = data[\"delta / mL\"]\n",
    "\n",
    "plt.plot(times, N_wildtype, 'r.')\n",
    "plt.plot(times, N_delta, 'b.')\n",
    "plt.xlabel(\"time (min)\")\n",
    "plt.ylabel(\"cells / mL\")\n",
    "plt.legend([\"wildtype\", \"∆lac\"]);"
   ]
  },
  {
   "cell_type": "markdown",
   "metadata": {},
   "source": [
    "Great! This looks like what we expected! Wildtype is definitely taking over. Now let's consider the ratio of wildtype over the delta strain over time. If these two strains are both growing expontially, then we expect their ratio to be exponential as well. "
   ]
  },
  {
   "cell_type": "code",
   "execution_count": 4,
   "metadata": {},
   "outputs": [
    {
     "data": {
      "image/png": "[encoded data removed]",
      "text/plain": [
       "<Figure size 432x288 with 1 Axes>"
      ]
     },
     "metadata": {
      "needs_background": "light"
     },
     "output_type": "display_data"
    }
   ],
   "source": [
    "plt.plot(times, data[\"ratio\"], 'r.')\n",
    "plt.xlabel(\"time (min)\")\n",
    "plt.ylabel(\"wt / delta\");"
   ]
  },
  {
   "cell_type": "markdown",
   "metadata": {},
   "source": [
    "## Computing a selection coefficient"
   ]
  },
  {
   "cell_type": "markdown",
   "metadata": {},
   "source": [
    "As we saw by eye, the wildtype strain takes over. Fitting an expoential to the ratio will elucidate the selection coefficient. The ratio of two exponentially growing strains will look like this over time, where $r_1$ and $r_2$ are the corresponding growth rate:\n",
    "\n",
    "$$ \\frac{N_1(t)}{N_2(t)} = \n",
    "\\frac{N_1(0) e^{r_1t}}{N_2(0) e^{r_2t}} = \n",
    "\\frac{N_1(0)}{N_2(0)} e^{(r_1-r_2)t} $$\n",
    "\n",
    "Let's determine the best fit for data above to get at this difference in growth date, or the selection coefficient. Let's first define an exponetial fucnction, the function we wish to fit."
   ]
  },
  {
   "cell_type": "code",
   "execution_count": 5,
   "metadata": {},
   "outputs": [],
   "source": [
    "def exp_curve(times, A, b):\n",
    "    \n",
    "    return A * np.exp(b*times)"
   ]
  },
  {
   "cell_type": "markdown",
   "metadata": {},
   "source": [
    "Now, we will use scipy's optimize function to get the best fit. The inputs to the function are:\n",
    "- The function we are fitting, `exp_curve()` in this case\n",
    "- The x-values of our data\n",
    "- The y-values of our data\n",
    "- The lower bounds and upper bounds on our parameters (A and b in order)"
   ]
  },
  {
   "cell_type": "code",
   "execution_count": 6,
   "metadata": {},
   "outputs": [],
   "source": [
    "popt_ratio, _ = scipy.optimize.curve_fit(exp_curve, \n",
    "                                         data[\"time since start (min)\"], \n",
    "                                         data[\"ratio\"],\n",
    "                                         bounds=([0.01, 1/1000], [2, 1/10]))"
   ]
  },
  {
   "cell_type": "markdown",
   "metadata": {},
   "source": [
    "Let's see what parameters we got!"
   ]
  },
  {
   "cell_type": "code",
   "execution_count": 7,
   "metadata": {},
   "outputs": [
    {
     "name": "stdout",
     "output_type": "stream",
     "text": [
      "Fit for A: 0.60192\n",
      "Fit for b: 0.00293 per min\n"
     ]
    }
   ],
   "source": [
    "print(\"Fit for A:\", np.round(popt_ratio[0],5))\n",
    "print(\"Fit for b:\", np.round(popt_ratio[1],5), \"per min\")"
   ]
  },
  {
   "cell_type": "markdown",
   "metadata": {},
   "source": [
    "And let's plot the fit."
   ]
  },
  {
   "cell_type": "code",
   "execution_count": 8,
   "metadata": {},
   "outputs": [
    {
     "data": {
      "image/png": "[encoded data removed]",
      "text/plain": [
       "<Figure size 432x288 with 1 Axes>"
      ]
     },
     "metadata": {
      "needs_background": "light"
     },
     "output_type": "display_data"
    }
   ],
   "source": [
    "# plot data \n",
    "plt.plot(data[\"time since start (min)\"], data[\"ratio\"], 'r.')\n",
    "\n",
    "# time values for making a smooth curve\n",
    "time_range = np.linspace(0, 700, 200)\n",
    "\n",
    "# plot fits\n",
    "plt.plot(time_range, exp_curve(time_range, popt_ratio[0], popt_ratio[1]), color=\"red\")\n",
    "plt.xlabel(\"time (min)\")\n",
    "plt.ylabel(\"wt / detla\");"
   ]
  }
 ],
 "metadata": {
  "kernelspec": {
   "display_name": "Python 3",
   "language": "python",
   "name": "python3"
  },
  "language_info": {
   "codemirror_mode": {
    "name": "ipython",
    "version": 3
   },
   "file_extension": ".py",
   "mimetype": "text/x-python",
   "name": "python",
   "nbconvert_exporter": "python",
   "pygments_lexer": "ipython3",
   "version": "3.7.3"
  }
 },
 "nbformat": 4,
 "nbformat_minor": 2
}
